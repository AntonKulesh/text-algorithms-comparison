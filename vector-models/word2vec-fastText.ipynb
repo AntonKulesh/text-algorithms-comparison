{
 "cells": [
  {
   "cell_type": "markdown",
   "metadata": {
    "collapsed": true
   },
   "source": [
    "# Векторные репрезентации слов и документов\n",
    "# Часть 4. Нейросетевые модели\n",
    "\n",
    "## Оглавление\n",
    "* Word2vec\n",
    "* fastText\n",
    "* GloVe (?)\n",
    "\n",
    "## Введение\n",
    "\n",
    "При обучении таких моделей (predictive models) целевым представлением каждого слова является сжатый вектор относительно небольшого размера (embedding), для которого максимизируется сходство с векторами соседей и минимизируется сходство с векторами слов, его соседями не являющихся. Подобные предсказательные модели представляют семантику естественного языка более точно, чем традиционные счётные модели, не использующие машинное обучение.\n",
    "\n",
    "---\n",
    "## Word2vec\n",
    "\n",
    "**Word2Vec** -- это нейросетевой метод представления слов, который учитывает контекст, при этом уменьшая данные. Фактически, W2V есть два разных алгоритма: *continuous bag of words* (CBOW, непрерывный мешок слов) и *skip-gram*. Задачей метода CBOW является предсказание слова на основании близлежащих слов. У skip-gram обратная задача – предсказание набора близлежащих слов на основании одного слова. \n",
    "\n",
    "**Архитектура алгоритмов word2vec**  \n",
    "\n",
    "<img src=https://cdn-images-1.medium.com/max/800/1*oi6grP1lnWWLCbRWaabiGA.png width=\"600\">\n",
    "<center>Tomas Mikolov. *Efficient Estimation of Word Representations in Vector Space*</center>\n",
    "\n",
    "Первоначально каждое слово в словаре – случайный N-мерный вектор. Во время обучения алгоритм формирует оптимальный вектор для каждого слова так, чтобы векторы, соответствующие близким по смыслу словам, имели \"сильную\" косинусную близость, а далекие по смыслу слова -- \"слабую\". \n",
    "\n",
    "В качестве входных данных для алгоритма классификации можно использовать усредненный вектор, полученный из всех векторов слов документа. Однако в этом случае игнорируется порядок слов.  \n",
    "\n",
    "**Резюме**\n",
    "* Векторы вначале инициализируются случайными числами.\n",
    "* Компоненты вектора -- обобщенные свойства семантического пространства\n",
    "* Два обучающих алгоритма.\n",
    "* Не поддерживает динамическое добавление новых слов. \n",
    "* Чтобы наблюдать сильные закономерности в векторном пространстве слов необходимо, чтобы модель быть обучена на большом наборе данных (до сотен миллиардов слов).\n",
    "* Как оценить качество алгоритма? Качество модели зависит от размера обучающего набора данных, алгоритма, размера векторов.\n",
    "\n",
    "**Проверить!** Чем чаще слово встречается в языке тем длиннее его вектор (упорядочить по частоте и посчитать L^2- норму)\n"
   ]
  },
  {
   "cell_type": "markdown",
   "metadata": {},
   "source": [
    "## Загрузка данных\n",
    "Задействование всех доступных виртуальных ядер [ссылка](https://software.intel.com/en-us/forums/intel-math-kernel-library/topic/294954)"
   ]
  },
  {
   "cell_type": "code",
   "execution_count": 1,
   "metadata": {
    "collapsed": false
   },
   "outputs": [
    {
     "name": "stdout",
     "output_type": "stream",
     "text": [
      "env: MKL_DYNAMIC=FALSE\n",
      "env: MKL_NUM_THREADS=8\n"
     ]
    }
   ],
   "source": [
    "%env MKL_DYNAMIC=FALSE\n",
    "%env MKL_NUM_THREADS=8"
   ]
  },
  {
   "cell_type": "markdown",
   "metadata": {},
   "source": [
    "Необходимые библиотеки"
   ]
  },
  {
   "cell_type": "code",
   "execution_count": 2,
   "metadata": {
    "collapsed": false
   },
   "outputs": [],
   "source": [
    "import os\n",
    "import warnings\n",
    "warnings.filterwarnings('ignore')\n",
    "\n",
    "# Timing\n",
    "import time\n",
    "\n",
    "# For text analysis\n",
    "import gensim\n",
    "import fasttext\n",
    "from nltk.corpus import stopwords\n",
    "stop = set(stopwords.words('english'))\n",
    "from gensim.models import word2vec\n",
    "from gensim.models.phrases import Phrases, Phraser\n",
    "from sklearn.feature_extraction.text import CountVectorizer, TfidfTransformer\n",
    "from sklearn.pipeline import Pipeline\n",
    "\n",
    "# For working with DataFrames and arrays\n",
    "import csv\n",
    "import random\n",
    "import pickle\n",
    "import numpy as np \n",
    "import pandas as pd\n",
    "from collections import Counter\n",
    "from scipy.stats import spearmanr\n",
    "\n",
    "# Vizualization\n",
    "import seaborn as sns\n",
    "import matplotlib.pyplot as plt\n",
    "%matplotlib inline"
   ]
  },
  {
   "cell_type": "markdown",
   "metadata": {},
   "source": [
    "Сериализация объектов и обратная загрузка"
   ]
  },
  {
   "cell_type": "code",
   "execution_count": 3,
   "metadata": {
    "collapsed": true
   },
   "outputs": [],
   "source": [
    "def pickling_data(name, data):\n",
    "    out = open(name + '.pkl', 'wb')\n",
    "    pickle.dump(data, out)\n",
    "    out.close()\n",
    "    \n",
    "def load_data(name):\n",
    "    pkl_file = open(name, 'rb')\n",
    "    data = pickle.load(pkl_file)\n",
    "    pkl_file.close()\n",
    "    return data"
   ]
  },
  {
   "cell_type": "markdown",
   "metadata": {},
   "source": [
    ">**Замечание!**   \n",
    "Доступ к корпусам (моделям) можно получить по ссылке[добавить]"
   ]
  },
  {
   "cell_type": "code",
   "execution_count": 4,
   "metadata": {
    "collapsed": false
   },
   "outputs": [
    {
     "name": "stdout",
     "output_type": "stream",
     "text": [
      "Corpora size: 164197\n"
     ]
    }
   ],
   "source": [
    "path_data = '~/'\n",
    "path_to_w2v = '/home/kulesh271828/arxiv/models/word2vec/'\n",
    "file = path_data + 'corpora_lem.csv'\n",
    "\n",
    "arxiv_id = pd.read_csv(path_data + 'corpora_lem.csv', chunksize=1, usecols=['arxiv_id'])\n",
    "n_corpora = len([_id for _id in arxiv_id])\n",
    "print(\"Corpora size: %d\" % n_corpora)"
   ]
  },
  {
   "cell_type": "markdown",
   "metadata": {},
   "source": [
    "\"Ленивая\" загрузка корпуса"
   ]
  },
  {
   "cell_type": "code",
   "execution_count": 5,
   "metadata": {
    "collapsed": true
   },
   "outputs": [],
   "source": [
    "alphabet = 'abcdefghijklmnopqrstuvwxyz'\n",
    "\n",
    "class LazyCorpora:\n",
    "    def __init__(self, file, n, collocation=False, reduce=1, merge=False):\n",
    "        self.file = file\n",
    "        self.n = n\n",
    "        self.collocation = collocation\n",
    "        self.reduce = reduce\n",
    "        self.merge = merge\n",
    "    \n",
    "    def __iter__(self):\n",
    "        chunks = pd.read_csv(self.file, iterator=True, encoding = \"ISO-8859-1\")\n",
    "        \n",
    "        for i in range(self.n):\n",
    "            row = chunks.read(1)\n",
    "            content = row['text'].values[0]\n",
    "            condition = len(content.split()) < 15000 and i%self.reduce == 0\n",
    "            if condition:\n",
    "                if not self.collocation:\n",
    "                    doc = content.split()\n",
    "                else:\n",
    "                    doc = self.collocation[content.split()]\n",
    "                doc = [token for token in doc if token[0] in alphabet]\n",
    "                if self.merge:\n",
    "                    yield ' '.join(doc) \n",
    "                else:\n",
    "                    yield doc"
   ]
  },
  {
   "cell_type": "code",
   "execution_count": 6,
   "metadata": {
    "collapsed": true
   },
   "outputs": [],
   "source": [
    "corpora = LazyCorpora(file, n_corpora, reduce=1)"
   ]
  },
  {
   "cell_type": "code",
   "execution_count": 7,
   "metadata": {
    "collapsed": false
   },
   "outputs": [
    {
     "name": "stdout",
     "output_type": "stream",
     "text": [
      "['the', 'goal', 'of', 'this', 'paper', 'be', 'to', 'construct', 'invariant', 'dynamical', 'object', 'for', 'not', 'necessarily', 'invertible', 'smooth', 'self', 'map', 'of', 'compact', 'manifold', 'we', 'prove', 'result', 'that', 'take', 'advantage', 'of', 'difference', 'in', 'rat', 'of', 'expansion', 'in', 'the', 'term', 'of', 'sheaf', 'cohomological', 'long', 'exact', 'sequence', 'to', 'create', 'unique', 'lift', 'of', 'finite', 'dimensional', 'invariant', 'subspace', 'of', 'one', 'term', 'of', 'the', 'sequence', 'to', 'invariant', 'subspace', 'of', 'the', 'precede', 'term', 'this', 'allow', 'to', 'take', 'invariant', 'cohomological', 'class', 'and', 'under', 'the', 'right', 'circumstance', 'construct', 'unique', 'current', 'of', 'give', 'type', 'include', 'unique', 'measure', 'of', 'give', 'type', 'that', 'represent', 'those', 'class', 'and', 'be', 'invariant', 'under', 'pullback', 'dynamically', 'interest', 'self']\n"
     ]
    }
   ],
   "source": [
    "for doc in corpora:\n",
    "    print(doc[:100])\n",
    "    break"
   ]
  },
  {
   "cell_type": "markdown",
   "metadata": {},
   "source": [
    "## Ключевые параметры\n",
    "[ссылка]\n",
    "\n",
    "**size** -- размер вектора (100-500)\n",
    "- Чем меньше размер тем быстрее обучение; \n",
    "- Большой размер -- медленное обучение; \n",
    "\n",
    "**window** -- Размер окна (2-10)\n",
    "- Узкое окно -- прямые взаимосвязи между словами\n",
    "- Широкое окно -- тематические взаимосвязей между словами\n",
    "- Предложение: на каждой эпохе обучения менять ширину окна (случайный выбор из фиксированного диапазона)\n",
    "\n",
    "\n",
    "**negative** -- Количество негативных сэмплов (5-25) -- чем больше корпус тем меньше  \n",
    "**iter** -- Количество эпох (по умолчанию 5)\n",
    "\n",
    "#### Алгоритм обучения\n",
    "- CBOW\n",
    "- Skip-gram (медленнее обучается, но точнее) "
   ]
  },
  {
   "cell_type": "markdown",
   "metadata": {},
   "source": [
    "## Обучение моделей с параметрами по умолчанию"
   ]
  },
  {
   "cell_type": "code",
   "execution_count": null,
   "metadata": {
    "collapsed": true
   },
   "outputs": [],
   "source": [
    "print(\"Training CBOW model...\")\n",
    "%time model_cbow = word2vec.Word2Vec(corpora, sg=0, workers=8) \n",
    "model_cbow.wv.save_word2vec_format(path_to_w2v + 'w2v_cbow_100.bin', binary=True)\n",
    "\n",
    "print(\"Training Skip-gram model...\")\n",
    "%time model_sg = word2vec.Word2Vec(corpora, sg=1, workers=8) \n",
    "model_sg.wv.save_word2vec_format(path_to_w2v + 'w2v_sg_100.bin',  binary=True)"
   ]
  },
  {
   "cell_type": "markdown",
   "metadata": {},
   "source": [
    ">**Время обучение**\n",
    "    1. CBOW: ~38min  \n",
    "    2. Skip-gram: ~ 1h 23min"
   ]
  },
  {
   "cell_type": "markdown",
   "metadata": {
    "collapsed": true
   },
   "source": [
    "## Векторное пространство слов"
   ]
  },
  {
   "cell_type": "code",
   "execution_count": 74,
   "metadata": {
    "collapsed": true
   },
   "outputs": [],
   "source": [
    "# Загрузка модели\n",
    "#\n",
    "model = word2vec.KeyedVectors.load_word2vec_format(path_to_w2v + 'w2v_cbow_100.bin', binary=True)"
   ]
  },
  {
   "cell_type": "code",
   "execution_count": 76,
   "metadata": {
    "collapsed": false
   },
   "outputs": [
    {
     "data": {
      "text/plain": [
       "[('disk', 0.7809439897537231),\n",
       " ('disc', 0.7596030235290527),\n",
       " ('hypersphere', 0.7080216407775879),\n",
       " ('cube', 0.7059262990951538),\n",
       " ('sphere', 0.6997416019439697),\n",
       " ('circle', 0.6759076714515686),\n",
       " ('annulus', 0.6644521951675415),\n",
       " ('circumference', 0.6501538157463074),\n",
       " ('polydisc', 0.6473246216773987),\n",
       " ('radius', 0.6429730653762817)]"
      ]
     },
     "execution_count": 76,
     "metadata": {},
     "output_type": "execute_result"
    }
   ],
   "source": [
    "model.most_similar('ball')"
   ]
  },
  {
   "cell_type": "markdown",
   "metadata": {},
   "source": [
    "Вектор слова *ball*"
   ]
  },
  {
   "cell_type": "code",
   "execution_count": 78,
   "metadata": {
    "collapsed": false
   },
   "outputs": [
    {
     "name": "stdout",
     "output_type": "stream",
     "text": [
      "[  6.08102894e+00  -1.50791204e+00   3.58785123e-01  -1.24766362e+00\n",
      "   1.45958960e+00   1.16289747e+00  -7.34277904e-01   1.28115430e-01\n",
      "   4.68861866e+00   1.32781398e+00   5.04257500e-01  -3.02266312e+00\n",
      "  -2.26002908e+00   2.10513568e+00  -2.57716680e+00   6.53858948e+00\n",
      "   3.83354473e+00  -3.17009985e-01  -2.41870618e+00   2.12432981e-01\n",
      "  -2.84367025e-01  -1.09343600e+00  -3.82450037e-02  -3.31872368e+00\n",
      "  -2.22669864e+00   1.74384737e+00   6.61261305e-02  -6.13730609e-01\n",
      "  -9.00447547e-01  -3.63534045e+00   2.00808740e+00  -1.03271377e+00\n",
      "  -4.12039548e-01  -4.62734795e+00   3.27670050e+00  -1.36407089e+00\n",
      "  -1.80336922e-01   2.17404556e+00  -5.66400230e-01   4.80360317e+00\n",
      "   2.38684249e+00  -2.00334001e+00  -3.53684521e+00  -2.25017571e+00\n",
      "  -6.64976314e-02   2.38587126e-01  -3.02377391e+00  -8.02234635e-02\n",
      "   4.68977988e-01   3.24792933e+00   7.85880268e-01  -2.15629292e+00\n",
      "  -3.74805808e+00   1.85132706e+00   1.51742971e+00  -3.06777358e+00\n",
      "  -2.37931180e+00  -8.80029276e-02   3.22165161e-01   2.01174110e-01\n",
      "   4.84334278e+00   6.56655502e+00  -1.94032288e+00  -1.26925457e+00\n",
      "  -5.49663210e+00   1.41852212e+00  -2.74228954e+00   1.60987091e+00\n",
      "  -3.73398614e+00   5.67393303e-01   1.01307678e+00   1.74017501e+00\n",
      "   8.69735122e-01   2.51839352e+00   1.42955339e+00  -3.08441925e+00\n",
      "  -9.96948183e-02   1.12439835e+00   1.39356029e+00  -2.83607543e-01\n",
      "   3.07876873e+00  -5.25696087e+00   2.07838044e-03  -2.08815408e+00\n",
      "  -4.28457260e+00   2.07254720e+00   2.54567057e-01  -4.14131701e-01\n",
      "   2.39065266e+00   6.82588696e-01   1.59249604e+00   2.98660684e+00\n",
      "  -1.78608918e+00  -7.59271204e-01  -2.40476561e+00  -1.69268298e+00\n",
      "   1.59360158e+00   4.14994568e-01  -3.07208967e+00  -2.05802107e+00]\n"
     ]
    }
   ],
   "source": [
    "print(model['ball'])"
   ]
  },
  {
   "cell_type": "code",
   "execution_count": null,
   "metadata": {
    "collapsed": true
   },
   "outputs": [],
   "source": []
  },
  {
   "cell_type": "code",
   "execution_count": 83,
   "metadata": {
    "collapsed": true
   },
   "outputs": [],
   "source": [
    "def bow_with_freq(corpora):\n",
    "    result = Counter()\n",
    "    for s in corpora:\n",
    "        result.update(s)\n",
    "    return list(result.items())"
   ]
  },
  {
   "cell_type": "markdown",
   "metadata": {},
   "source": [
    "Определяем частоту употребления каждого токена в корпусе"
   ]
  },
  {
   "cell_type": "code",
   "execution_count": 84,
   "metadata": {
    "collapsed": false
   },
   "outputs": [
    {
     "name": "stdout",
     "output_type": "stream",
     "text": [
      "CPU times: user 19min 57s, sys: 3.75 s, total: 20min\n",
      "Wall time: 20min 20s\n"
     ]
    }
   ],
   "source": [
    "%%time\n",
    "\n",
    "bow = bow_with_freq(corpora)\n",
    "token_counts = pd.DataFrame(bow, columns=['token', 'count'])\n",
    "sorted_tokens = token_counts.sort('count', ascending=False).set_index('token')"
   ]
  },
  {
   "cell_type": "code",
   "execution_count": 85,
   "metadata": {
    "collapsed": true
   },
   "outputs": [],
   "source": [
    "#sorted_tokens.to_csv('sorted_tokens.csv')"
   ]
  },
  {
   "cell_type": "code",
   "execution_count": 86,
   "metadata": {
    "collapsed": false
   },
   "outputs": [
    {
     "data": {
      "text/html": [
       "<div>\n",
       "<table border=\"1\" class=\"dataframe\">\n",
       "  <thead>\n",
       "    <tr style=\"text-align: right;\">\n",
       "      <th></th>\n",
       "      <th>count</th>\n",
       "    </tr>\n",
       "    <tr>\n",
       "      <th>token</th>\n",
       "      <th></th>\n",
       "    </tr>\n",
       "  </thead>\n",
       "  <tbody>\n",
       "    <tr>\n",
       "      <th>the</th>\n",
       "      <td>36048972</td>\n",
       "    </tr>\n",
       "    <tr>\n",
       "      <th>of</th>\n",
       "      <td>20015510</td>\n",
       "    </tr>\n",
       "    <tr>\n",
       "      <th>be</th>\n",
       "      <td>17016892</td>\n",
       "    </tr>\n",
       "    <tr>\n",
       "      <th>in</th>\n",
       "      <td>11029692</td>\n",
       "    </tr>\n",
       "    <tr>\n",
       "      <th>and</th>\n",
       "      <td>9808922</td>\n",
       "    </tr>\n",
       "  </tbody>\n",
       "</table>\n",
       "</div>"
      ],
      "text/plain": [
       "          count\n",
       "token          \n",
       "the    36048972\n",
       "of     20015510\n",
       "be     17016892\n",
       "in     11029692\n",
       "and     9808922"
      ]
     },
     "execution_count": 86,
     "metadata": {},
     "output_type": "execute_result"
    }
   ],
   "source": [
    "sorted_tokens.head()"
   ]
  },
  {
   "cell_type": "code",
   "execution_count": 94,
   "metadata": {
    "collapsed": false
   },
   "outputs": [
    {
     "data": {
      "text/plain": [
       "[('of', 0.68626868724823),\n",
       " ('this', 0.6104280948638916),\n",
       " ('where', 0.5966664552688599),\n",
       " ('these', 0.5781266689300537),\n",
       " ('and', 0.5715780258178711),\n",
       " ('which', 0.5534350872039795),\n",
       " ('our', 0.5526567101478577),\n",
       " ('in', 0.5462207794189453),\n",
       " ('it', 0.5201606154441833),\n",
       " ('by', 0.518502414226532)]"
      ]
     },
     "execution_count": 94,
     "metadata": {},
     "output_type": "execute_result"
    }
   ],
   "source": [
    "model.most_similar('the')"
   ]
  },
  {
   "cell_type": "markdown",
   "metadata": {},
   "source": [
    "Проверим существует ли зависимость между частотой употребления термина и евклидовой нормой соответствующего вектора"
   ]
  },
  {
   "cell_type": "code",
   "execution_count": 129,
   "metadata": {
    "collapsed": false
   },
   "outputs": [
    {
     "data": {
      "image/png": "[encoded data removed]",
      "text/plain": [
       "<matplotlib.figure.Figure at 0x7f74d13ec588>"
      ]
     },
     "metadata": {},
     "output_type": "display_data"
    }
   ],
   "source": [
    "df = sorted_tokens[sorted_tokens['count'] > 20]\n",
    "tokens = df.index\n",
    "counts = df.count\n",
    "norm = [np.linalg.norm(model[token]) for token in tokens]\n",
    "df['norm'] = norm\n",
    "data = df.sort_values(by='norm', ascending=False)\n",
    "\n",
    "# Plotting\n",
    "#\n",
    "plt.figure(figsize=(16,12))\n",
    "\n",
    "plt.subplot(2,1,1)\n",
    "plt.plot(data['count'], data['norm'], 'o', alpha=0.5, ms=7.)\n",
    "plt.title(\"l2-норма векторов слов\", size=16)\n",
    "plt.xlabel(\"Частота слова\", size=14)\n",
    "plt.ylabel(\"l2-норма\", size=14)\n",
    "\n",
    "plt.subplot(2,1,2)\n",
    "ind = list(set(data.index) - stop)\n",
    "data = data.loc[ind]\n",
    "plt.plot(data['count'], data['norm'], 'o', alpha=0.5, ms=7.)\n",
    "plt.title(\"l2-норма векторов слов (без стоп-слов)\", size=16)\n",
    "plt.xlabel(\"Частота слова\", size=14)\n",
    "plt.ylabel(\"l2-норма\", size=14)\n",
    "\n",
    "plt.show()"
   ]
  },
  {
   "cell_type": "code",
   "execution_count": 143,
   "metadata": {
    "collapsed": false
   },
   "outputs": [
    {
     "name": "stdout",
     "output_type": "stream",
     "text": [
      "Коэффицент корреляции Спирмена: 0.016\n"
     ]
    }
   ],
   "source": [
    "print(\"Коэффицент корреляции Спирмена: %.3f\" % spearmanr(data['count'], data['norm']).correlation)"
   ]
  },
  {
   "cell_type": "markdown",
   "metadata": {},
   "source": [
    "Видим, что не наблюдается зависимости между частотой термина и величиной l2-нормы соответствующего вектора"
   ]
  },
  {
   "cell_type": "markdown",
   "metadata": {},
   "source": [
    "## Изменение параметров моделей\n",
    "**CBOW**"
   ]
  },
  {
   "cell_type": "code",
   "execution_count": null,
   "metadata": {
    "collapsed": false
   },
   "outputs": [],
   "source": [
    "%%time\n",
    "\n",
    "model_cbow = word2vec.Word2Vec(corpora, min_count=20, window=10, size=200, workers=8)"
   ]
  },
  {
   "cell_type": "code",
   "execution_count": 23,
   "metadata": {
    "collapsed": false
   },
   "outputs": [
    {
     "data": {
      "text/plain": [
       "{'hexagon': 0.6999695301055908,\n",
       " 'hypotenuse': 0.6048201322555542,\n",
       " 'octahedron': 0.5935043096542358,\n",
       " 'parallelogram': 0.671776533126831,\n",
       " 'pentagon': 0.6806566715240479,\n",
       " 'polygon': 0.604572594165802,\n",
       " 'quadrangle': 0.6268613338470459,\n",
       " 'quadrilateral': 0.667422890663147,\n",
       " 'rhombus': 0.6279386281967163,\n",
       " 'tetrahedron': 0.6873685121536255}"
      ]
     },
     "execution_count": 23,
     "metadata": {},
     "output_type": "execute_result"
    }
   ],
   "source": [
    "dict(model_cbow.most_similar('triangle'))"
   ]
  },
  {
   "cell_type": "code",
   "execution_count": 20,
   "metadata": {
    "collapsed": true
   },
   "outputs": [],
   "source": [
    "# Saving\n",
    "\n",
    "path_to_model = '/home/a_kulesh/arxiv/models/'\n",
    "model_name = 'cbow_200.bin'\n",
    "model_cbow.wv.save_word2vec_format(path_to_model + model_name, binary=True)"
   ]
  },
  {
   "cell_type": "markdown",
   "metadata": {},
   "source": [
    "**Skip-gram**\n",
    "1. [What is the output of a skip-gram model in Word2Vec?](https://www.quora.com/What-is-the-output-of-a-skip-gram-model-in-Word2Vec)  \n",
    "\n",
    "[Описание]  "
   ]
  },
  {
   "cell_type": "code",
   "execution_count": 8,
   "metadata": {
    "collapsed": false
   },
   "outputs": [
    {
     "name": "stdout",
     "output_type": "stream",
     "text": [
      "CPU times: user 1d 4h 53min 9s, sys: 19.9 s, total: 1d 4h 53min 29s\n",
      "Wall time: 4h 46min 21s\n"
     ]
    }
   ],
   "source": [
    "%%time\n",
    "\n",
    "model_sg = word2vec.Word2Vec(corpora, sg=1, min_count=20, window=10, size=200, workers=8)"
   ]
  },
  {
   "cell_type": "code",
   "execution_count": 80,
   "metadata": {
    "collapsed": false
   },
   "outputs": [
    {
     "data": {
      "text/plain": [
       "{'consequently': 0.5194365978240967,\n",
       " 'cube': 0.5272855758666992,\n",
       " 'equilateral': 0.5584828853607178,\n",
       " 'face': 0.5919212102890015,\n",
       " 'parallelogram': 0.5469095706939697,\n",
       " 'quadrilateral': 0.527830958366394,\n",
       " 'schwarz': 0.5221819281578064,\n",
       " 'segment': 0.5460503697395325,\n",
       " 'star': 0.521024227142334,\n",
       " 'triangulation': 0.5414884686470032}"
      ]
     },
     "execution_count": 80,
     "metadata": {},
     "output_type": "execute_result"
    }
   ],
   "source": [
    "dict(model_sg.most_similar('triangle'))"
   ]
  },
  {
   "cell_type": "code",
   "execution_count": 9,
   "metadata": {
    "collapsed": true
   },
   "outputs": [],
   "source": [
    "# Saving\n",
    "\n",
    "path_to_model = '/home/a_kulesh/arxiv/models/'\n",
    "model_name = 'sg_200.bin'\n",
    "model_sg.wv.save_word2vec_format(path_to_model + model_name, binary=True)"
   ]
  },
  {
   "cell_type": "markdown",
   "metadata": {
    "collapsed": true
   },
   "source": [
    "## Обучение на коллокациях\n",
    "[ссылка]"
   ]
  },
  {
   "cell_type": "code",
   "execution_count": 13,
   "metadata": {
    "collapsed": true
   },
   "outputs": [],
   "source": [
    "bigrams = Phrases(corpora)\n",
    "trigram = Phrases(bigrams[corpora])"
   ]
  },
  {
   "cell_type": "markdown",
   "metadata": {},
   "source": [
    "Транформируем корпус токенов в корпус коллокаций. Для первого документа выведем список коллокаций, которые он содержит."
   ]
  },
  {
   "cell_type": "code",
   "execution_count": 46,
   "metadata": {
    "collapsed": false
   },
   "outputs": [
    {
     "name": "stdout",
     "output_type": "stream",
     "text": [
      "['growth_rate', 'under_consideration', 'canonically_identify', 'derham_cohomology', 'dynamical_system', 'rather_than', 'most_importantly', 'other_word', 'growth_rate', 'pull_back', 'self_cohomomorphism', 'short_exact', 'commutative_diagram', 'self_cohomomorphism', 'give_rise', 'cohomologically_expansive', 'sufficiently_large', 'cohomologically_expansive', 'cohomologically_expansive', 'cohomologically_expansive', 'cohomologically_expansive', 'there_exist', 'there_exist', 'cohomologically_expansive', 'cohomologically_expansive', 'great_deal', 'cohomologically_expansive', 'commutative_diagram', 'there_exist', 'cohomologically_expansive', 'sufficiently_large', 'positive_integer', 'absolute_value', 'great_than', 'short_exact', 'there_exist', 'diagram_commute', 'cohomologically_expansive', 'there_exist', 'arbitrarily_large', 'banach_space', 'self_cohomomorphism', 'enough_injectives', 'absolute_value', 'banach_space', 'exponentially_decay', 'self_cohomomorphism', 'short_exact', 'self_cohomomorphism', 'self_cohomomorphism', 'compactly_support', 'finitely_many', 'derham_cohomology', 'immediate_consequence', 'derham_cohomology', 'rather_than', 'mild_regularity', 'turn_out', 'rather_delicate', 'bona_fide', 'sufficiently_large', 'wedge_product', 'exterior_derivative', 'pull_back', 'hand_side', 'right_hand', 'diffeomorphically_onto', 'absolute_value', 'countably_many', 'absolute_value', 'almost_everywhere', 'bona_fide', 'inner_product', 'inner_product', 'inner_product', 'inner_product', 'riemannian_metric', 'smoothly_vary', 'inner_product', 'banach_space', 'riemannian_metric', 'ad_hoc', 'at_least', 'riemannian_metric', 'keep_track', 'partial_derivative', 'partial_derivative', 'derham_cohomology', 'there_exist', 'canonically_identify', 'short_exact', 'short_exact', 'lebesgue_measure', 'orientation_reverse', 'radon_measure', 'radon_measure', 'orientation_reverse', 'pull_back', 'grow_exponentially', 'push_forward', 'riemannian_metric', 'derham_cohomology', 'there_exist', 'short_exact', 'banach_space', 'banach_space', 'half_plane', 'wedge_product', 'reference_cite', 'riemann_sphere', 'kahler_manifold', 'wide_variety', 'pull_back', 'self_cohomomorphism', 'short_exact', 'imaginary_part', 'short_exact', 'great_than', 'line_bundle', 'line_bundle', 'very_ample', 'information_about']\n"
     ]
    },
    {
     "name": "stderr",
     "output_type": "stream",
     "text": [
      "/opt/lab/anaconda/envs/py35/lib/python3.5/site-packages/gensim/models/phrases.py:274: UserWarning: For a faster implementation, use the gensim.models.phrases.Phraser class\n",
      "  warnings.warn(\"For a faster implementation, use the gensim.models.phrases.Phraser class\")\n"
     ]
    }
   ],
   "source": [
    "corpora_collocation = LazyCorpora(file, n_corpora, collocation=trigram, reduce=1)\n",
    "\n",
    "for doc in corpora_collocation:\n",
    "    print([d for d in doc if '_' in d])\n",
    "    break"
   ]
  },
  {
   "cell_type": "markdown",
   "metadata": {},
   "source": [
    "**CBOW**"
   ]
  },
  {
   "cell_type": "code",
   "execution_count": 48,
   "metadata": {
    "collapsed": false
   },
   "outputs": [
    {
     "name": "stderr",
     "output_type": "stream",
     "text": [
      "/opt/lab/anaconda/envs/py35/lib/python3.5/site-packages/gensim/models/phrases.py:274: UserWarning: For a faster implementation, use the gensim.models.phrases.Phraser class\n",
      "  warnings.warn(\"For a faster implementation, use the gensim.models.phrases.Phraser class\")\n"
     ]
    },
    {
     "name": "stdout",
     "output_type": "stream",
     "text": [
      "CPU times: user 6h 27min 20s, sys: 24.6 s, total: 6h 27min 45s\n",
      "Wall time: 3h 14min 41s\n"
     ]
    }
   ],
   "source": [
    "%%time\n",
    "\n",
    "model_cbow_col = word2vec.Word2Vec(corpora_collocation, sg=0, min_count=min_count, window=window, size=size, negative=negative, \n",
    "                                     workers=workers)"
   ]
  },
  {
   "cell_type": "code",
   "execution_count": 81,
   "metadata": {
    "collapsed": false
   },
   "outputs": [
    {
     "data": {
      "text/plain": [
       "{'equilateral_triangle': 0.7034749984741211,\n",
       " 'hexagon': 0.7799846529960632,\n",
       " 'octagon': 0.739836573600769,\n",
       " 'parallelogram': 0.7350431084632874,\n",
       " 'pentagon': 0.6857712864875793,\n",
       " 'polygon': 0.7292060256004333,\n",
       " 'quadrangle': 0.7560771703720093,\n",
       " 'quadrilateral': 0.742328405380249,\n",
       " 'rhombus': 0.7280043363571167,\n",
       " 'tetrahedron': 0.7344236969947815}"
      ]
     },
     "execution_count": 81,
     "metadata": {},
     "output_type": "execute_result"
    }
   ],
   "source": [
    "dict(model_cbow_col.most_similar('triangle'))"
   ]
  },
  {
   "cell_type": "code",
   "execution_count": 49,
   "metadata": {
    "collapsed": true
   },
   "outputs": [],
   "source": [
    "# Saving\n",
    "\n",
    "path_to_model = '/home/a_kulesh/arxiv/models/'\n",
    "model_name = 'cbow_200_trigram.bin'\n",
    "model_cbow_col.wv.save_word2vec_format(path_to_model + model_name, binary=True)"
   ]
  },
  {
   "cell_type": "markdown",
   "metadata": {
    "collapsed": true
   },
   "source": [
    "**Skip-gram**"
   ]
  },
  {
   "cell_type": "code",
   "execution_count": 56,
   "metadata": {
    "collapsed": false
   },
   "outputs": [
    {
     "name": "stdout",
     "output_type": "stream",
     "text": [
      "CPU times: user 1d 5h 52min 28s, sys: 32.4 s, total: 1d 5h 53min\n",
      "Wall time: 4h 9min 57s\n"
     ]
    }
   ],
   "source": [
    "%%time\n",
    "\n",
    "model_sg_col = word2vec.Word2Vec(corpora_collocation, sg=1, min_count=min_count, window=window, size=size, negative=negative,\n",
    "                                     workers=workers)"
   ]
  },
  {
   "cell_type": "code",
   "execution_count": 131,
   "metadata": {
    "collapsed": false
   },
   "outputs": [
    {
     "data": {
      "text/plain": [
       "[('face', 0.6798551082611084),\n",
       " ('polygon', 0.6724768877029419),\n",
       " ('parallelogram', 0.6340784430503845),\n",
       " ('hexagon', 0.6292155981063843),\n",
       " ('triangulation', 0.613510251045227),\n",
       " ('cube', 0.6063944101333618),\n",
       " ('corner', 0.6031452417373657),\n",
       " ('segment', 0.601087212562561),\n",
       " ('rectangle', 0.600116491317749),\n",
       " ('quadrilateral', 0.5888450145721436)]"
      ]
     },
     "execution_count": 131,
     "metadata": {},
     "output_type": "execute_result"
    }
   ],
   "source": [
    "model_sg_col.most_similar('triangle')"
   ]
  },
  {
   "cell_type": "code",
   "execution_count": 163,
   "metadata": {
    "collapsed": true
   },
   "outputs": [],
   "source": [
    "# Saving\n",
    "\n",
    "model_name = 'sg_200_trigram.bin'\n",
    "model_sg_col.wv.save_word2vec_format(path_to_model + model_name, binary=True)"
   ]
  },
  {
   "cell_type": "markdown",
   "metadata": {},
   "source": [
    "## Корректировка параметров\n",
    "- Варьирование контекстного окна  (отмена)\n",
    "- Увеличение размера слоя  \n",
    "- Увеличение количества эпох обучения (отмена)"
   ]
  },
  {
   "cell_type": "code",
   "execution_count": 69,
   "metadata": {
    "collapsed": false
   },
   "outputs": [
    {
     "data": {
      "text/plain": [
       "['open_ball']"
      ]
     },
     "execution_count": 69,
     "metadata": {},
     "output_type": "execute_result"
    }
   ],
   "source": [
    "trigram = Phrases.load('collocation.model')\n",
    "trigram[['open','ball']]"
   ]
  },
  {
   "cell_type": "code",
   "execution_count": 73,
   "metadata": {
    "collapsed": false
   },
   "outputs": [],
   "source": [
    "#corpora_collocation = LazyCorpora(file, n_corpora, collocation=trigram, reduce=1)"
   ]
  },
  {
   "cell_type": "markdown",
   "metadata": {},
   "source": [
    "**CBOW**"
   ]
  },
  {
   "cell_type": "code",
   "execution_count": 76,
   "metadata": {
    "collapsed": false
   },
   "outputs": [
    {
     "name": "stdout",
     "output_type": "stream",
     "text": [
      "CPU times: user 21h 51min, sys: 54.9 s, total: 21h 51min 54s\n",
      "Wall time: 3h 5min 26s\n"
     ]
    }
   ],
   "source": [
    "%%time\n",
    "\n",
    "model_cbow = word2vec.Word2Vec(corpora, sg=0, min_count=20, window=10, size=500, negative=5, workers=8)"
   ]
  },
  {
   "cell_type": "code",
   "execution_count": 77,
   "metadata": {
    "collapsed": true
   },
   "outputs": [],
   "source": [
    "# Saving\n",
    "\n",
    "model_name = 'cbow_500.bin'\n",
    "model_cbow.wv.save_word2vec_format(path_to_w2v + model_name, binary=True)"
   ]
  },
  {
   "cell_type": "code",
   "execution_count": 92,
   "metadata": {
    "collapsed": false
   },
   "outputs": [
    {
     "data": {
      "text/plain": [
       "[('hexagon', 0.5854527354240417),\n",
       " ('tetrahedron', 0.5817880630493164),\n",
       " ('parallelogram', 0.5681203603744507),\n",
       " ('quadrilateral', 0.550495982170105),\n",
       " ('rhombus', 0.544863224029541),\n",
       " ('octagon', 0.5153114795684814),\n",
       " ('pentagon', 0.5127409100532532),\n",
       " ('isosceles', 0.5049142837524414),\n",
       " ('rectangle', 0.4979400932788849),\n",
       " ('polygon', 0.4933820962905884)]"
      ]
     },
     "execution_count": 92,
     "metadata": {},
     "output_type": "execute_result"
    }
   ],
   "source": [
    "model_cbow.most_similar('triangle')"
   ]
  },
  {
   "cell_type": "markdown",
   "metadata": {},
   "source": [
    "**Skip-gram**"
   ]
  },
  {
   "cell_type": "code",
   "execution_count": 78,
   "metadata": {
    "collapsed": false
   },
   "outputs": [
    {
     "name": "stdout",
     "output_type": "stream",
     "text": [
      "CPU times: user 4d 3h 41min 22s, sys: 51.9 s, total: 4d 3h 42min 14s\n",
      "Wall time: 12h 39min 10s\n"
     ]
    }
   ],
   "source": [
    "%%time\n",
    "\n",
    "model_sg = word2vec.Word2Vec(corpora, sg=1, min_count=20, window=10, size=500, negative=5, workers=8)"
   ]
  },
  {
   "cell_type": "code",
   "execution_count": 79,
   "metadata": {
    "collapsed": true
   },
   "outputs": [],
   "source": [
    "# Saving\n",
    "\n",
    "model_name = 'sg_500.bin'\n",
    "model_sg.wv.save_word2vec_format(path_to_w2v + model_name, binary=True)"
   ]
  },
  {
   "cell_type": "code",
   "execution_count": 98,
   "metadata": {
    "collapsed": false
   },
   "outputs": [
    {
     "data": {
      "text/plain": [
       "[('equilateral', 0.46741896867752075),\n",
       " ('segment', 0.45845645666122437),\n",
       " ('face', 0.4561383128166199),\n",
       " ('isosceles', 0.4550643563270569),\n",
       " ('tetrahedron', 0.451308012008667),\n",
       " ('triangulation', 0.444807231426239),\n",
       " ('polygon', 0.4289226830005646),\n",
       " ('triangular', 0.42612844705581665),\n",
       " ('quadrilateral', 0.4230349659919739),\n",
       " ('angle', 0.4180520176887512)]"
      ]
     },
     "execution_count": 98,
     "metadata": {},
     "output_type": "execute_result"
    }
   ],
   "source": [
    "model_sg.most_similar('triangle')"
   ]
  },
  {
   "cell_type": "code",
   "execution_count": null,
   "metadata": {
    "collapsed": true
   },
   "outputs": [],
   "source": []
  },
  {
   "cell_type": "markdown",
   "metadata": {},
   "source": [
    "## fastText\n",
    "[Описание]  \n",
    "![fasttext](https://psv4.userapi.com/c816228/u106286082/docs/c5b725fdd406/fasttext.png?extra=lkAHEgzPA6OuKS7JJgtFHyQzkH6Xzqi-8fuUoghUVLpi_aYkGM9FYQMLzAtG6-Ys5Ah3zK7PkPycnpyIKj9T6P15b8Np8PMB5sGbhbmu8lvsgk3OnFBFFoEKX7E)"
   ]
  },
  {
   "cell_type": "markdown",
   "metadata": {},
   "source": [
    "Преобразование корпуса в необходимый для fasttext формат"
   ]
  },
  {
   "cell_type": "code",
   "execution_count": 9,
   "metadata": {
    "collapsed": false
   },
   "outputs": [],
   "source": [
    "ft_home = '/home/kulesh271828/fastText/fasttext'\n",
    "\n",
    "file = open('corpora.txt', 'w')\n",
    "for doc in corpora:\n",
    "    line = ' '.join(doc)\n",
    "    file.write(line)\n",
    "file.close()"
   ]
  },
  {
   "cell_type": "code",
   "execution_count": 10,
   "metadata": {
    "collapsed": false
   },
   "outputs": [
    {
     "name": "stdout",
     "output_type": "stream",
     "text": [
      "the goal of this paper be to construct invariant dynamical object for not necessarily invertible smooth self map of compact manifold we prove result that take advantage of difference in rat of expansion in the term of sheaf cohomological long exact sequence to create unique lift of finite dimensional invariant subspace of one term of the sequence to invariant subspace of the precede term this allow to take invariant cohomological class and under the right circumstance construct unique current of give type include unique measure of give type that represent those class and be invariant under pullback dynamically interest self map may have plethora of invariant measure so the uniquess of the construct current be important it mean that if local growth be not too big compare to the growth rate of the cohomological class then the expand cohomological class give sufficient march order of any other such invariant current of the same type say from some local dynamical subsystem because we use s\n"
     ]
    }
   ],
   "source": [
    "file = open('corpora.txt', 'r')\n",
    "for line in file:\n",
    "    print(line[:1000])\n",
    "    break"
   ]
  },
  {
   "cell_type": "markdown",
   "metadata": {},
   "source": [
    "### Обучание моделей с параметрами по умолчанию"
   ]
  },
  {
   "cell_type": "code",
   "execution_count": 3,
   "metadata": {
    "collapsed": true
   },
   "outputs": [],
   "source": [
    "# путь к обученным моделям\n",
    "#\n",
    "path_to_models = '/home/kulesh271828/arxiv/models/fasttext/'"
   ]
  },
  {
   "cell_type": "code",
   "execution_count": 4,
   "metadata": {
    "collapsed": false
   },
   "outputs": [
    {
     "name": "stdout",
     "output_type": "stream",
     "text": [
      "Training CBOW model...\n",
      "CPU times: user 9h 5min 14s, sys: 40.9 s, total: 9h 5min 55s\n",
      "Wall time: 1h 9min 12s\n",
      "Training Skip-gram model...\n",
      "CPU times: user 11h 21min 45s, sys: 41.9 s, total: 11h 22min 26s\n",
      "Wall time: 1h 26min 20s\n"
     ]
    }
   ],
   "source": [
    "print(\"Training CBOW model...\")\n",
    "%time model = fasttext.cbow('corpora.txt', path_to_models + 'ft_cbow_100.model', silent=0)\n",
    "\n",
    "print(\"Training Skip-gram model...\")\n",
    "%time model = fasttext.skipgram('corpora.txt', path_to_models + 'ft_sg_100.model', silent=0)"
   ]
  },
  {
   "cell_type": "markdown",
   "metadata": {
    "collapsed": true
   },
   "source": [
    "### Изменение параметров"
   ]
  },
  {
   "cell_type": "markdown",
   "metadata": {},
   "source": [
    "**input_file**     -- путь к корпусу (текстовый документ с кодировкой utf-8)    \n",
    "\n",
    "**output**         -- имя модели и папка сохранения  \n",
    "\n",
    "**lr**            -- параметр обучения [0.05]  \n",
    "\n",
    "**dim**            -- размерность векторов слов [100]  \n",
    "Увеличим размер вектора до 300  \n",
    "\n",
    "**ws**             -- ширина контекстного окна [5]  \n",
    "Увеличим размер окна. Здесь так же, как и в модели w2v, узкое окно улавливает прямые взаимосвязи, а широкое -- тематические \n",
    "\n",
    "**epoch**          -- количество эпох обучения [5]  \n",
    "Чтобы повысить качество обучения, увеличим кол-во эпох вдвое  \n",
    "\n",
    "**min_count**      -- минимальное число всречаемости слова в корпусе [5]  \n",
    "Чтобы сократить размер словаря, увеличим порог до 20 слов\n",
    "\n",
    "**neg**            -- число негативных сэмплов [5]  \n",
    "**word_ngrams**    -- максимальная длина n-грамм слов [1]  \n",
    "Выбрибаем 3-граммы  \n",
    "\n",
    "**loss**           -- функция потерь {ns, hs, softmax} [ns]  \n",
    "\n",
    "**minn**           -- минимальная длина n-грамм символов [3]  \n",
    "\n",
    "**maxn**           -- максимальная длина n-грамм символов [6]  \n",
    "\n",
    "**thread**         -- число ядер [12]  \n",
    "\n",
    "**silent**         -- отключить вывод журнала [1]  "
   ]
  },
  {
   "cell_type": "code",
   "execution_count": 6,
   "metadata": {
    "collapsed": false
   },
   "outputs": [
    {
     "name": "stdout",
     "output_type": "stream",
     "text": [
      "Training CBOW model...\n",
      "CPU times: user 2d 19h 36min 57s, sys: 2min 20s, total: 2d 19h 39min 17s\n",
      "Wall time: 8h 28min 58s\n",
      "Training Skip-gram model...\n",
      "CPU times: user 3d 11h 48min 49s, sys: 3min 16s, total: 3d 11h 52min 6s\n",
      "Wall time: 10h 30min 47s\n"
     ]
    }
   ],
   "source": [
    "print(\"Training CBOW model...\")\n",
    "%time model = fasttext.cbow('corpora.txt', path_to_models + 'ft_cbow_300.model', silent=0, dim = 300, \\\n",
    "                            ws = 8, epoch = 10, min_count = 20, word_ngrams = 3)\n",
    "\n",
    "print(\"Training Skip-gram model...\")\n",
    "%time model = fasttext.skipgram('corpora.txt', path_to_models + 'ft_sg_300.model', silent=0, dim = 300, \\\n",
    "                            ws = 8, epoch = 10, min_count = 20, word_ngrams = 3)"
   ]
  },
  {
   "cell_type": "code",
   "execution_count": 57,
   "metadata": {
    "collapsed": false
   },
   "outputs": [],
   "source": []
  },
  {
   "cell_type": "code",
   "execution_count": null,
   "metadata": {
    "collapsed": true
   },
   "outputs": [],
   "source": []
  },
  {
   "cell_type": "markdown",
   "metadata": {
    "collapsed": true
   },
   "source": [
    "# От вектора слова к вектору документа"
   ]
  },
  {
   "cell_type": "markdown",
   "metadata": {
    "collapsed": true
   },
   "source": [
    "## Word2vec. Средний вектор\n",
    "[Описание]"
   ]
  },
  {
   "cell_type": "code",
   "execution_count": 8,
   "metadata": {
    "collapsed": true
   },
   "outputs": [],
   "source": [
    "#from sklearn.preprocessing import normalize\n",
    "\n",
    "# путь к обученным моделям\n",
    "#\n",
    "path_to_w2v = '/home/kulesh271828/arxiv/models/word2vec/'\n",
    "#n_corpora = sum([1 for doc in corpora])\n",
    "n_corpora = 163100"
   ]
  },
  {
   "cell_type": "code",
   "execution_count": 9,
   "metadata": {
    "collapsed": false
   },
   "outputs": [
    {
     "name": "stdout",
     "output_type": "stream",
     "text": [
      "Размер корпуса: 163100\n"
     ]
    }
   ],
   "source": [
    "print(\"Размер корпуса: %d\" % n_corpora)"
   ]
  },
  {
   "cell_type": "code",
   "execution_count": 69,
   "metadata": {
    "collapsed": false
   },
   "outputs": [],
   "source": [
    "def docVector(words, model, voc, n_features, doc_num, tfidf=False, tf_table=None, idf=False, idf_table=None):\n",
    "    \n",
    "    vector = np.zeros((n_features,), dtype='float32')\n",
    "    nwords = 0.\n",
    "    weigth = 1\n",
    "    \n",
    "    for word in words:\n",
    "        if word in voc and word not in stop: \n",
    "            nwords = nwords + 1.\n",
    "            try: \n",
    "                if tfidf:\n",
    "                    weigth = tf_table[word] * get_idf(idf_table, word, n_corpora)\n",
    "                elif idf:\n",
    "                    weigth = get_idf(idf_table, word, n_corpora)\n",
    "                vector = np.add(vector, weigth * np.array(model[word]))\n",
    "            except KeyError:\n",
    "                continue\n",
    "    vector = np.divide(vector, nwords)\n",
    "    return vector\n",
    "\n",
    "\n",
    "def docsTransformation(documents, model, voc, n_corpora, n_features, tfidf=False, tf_table=None, idf=False):\n",
    "    counter = 0\n",
    "    featureMatrix = np.zeros((n_corpora, n_features), dtype='float32')\n",
    "    \n",
    "    print(\"Making matrix of documents representation...\")\n",
    "    for doc in documents:\n",
    "        if idf or tfidf:\n",
    "            idf_table = Counter(doc)\n",
    "        featureMatrix[counter] = docVector(doc, model, voc, n_features, counter, tfidf, tf_table, idf, idf_table)\n",
    "        counter = counter + 1\n",
    "        if counter%20000 == 0:\n",
    "            print(counter)\n",
    "    return featureMatrix"
   ]
  },
  {
   "cell_type": "code",
   "execution_count": 22,
   "metadata": {
    "collapsed": false
   },
   "outputs": [
    {
     "data": {
      "text/plain": [
       "['w2v_cbow_100.bin',\n",
       " 'w2v_sg_200_trigram.bin',\n",
       " 'w2v_sg_100.bin',\n",
       " 'w2v_cbow_200_trigram.bin',\n",
       " 'w2v_cbow_200.bin',\n",
       " 'w2v_sg_200.bin',\n",
       " 'w2v_cbow_300_trigram.bin',\n",
       " 'w2v_sg_300_trigram.bin']"
      ]
     },
     "execution_count": 22,
     "metadata": {},
     "output_type": "execute_result"
    }
   ],
   "source": [
    "models = [file for file in os.listdir(path_to_w2v) if 'average' not in file]\n",
    "models"
   ]
  },
  {
   "cell_type": "code",
   "execution_count": 30,
   "metadata": {
    "collapsed": false
   },
   "outputs": [
    {
     "data": {
      "text/plain": [
       "[('radius', 0.6426334381103516),\n",
       " ('disk', 0.6296803951263428),\n",
       " ('ham_ball', 0.6273855566978455),\n",
       " ('disc', 0.6203694343566895),\n",
       " ('unit_ball', 0.6092531681060791),\n",
       " ('sphere', 0.5739451050758362),\n",
       " ('concentric_ball', 0.542303204536438),\n",
       " ('spherical_cap', 0.5168668031692505),\n",
       " ('cub', 0.5052310824394226),\n",
       " ('inscribe_ball', 0.5002018213272095)]"
      ]
     },
     "execution_count": 30,
     "metadata": {},
     "output_type": "execute_result"
    }
   ],
   "source": [
    "model = word2vec.KeyedVectors.load_word2vec_format(path_to_w2v + 'w2v_cbow_300_trigram.bin', binary=True)\n",
    "model.most_similar('ball')"
   ]
  },
  {
   "cell_type": "markdown",
   "metadata": {},
   "source": [
    "**Униграммы**"
   ]
  },
  {
   "cell_type": "code",
   "execution_count": 71,
   "metadata": {
    "collapsed": true
   },
   "outputs": [
    {
     "name": "stdout",
     "output_type": "stream",
     "text": [
      "Unigram models transformation\n",
      "w2v_cbow_100.bin\n",
      "Making matrix of documents representation...\n",
      "CPU times: user 53min 55s, sys: 2.52 s, total: 53min 57s\n",
      "Wall time: 1h 9s\n",
      "w2v_sg_100.bin\n",
      "Making matrix of documents representation...\n",
      "CPU times: user 47min 14s, sys: 2.4 s, total: 47min 17s\n",
      "Wall time: 51min 51s\n",
      "w2v_cbow_200.bin\n",
      "Making matrix of documents representation...\n",
      "CPU times: user 1h 2min 36s, sys: 2.82 s, total: 1h 2min 39s\n",
      "Wall time: 1h 10min 12s\n",
      "w2v_sg_200.bin\n",
      "Making matrix of documents representation...\n",
      "CPU times: user 1h 1min 33s, sys: 2.9 s, total: 1h 1min 36s\n",
      "Wall time: 1h 11min 42s\n"
     ]
    }
   ],
   "source": [
    "print(\"Unigram models transformation\")\n",
    "for name in models:\n",
    "    if 'trigram' not in name:\n",
    "        model = word2vec.KeyedVectors.load_word2vec_format(path_to_w2v + name, binary=True)\n",
    "        voc = model.vocab\n",
    "        n_features = len(model.word_vec('set'))\n",
    "        print(name)\n",
    "        %time X = docsTransformation(corpora, model, voc, n_corpora, n_features)\n",
    "        pickling_data(path_to_w2v + 'average_' + name, X)"
   ]
  },
  {
   "cell_type": "code",
   "execution_count": 85,
   "metadata": {
    "collapsed": true
   },
   "outputs": [
    {
     "name": "stdout",
     "output_type": "stream",
     "text": [
      "Collocation models transformation\n",
      "cbow_500_trigram.bin\n",
      "Making matrix of documents representation...\n",
      "CPU times: user 41min 32s, sys: 4.76 s, total: 41min 37s\n",
      "Wall time: 41min 36s\n",
      "\n",
      "\n",
      "sg_500_trigram.bin\n",
      "Making matrix of documents representation...\n",
      "CPU times: user 41min 8s, sys: 5.56 s, total: 41min 14s\n",
      "Wall time: 41min 13s\n",
      "\n",
      "\n"
     ]
    }
   ],
   "source": [
    "added = ['cbow_500.bin','sg_500.bin']\n",
    "\n",
    "corpora_collocation = LazyCorpora(file, n_corpora)\n",
    "\n",
    "print(\"Collocation models transformation\")\n",
    "for name in added:\n",
    "    model = word2vec.KeyedVectors.load_word2vec_format(path_to_w2v + name, binary=True)\n",
    "    voc = model.vocab\n",
    "    n_features = len(model.word_vec('set'))\n",
    "    print(name)\n",
    "    %time X = docsTransformation(collocation, model, voc, n_corpora, n_features)\n",
    "    pickling_data(path_to_w2v + 'average_' + name, X)\n",
    "    print('\\n')"
   ]
  },
  {
   "cell_type": "markdown",
   "metadata": {},
   "source": [
    "**Коллокации**"
   ]
  },
  {
   "cell_type": "code",
   "execution_count": 84,
   "metadata": {
    "collapsed": false
   },
   "outputs": [
    {
     "data": {
      "text/plain": [
       "['open_ball']"
      ]
     },
     "execution_count": 84,
     "metadata": {},
     "output_type": "execute_result"
    }
   ],
   "source": [
    "collocation_model = Phrases.load('collocation.model')\n",
    "collocation_model[['open','ball']]"
   ]
  },
  {
   "cell_type": "code",
   "execution_count": 73,
   "metadata": {
    "collapsed": true
   },
   "outputs": [
    {
     "name": "stdout",
     "output_type": "stream",
     "text": [
      "Collocation models transformation\n",
      "w2v_sg_200_trigram.bin\n",
      "Making matrix of documents representation...\n",
      "CPU times: user 2h 14min 44s, sys: 6.46 s, total: 2h 14min 51s\n",
      "Wall time: 2h 30min 52s\n",
      "w2v_cbow_200_trigram.bin\n",
      "Making matrix of documents representation...\n",
      "CPU times: user 2h 16min 25s, sys: 7.56 s, total: 2h 16min 33s\n",
      "Wall time: 2h 18min 12s\n",
      "w2v_cbow_300_trigram.bin\n",
      "Making matrix of documents representation...\n",
      "CPU times: user 2h 17min 25s, sys: 7.41 s, total: 2h 17min 32s\n",
      "Wall time: 2h 18min 40s\n",
      "w2v_sg_300_trigram.bin\n",
      "Making matrix of documents representation...\n",
      "CPU times: user 2h 2min, sys: 7.19 s, total: 2h 2min 8s\n",
      "Wall time: 2h 3min 36s\n"
     ]
    }
   ],
   "source": [
    "corpora_collocation = LazyCorpora(file, 164197, collocation=collocation_model)\n",
    "\n",
    "print(\"Collocation models transformation\")\n",
    "for name in models:\n",
    "    if 'trigram' in name:\n",
    "        model = word2vec.KeyedVectors.load_word2vec_format(path_to_w2v + name, binary=True)\n",
    "        voc = model.vocab\n",
    "        n_features = len(model.word_vec('set'))\n",
    "        print(name)\n",
    "        %time X = docsTransformation(corpora_collocation, model, voc, n_corpora, n_features)\n",
    "        pickling_data(path_to_w2v + 'average_' + name, X)"
   ]
  },
  {
   "cell_type": "markdown",
   "metadata": {},
   "source": [
    "## Word2vec. Взвешенный средний вектор\n",
    "$$tf-idf(t,d) = tf(t,d) * idf(t)$$\n",
    "$$idf(t) = log\\frac{n_d}{1 + df(d,t)}$$"
   ]
  },
  {
   "cell_type": "markdown",
   "metadata": {
    "collapsed": true
   },
   "source": [
    "### IDF\n",
    "По материалам статьи [Words are not Equal: Graded Weighting Model for building Сomposite Document Vectors](https://arxiv.org/pdf/1512.03549v1.pdf) "
   ]
  },
  {
   "cell_type": "code",
   "execution_count": 12,
   "metadata": {
    "collapsed": true
   },
   "outputs": [],
   "source": [
    "def get_idf(table, word, n_corpora):\n",
    "    df_word = table[word]\n",
    "    return np.log(n_corpora / df_word)"
   ]
  },
  {
   "cell_type": "code",
   "execution_count": 53,
   "metadata": {
    "collapsed": false
   },
   "outputs": [
    {
     "name": "stdout",
     "output_type": "stream",
     "text": [
      "Making matrix of documents representation...\n",
      "20000\n",
      "40000\n",
      "60000\n",
      "80000\n",
      "100000\n",
      "120000\n",
      "140000\n",
      "160000\n",
      "CPU times: user 1h 33min 19s, sys: 12.7 s, total: 1h 33min 32s\n",
      "Wall time: 1h 43min 3s\n",
      "Making matrix of documents representation...\n",
      "20000\n",
      "40000\n",
      "60000\n",
      "80000\n",
      "100000\n",
      "120000\n",
      "140000\n",
      "160000\n",
      "CPU times: user 1h 12min 33s, sys: 2.94 s, total: 1h 12min 36s\n",
      "Wall time: 1h 15min 39s\n"
     ]
    }
   ],
   "source": [
    "names = ['w2v_cbow_500.bin','w2v_sg_500.bin']\n",
    "\n",
    "for name in names:\n",
    "    model = word2vec.KeyedVectors.load_word2vec_format(path_to_w2v + name, binary=True)\n",
    "    voc = model.vocab\n",
    "    n_features = len(model.word_vec('set'))\n",
    "    %time X = docsTransformation(corpora, model, voc, n_corpora, n_features, tfidf=False, idf=True)\n",
    "    pickling_data(path_to_w2v + 'average-idf_' + name[:-4], X)"
   ]
  },
  {
   "cell_type": "markdown",
   "metadata": {},
   "source": [
    "### TF-IDF"
   ]
  },
  {
   "cell_type": "code",
   "execution_count": 14,
   "metadata": {
    "collapsed": false
   },
   "outputs": [
    {
     "data": {
      "text/html": [
       "<div>\n",
       "<table border=\"1\" class=\"dataframe\">\n",
       "  <thead>\n",
       "    <tr style=\"text-align: right;\">\n",
       "      <th></th>\n",
       "      <th>tf</th>\n",
       "    </tr>\n",
       "    <tr>\n",
       "      <th>token</th>\n",
       "      <th></th>\n",
       "    </tr>\n",
       "  </thead>\n",
       "  <tbody>\n",
       "    <tr>\n",
       "      <th>the</th>\n",
       "      <td>36048972</td>\n",
       "    </tr>\n",
       "    <tr>\n",
       "      <th>of</th>\n",
       "      <td>20015510</td>\n",
       "    </tr>\n",
       "    <tr>\n",
       "      <th>be</th>\n",
       "      <td>17016892</td>\n",
       "    </tr>\n",
       "    <tr>\n",
       "      <th>in</th>\n",
       "      <td>11029692</td>\n",
       "    </tr>\n",
       "    <tr>\n",
       "      <th>and</th>\n",
       "      <td>9808922</td>\n",
       "    </tr>\n",
       "  </tbody>\n",
       "</table>\n",
       "</div>"
      ],
      "text/plain": [
       "             tf\n",
       "token          \n",
       "the    36048972\n",
       "of     20015510\n",
       "be     17016892\n",
       "in     11029692\n",
       "and     9808922"
      ]
     },
     "execution_count": 14,
     "metadata": {},
     "output_type": "execute_result"
    }
   ],
   "source": [
    "tf = pd.read_csv('sorted_tokens.csv', index_col='token')\n",
    "tf.columns = ['tf']\n",
    "tf.head()"
   ]
  },
  {
   "cell_type": "code",
   "execution_count": 42,
   "metadata": {
    "collapsed": false
   },
   "outputs": [
    {
     "name": "stdout",
     "output_type": "stream",
     "text": [
      "The slowest run took 51.48 times longer than the fastest. This could mean that an intermediate result is being cached.\n",
      "10000000 loops, best of 3: 92.1 ns per loop\n"
     ]
    }
   ],
   "source": [
    "tf_table = tf.to_dict()['tf']\n",
    "%timeit tf_table['set'] "
   ]
  },
  {
   "cell_type": "code",
   "execution_count": 54,
   "metadata": {
    "collapsed": false
   },
   "outputs": [
    {
     "name": "stdout",
     "output_type": "stream",
     "text": [
      "Making matrix of documents representation...\n",
      "20000\n",
      "40000\n",
      "60000\n",
      "80000\n",
      "100000\n",
      "120000\n",
      "140000\n",
      "160000\n",
      "CPU times: user 1h 5min 59s, sys: 10.3 s, total: 1h 6min 10s\n",
      "Wall time: 1h 12min 36s\n",
      "\n",
      "\n",
      "Making matrix of documents representation...\n",
      "20000\n",
      "40000\n",
      "60000\n",
      "80000\n",
      "100000\n",
      "120000\n",
      "140000\n",
      "160000\n",
      "CPU times: user 54min 35s, sys: 4.06 s, total: 54min 39s\n",
      "Wall time: 58min 23s\n",
      "\n",
      "\n"
     ]
    }
   ],
   "source": [
    "names = ['w2v_cbow_500.bin','w2v_sg_500.bin']\n",
    "\n",
    "for name in names:\n",
    "    model = word2vec.KeyedVectors.load_word2vec_format(path_to_w2v + name, binary=True)\n",
    "    voc = model.vocab\n",
    "    n_features = len(model.word_vec('set'))\n",
    "    %time X = docsTransformation(corpora, model, voc, n_corpora, n_features, tfidf=True, tf_table=tf_table)\n",
    "    pickling_data(path_to_w2v + 'average-tfidf_' + name[:-4], X)\n",
    "    print('\\n')"
   ]
  },
  {
   "cell_type": "markdown",
   "metadata": {
    "collapsed": true
   },
   "source": [
    "## FastText"
   ]
  },
  {
   "cell_type": "code",
   "execution_count": 64,
   "metadata": {
    "collapsed": false
   },
   "outputs": [
    {
     "data": {
      "text/plain": [
       "['ft_cbow_300.model.bin',\n",
       " 'ft_cbow_100.model.bin',\n",
       " '.ipynb_checkpoints',\n",
       " 'ft_sg_300.model.bin',\n",
       " 'ft_cbow_300.model.vec',\n",
       " 'ft_sg_100.model.vec',\n",
       " 'ft_cbow_100.model.vec',\n",
       " 'ft_sg_100.model.bin',\n",
       " 'ft_sg_300.model.vec']"
      ]
     },
     "execution_count": 64,
     "metadata": {},
     "output_type": "execute_result"
    }
   ],
   "source": [
    "path_to_ft = '/home/kulesh271828/arxiv/models/fasttext/'\n",
    "os.listdir(path_to_ft)"
   ]
  },
  {
   "cell_type": "markdown",
   "metadata": {},
   "source": [
    "### Vectors from model"
   ]
  },
  {
   "cell_type": "code",
   "execution_count": null,
   "metadata": {
    "collapsed": true
   },
   "outputs": [],
   "source": [
    "file = file =  '~/corpora_lem.csv'\n",
    "n = 164197\n",
    "texts = LazyCorpora(file, n, merge=True)\n",
    "\n",
    "for text in texts:\n",
    "    t = text\n",
    "    print(t[:1000])\n",
    "    break"
   ]
  },
  {
   "cell_type": "code",
   "execution_count": null,
   "metadata": {
    "collapsed": true
   },
   "outputs": [],
   "source": [
    "def ft_docsTransformation(texts, model, n_corpora=163100):\n",
    "    counter = 0\n",
    "    n_features = model.dim\n",
    "    featureMatrix = np.zeros((n_corpora, n_features), dtype='float32')\n",
    "    \n",
    "    print(\"Making matrix of documents representation...\")\n",
    "    for text in texts:\n",
    "        featureMatrix[counter] = np.array(model[text])\n",
    "        counter = counter + 1\n",
    "        if counter%30000 == 0:\n",
    "            print(counter)\n",
    "    return featureMatrix"
   ]
  },
  {
   "cell_type": "markdown",
   "metadata": {},
   "source": [
    ">ft_cbow_100.model  \n",
    "**CPU times**: user 44min 42s, sys: 7.56 s, total: 44min 49s  \n",
    "**Wall time**: 57min 35s\n",
    "\n",
    ">ft_cbow_300.model  \n",
    "**CPU times**: user 2h 16min 14s, sys: 9.86 s, total: 2h 16min 24s  \n",
    "**Wall time**: 3h 23min 58s  \n",
    "\n",
    ">ft_sg_100.model  \n",
    "**CPU times**: user 1h 28min 34s, sys: 10.7 s, total: 1h 28min 45s  \n",
    "**Wall time**: 1h 50min 27s  \n",
    "\n",
    ">ft_sg_100.model  \n",
    "**CPU times**: user 1h 28min 54s, sys: 4.37 s, total: 1h 28min 58s  \n",
    "**Wall time**: 1h 33min 24s"
   ]
  },
  {
   "cell_type": "markdown",
   "metadata": {},
   "source": [
    "### IDF"
   ]
  },
  {
   "cell_type": "code",
   "execution_count": null,
   "metadata": {
    "collapsed": false
   },
   "outputs": [],
   "source": [
    "names = ['ft_cbow_300.model.bin','ft_sg_300.model.bin']\n",
    "\n",
    "for name in names:\n",
    "    model = fasttext.load_model(path_to_ft + name)\n",
    "    voc = model.words\n",
    "    n_features = model.dim\n",
    "    %time X = docsTransformation(corpora, model, voc, n_corpora, n_features, tfidf=False, idf=True)\n",
    "    pickling_data(path_to_ft + 'average_ft-idf_' + name[:-4], X)"
   ]
  },
  {
   "cell_type": "markdown",
   "metadata": {},
   "source": [
    ">ft_cbow_300.model  \n",
    "**CPU times**: user 3h 5min 15s, sys: 9.78 s, total: 3h 5min 25s  \n",
    "**Wall time**: 4h 7min 45s  \n",
    "\n",
    ">ft_sg_300.model  \n",
    "**CPU times**: user 3h 39min 26s, sys: 6.82 s, total: 3h 39min 33s  \n",
    "**Wall time**: 4h 25min 51s"
   ]
  },
  {
   "cell_type": "code",
   "execution_count": 71,
   "metadata": {
    "collapsed": false
   },
   "outputs": [
    {
     "name": "stdout",
     "output_type": "stream",
     "text": [
      "Making matrix of documents representation...\n",
      "20000\n",
      "40000\n",
      "60000\n",
      "80000\n",
      "100000\n",
      "120000\n",
      "140000\n",
      "160000\n",
      "CPU times: user 3h 37min 52s, sys: 7.64 s, total: 3h 37min 59s\n",
      "Wall time: 5h 58min 26s\n"
     ]
    }
   ],
   "source": [
    "model = fasttext.load_model(path_to_ft + 'ft_sg_300.model.bin')\n",
    "voc = model.words\n",
    "n_features = model.dim\n",
    "%time X = docsTransformation(corpora, model, voc, n_corpora, n_features, tfidf=False, idf=True)\n",
    "pickling_data(path_to_ft + 'average_ft-idf_' + 'ft_sg_300.model', X)"
   ]
  },
  {
   "cell_type": "markdown",
   "metadata": {},
   "source": [
    "## Источники\n",
    "1. models.phrases – Phrase (collocation) detection [link](http://radimrehurek.com/gensim/models/phrases.html)  \n",
    "2. Radim Řehůřek. [Word2vec Tutorial](https://rare-technologies.com/word2vec-tutorial/)  \n",
    "- [word2vec (2): CBOW, skip-gram](https://algorithmsdatascience.quora.com/word2vec-2-CBOW-skip-gram-1)  \n",
    "- @torselllo. [Немного про word2vec: полезная теория](http://nlpx.net/archives/179)\n",
    "- C.Батрунов. [Построение векторных представлений для многозначных слов](http://www.machinelearning.ru/wiki/images/9/9d/BartunovLSM.pdf)  \n",
    "- T. Mikolov, [Efficient Estimation of Word Representations in Vector Space](http://arxiv.org/abs/1301.3781)\n",
    "- Matt J. Kusner, Yu Sun, Nicholas I. [From Word Embeddings To Document Distances](http://jmlr.org/proceedings/papers/v37/kusnerb15.pdf)  \n",
    "- Y. Bengio, [A Neural Probabilistic Language Model](http://jmlr.org/papers/volume3/tmp/bengio03a.pdf)  \n",
    "- M. Taddy. [Document Classification by Inversion of Distributed Language Representations](http://arxiv.org/pdf/1504.07295v3.pdf)\n",
    "- Пономарев С. [Word2Vec: классификация текстовых документов](https://habrahabr.ru/post/277563/) -- Habrahabr, 2016.\n",
    "- JAYANT JAIN. [FastText and Gensim word embedding](https://rare-technologies.com/fasttext-and-gensim-word-embeddings/)  \n",
    "- @tmylk. [Using FastText via Gensim](https://github.com/RaRe-Technologies/gensim/blob/develop/docs/notebooks/FastText_Tutorial.ipynb)  \n",
    "- @tmylk. [Comparison of FastText and Word2Vec](https://github.com/RaRe-Technologies/gensim/blob/develop/docs/notebooks/Word2Vec_FastText_Comparison.ipynb)  \n",
    "- A [Python interface](https://pypi.python.org/pypi/fasttext) for Facebook fastText library\n",
    "- Armand Joulin, Edouard Grave, Piotr Bojanowski, Tomas Mikolov. [Bag of Tricks for Efficient Text Classification](https://arxiv.org/pdf/1607.01759.pdf)  \n",
    "- P. Bojanowski*, E. Grave*, A. Joulin, T. Mikolov, [Enriching Word Vectors with Subword Information](https://arxiv.org/pdf/1607.04606.pdf)"
   ]
  },
  {
   "cell_type": "code",
   "execution_count": null,
   "metadata": {
    "collapsed": true
   },
   "outputs": [],
   "source": []
  }
 ],
 "metadata": {
  "kernelspec": {
   "display_name": "Python 3",
   "language": "python",
   "name": "python3"
  },
  "language_info": {
   "codemirror_mode": {
    "name": "ipython",
    "version": 3
   },
   "file_extension": ".py",
   "mimetype": "text/x-python",
   "name": "python",
   "nbconvert_exporter": "python",
   "pygments_lexer": "ipython3",
   "version": "3.6.0"
  }
 },
 "nbformat": 4,
 "nbformat_minor": 2
}

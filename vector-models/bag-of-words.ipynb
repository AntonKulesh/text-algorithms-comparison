{
 "cells": [
  {
   "cell_type": "markdown",
   "metadata": {},
   "source": [
    "# Векторные репрезентации слов\n",
    "# Часть 1. Мешок слов (bag-of-words)\n",
    "![bow](https://gurus.pyimagesearch.com/wp-content/uploads/2015/09/bovw_image_example.jpg)\n",
    "<center>Picture from *CS4670/5670: Computer Vision*</center>\n",
    "## Оглавление\n",
    "* Обзор корпуса\n",
    "* Частотные матрицы\n",
    "* Коллокации \n",
    "* Взвешивание элементов частотных матриц\n"
   ]
  },
  {
   "cell_type": "code",
   "execution_count": 1,
   "metadata": {
    "collapsed": false
   },
   "outputs": [
    {
     "name": "stdout",
     "output_type": "stream",
     "text": [
      "env: MKL_DYNAMIC=FALSE\n",
      "env: MKL_NUM_THREADS=8\n"
     ]
    }
   ],
   "source": [
    "# Задействование всех ядер\n",
    "%env MKL_DYNAMIC=FALSE\n",
    "%env MKL_NUM_THREADS=8"
   ]
  },
  {
   "cell_type": "code",
   "execution_count": 2,
   "metadata": {
    "collapsed": false
   },
   "outputs": [],
   "source": [
    "import warnings\n",
    "warnings.filterwarnings('ignore')\n",
    "\n",
    "import pickle\n",
    "import operator\n",
    "import pandas as pd\n",
    "import numpy as np\n",
    "import scipy.sparse as sparse\n",
    "from collections import Counter\n",
    "\n",
    "import seaborn as sns\n",
    "import matplotlib.pyplot as plt\n",
    "import matplotlib as mpl\n",
    "%matplotlib inline\n",
    "\n",
    "pd.set_option('display.max_columns', None)\n",
    "pd.set_option('display.mpl_style', 'default')\n",
    "plt.rc('xtick', labelsize=14) \n",
    "plt.rc('ytick', labelsize=14)\n",
    "\n",
    "from matplotlib import rc\n",
    "font = {'family': 'Verdana', 'weight': 'normal'}\n",
    "rc('font', **font)\n",
    "\n",
    "from pylab import rcParams\n",
    "rcParams['figure.figsize'] = 15, 5\n",
    "\n",
    "import nltk\n",
    "from gensim.models.phrases import Phrases\n",
    "from sklearn.feature_extraction.text import CountVectorizer, TfidfTransformer\n",
    "from sklearn.pipeline import Pipeline\n",
    "from sklearn.metrics import f1_score, make_scorer"
   ]
  },
  {
   "cell_type": "markdown",
   "metadata": {},
   "source": [
    "## Загрузка данных\n",
    "Корпус документов доступен по [ссылке](https://drive.google.com/open?id=0B_NefGKQ1pCsbDNMZ2N6WHFHUlE)"
   ]
  },
  {
   "cell_type": "code",
   "execution_count": 4,
   "metadata": {
    "collapsed": false
   },
   "outputs": [
    {
     "name": "stdout",
     "output_type": "stream",
     "text": [
      "Corpora size: 164197\n"
     ]
    }
   ],
   "source": [
    "path_data = '~/'\n",
    "file = path_data + 'corpora_lem.csv' # корпус\n",
    "\n",
    "arxiv_id = pd.read_csv(path_data + 'corpora_lem.csv', chunksize=1, usecols=['arxiv_id'])\n",
    "n_corpora = len([_id for _id in arxiv_id])\n",
    "print(\"Corpora size: %d\" % n_corpora)"
   ]
  },
  {
   "cell_type": "code",
   "execution_count": 5,
   "metadata": {
    "collapsed": true
   },
   "outputs": [],
   "source": [
    "class LazyCorpora:\n",
    "    def __init__(self, file, column, n, reduce=1, split=False):\n",
    "        self.column = column\n",
    "        self.file = file\n",
    "        self.n = n\n",
    "        self.reduce = reduce\n",
    "        self.split = split\n",
    "    \n",
    "    def __iter__(self):\n",
    "        chunks = pd.read_csv(self.file, iterator=True, encoding = \"ISO-8859-1\")\n",
    "        \n",
    "        for i in range(self.n):\n",
    "            row = chunks.read(1)\n",
    "            content = row['text'].values[0].split()\n",
    "            #\n",
    "            # фильтруем токены\n",
    "            cleaned = [token for token in content if token[0] in 'abcdefghijklmnopqrstuvwxyz']\n",
    "            #\n",
    "            # игнорируем документы, которые состоят более чем из 15000 слов\n",
    "            condition = len(cleaned) < 15000 and i%self.reduce == 0\n",
    "            if self.column == 'text' and condition:\n",
    "                if not self.split:\n",
    "                    yield ' '.join(cleaned)\n",
    "                else:\n",
    "                    yield cleaned\n",
    "            elif condition:\n",
    "                data = row[self.column].values[0]\n",
    "                yield data"
   ]
  },
  {
   "cell_type": "code",
   "execution_count": 6,
   "metadata": {
    "collapsed": false
   },
   "outputs": [
    {
     "name": "stdout",
     "output_type": "stream",
     "text": [
      "<__main__.LazyCorpora object at 0x7f0441c9df60>\n"
     ]
    }
   ],
   "source": [
    "corpora = LazyCorpora(file, 'text', n_corpora, reduce=1)\n",
    "print(corpora)"
   ]
  },
  {
   "cell_type": "markdown",
   "metadata": {},
   "source": [
    "Фрагмент документа корпуса"
   ]
  },
  {
   "cell_type": "code",
   "execution_count": 7,
   "metadata": {
    "collapsed": false
   },
   "outputs": [
    {
     "name": "stdout",
     "output_type": "stream",
     "text": [
      "the goal of this paper be to construct invariant dynamical object for not necessarily invertible smooth self map of compact manifold we prove result that take advantage of difference in rat of expansion in the term of sheaf cohomological long exact sequence to create unique lift of finite dimensional invariant subspace of one term of the sequence to invariant subspace of the precede term this allow to take invariant cohomological class and under the right circumstance construct unique current of give type include unique measure of give type that represent those class and be invariant under pullback dynamically interest self map may have plethora of invariant measure so the uniquess of the construct current be important it mean that if local growth be not too big compare to the growth rate of the cohomological class then the expand cohomological class give sufficient march order of any other such invariant current of the same type say from some local dynamical subsystem because we use s\n"
     ]
    }
   ],
   "source": [
    "for doc in corpora:\n",
    "    print(doc[:1000])\n",
    "    break"
   ]
  },
  {
   "cell_type": "markdown",
   "metadata": {},
   "source": [
    "## Сериализация объектов"
   ]
  },
  {
   "cell_type": "code",
   "execution_count": 8,
   "metadata": {
    "collapsed": true
   },
   "outputs": [],
   "source": [
    "def pickling_data(name, data):\n",
    "    out = open(name + '.pkl', 'wb')\n",
    "    pickle.dump(data, out)\n",
    "    out.close()\n",
    "    \n",
    "def load_data(name):\n",
    "    pkl_file = open(name + '.pkl', 'rb')\n",
    "    data = pickle.load(pkl_file)\n",
    "    pkl_file.close()\n",
    "    return data"
   ]
  },
  {
   "cell_type": "markdown",
   "metadata": {},
   "source": [
    "## Обзор корпуса"
   ]
  },
  {
   "cell_type": "code",
   "execution_count": 9,
   "metadata": {
    "collapsed": true
   },
   "outputs": [],
   "source": [
    "def bow_with_freq(corpora):\n",
    "    result = Counter()\n",
    "    for s in corpora:\n",
    "        result.update(s.split())\n",
    "    return list(result.items())"
   ]
  },
  {
   "cell_type": "markdown",
   "metadata": {},
   "source": [
    "Для каждого токена определим сколько раз он встречается в корпусе"
   ]
  },
  {
   "cell_type": "code",
   "execution_count": 10,
   "metadata": {
    "collapsed": false
   },
   "outputs": [
    {
     "name": "stdout",
     "output_type": "stream",
     "text": [
      "CPU times: user 15min 37s, sys: 4.8 s, total: 15min 41s\n",
      "Wall time: 17min 11s\n"
     ]
    }
   ],
   "source": [
    "%%time\n",
    "\n",
    "bow = bow_with_freq(corpora)\n",
    "token_counts = pd.DataFrame(bow, columns=['token', 'count'])\n",
    "sorted_tokens = token_counts.sort('count', ascending=False).set_index('token')"
   ]
  },
  {
   "cell_type": "markdown",
   "metadata": {},
   "source": [
    "50 наиболее популярных слов"
   ]
  },
  {
   "cell_type": "code",
   "execution_count": 11,
   "metadata": {
    "collapsed": false
   },
   "outputs": [
    {
     "data": {
      "image/png": "[encoded data removed]",
      "text/plain": [
       "<matplotlib.figure.Figure at 0x7f043a0b15f8>"
      ]
     },
     "metadata": {},
     "output_type": "display_data"
    }
   ],
   "source": [
    "plt.title(\"Наиболее популярные термины\", fontsize=18)\n",
    "sorted_tokens['count'][:50].plot(kind='bar')\n",
    "plt.show()"
   ]
  },
  {
   "cell_type": "markdown",
   "metadata": {},
   "source": [
    "Как можно заметить, наиболее часто встречаются функциональные слова: предлоги, союзы, местоимения. Эти термины не несут смысловой нагрузки и от них не зависит тематика тескта. Такие слова называют [стоп-словами](http://xpo6.com/list-of-english-stop-words/) и их часто при векторизации игнорируют, считая шумом."
   ]
  },
  {
   "cell_type": "code",
   "execution_count": 12,
   "metadata": {
    "collapsed": false
   },
   "outputs": [
    {
     "data": {
      "image/png": "[encoded data removed]",
      "text/plain": [
       "<matplotlib.figure.Figure at 0x7f04322627b8>"
      ]
     },
     "metadata": {},
     "output_type": "display_data"
    }
   ],
   "source": [
    "plt.title(\"Распределение частот терминов\", fontsize=18)\n",
    "mask = sorted_tokens['count'] < 50\n",
    "plt.hist(sorted_tokens[mask]['count'], bins=50, rwidth=0.9)\n",
    "plt.show()"
   ]
  },
  {
   "cell_type": "markdown",
   "metadata": {},
   "source": [
    "Большинство слов -- это редкие слова, т.е. уникальные леммы, которые встречаются в корпусе всего несколько раз"
   ]
  },
  {
   "cell_type": "markdown",
   "metadata": {},
   "source": [
    "Примеры редких слов"
   ]
  },
  {
   "cell_type": "code",
   "execution_count": 13,
   "metadata": {
    "collapsed": false
   },
   "outputs": [
    {
     "data": {
      "text/html": [
       "<div>\n",
       "<table border=\"1\" class=\"dataframe\">\n",
       "  <thead>\n",
       "    <tr style=\"text-align: right;\">\n",
       "      <th></th>\n",
       "      <th>count</th>\n",
       "    </tr>\n",
       "    <tr>\n",
       "      <th>token</th>\n",
       "      <th></th>\n",
       "    </tr>\n",
       "  </thead>\n",
       "  <tbody>\n",
       "    <tr>\n",
       "      <th>dinmension</th>\n",
       "      <td>1</td>\n",
       "    </tr>\n",
       "    <tr>\n",
       "      <th>nehveyev</th>\n",
       "      <td>1</td>\n",
       "    </tr>\n",
       "    <tr>\n",
       "      <th>autodualit</th>\n",
       "      <td>1</td>\n",
       "    </tr>\n",
       "    <tr>\n",
       "      <th>cylotomy</th>\n",
       "      <td>1</td>\n",
       "    </tr>\n",
       "    <tr>\n",
       "      <th>skigranov</th>\n",
       "      <td>1</td>\n",
       "    </tr>\n",
       "    <tr>\n",
       "      <th>autoregresssive</th>\n",
       "      <td>1</td>\n",
       "    </tr>\n",
       "    <tr>\n",
       "      <th>lexicograhical</th>\n",
       "      <td>1</td>\n",
       "    </tr>\n",
       "    <tr>\n",
       "      <th>cordialement</th>\n",
       "      <td>1</td>\n",
       "    </tr>\n",
       "    <tr>\n",
       "      <th>anaylytically</th>\n",
       "      <td>1</td>\n",
       "    </tr>\n",
       "    <tr>\n",
       "      <th>immedialte</th>\n",
       "      <td>1</td>\n",
       "    </tr>\n",
       "  </tbody>\n",
       "</table>\n",
       "</div>"
      ],
      "text/plain": [
       "                 count\n",
       "token                 \n",
       "dinmension           1\n",
       "nehveyev             1\n",
       "autodualit           1\n",
       "cylotomy             1\n",
       "skigranov            1\n",
       "autoregresssive      1\n",
       "lexicograhical       1\n",
       "cordialement         1\n",
       "anaylytically        1\n",
       "immedialte           1"
      ]
     },
     "execution_count": 13,
     "metadata": {},
     "output_type": "execute_result"
    }
   ],
   "source": [
    "sorted_tokens[sorted_tokens['count'] < 2].head(10)"
   ]
  },
  {
   "cell_type": "markdown",
   "metadata": {},
   "source": [
    "Здесь встречаются и редкие английские слова, опечатки, лексика других языков и др."
   ]
  },
  {
   "cell_type": "markdown",
   "metadata": {},
   "source": [
    "### Закон Ципфа  \n",
    "\n",
    "**Закон Ципфа** [wiki]  -- эмпирическая закономерность распределения частоты слов естественного языка: если все слова языка (или просто достаточно длинного текста) упорядочить по убыванию частоты их использования, то частота n-го слова в таком списке окажется приблизительно обратно пропорциональной его порядковому номеру n (так называемому рангу этого слова). Например, второе по используемости слово встречается примерно в два раза реже, чем первое, третье  в три раза реже, чем первое, и так далее.  \n",
    "\n",
    "Проверим выполняется ли закон Ципфа на примере 200 наиболее употребляемых слов корпуса."
   ]
  },
  {
   "cell_type": "code",
   "execution_count": 27,
   "metadata": {
    "collapsed": false
   },
   "outputs": [
    {
     "data": {
      "image/png": "[encoded data removed]",
      "text/plain": [
       "<matplotlib.figure.Figure at 0x7f0434d34f60>"
      ]
     },
     "metadata": {},
     "output_type": "display_data"
    }
   ],
   "source": [
    "freq = sorted(list(set(sorted_tokens['count'].values)), reverse=True)\n",
    "plt.title(\"Закон Ципфа\", fontsize=14)\n",
    "plt.xlabel(\"Ранг термина\")\n",
    "plt.ylabel(\"Частота термина в корпусе\")\n",
    "plt.plot(range(200), freq[:200], 'o--', markersize=5);"
   ]
  },
  {
   "cell_type": "markdown",
   "metadata": {},
   "source": [
    "Замечаем, что полученный график не идеальная гипербола, но похоже, что закон работает. Теперь удалим стоп-слова и посмотрим сгладится ли левая часть графика."
   ]
  },
  {
   "cell_type": "code",
   "execution_count": 30,
   "metadata": {
    "collapsed": false
   },
   "outputs": [
    {
     "data": {
      "image/png": "[encoded data removed]",
      "text/plain": [
       "<matplotlib.figure.Figure at 0x7f0435c289b0>"
      ]
     },
     "metadata": {},
     "output_type": "display_data"
    }
   ],
   "source": [
    "from nltk.corpus import stopwords\n",
    "stop = set(stopwords.words('english'))\n",
    "\n",
    "freq = sorted_tokens[~sorted_tokens.index.isin(stop)]['count']\n",
    "plt.title(\"Закон Ципфа (без учета стоп-слов)\", fontsize=14)\n",
    "plt.xlabel(\"Ранг термина\")\n",
    "plt.ylabel(\"Частота термина в корпусе\")\n",
    "plt.plot(range(200), freq[:200], 'o--', markersize=5);"
   ]
  },
  {
   "cell_type": "code",
   "execution_count": null,
   "metadata": {
    "collapsed": true
   },
   "outputs": [],
   "source": []
  },
  {
   "cell_type": "markdown",
   "metadata": {},
   "source": [
    "### Статистика корпуса"
   ]
  },
  {
   "cell_type": "code",
   "execution_count": 31,
   "metadata": {
    "collapsed": false
   },
   "outputs": [
    {
     "name": "stdout",
     "output_type": "stream",
     "text": [
      "Количесво документов в корпусе: 164197\n",
      "Количесво токенов в корпусе: 428228862\n",
      "Количесво уникальных лемм в корпусе: 490047\n",
      "Средний размер документа (количество токенов): 2608\n",
      "Среднее количесво уникальных лемм в документе: 2\n"
     ]
    }
   ],
   "source": [
    "print(\"Количесво документов в корпусе: %d\" % n_corpora)\n",
    "print(\"Количесво токенов в корпусе: %d\" % sorted_tokens.sum())\n",
    "print(\"Количесво уникальных лемм в корпусе: %d\" % sorted_tokens.count())\n",
    "print(\"Средний размер документа (количество токенов): %d\" % int(sorted_tokens.sum() / n_corpora))\n",
    "print(\"Среднее количесво уникальных лемм в документе: %d\" % int(sorted_tokens.count() / n_corpora))"
   ]
  },
  {
   "cell_type": "markdown",
   "metadata": {
    "collapsed": true
   },
   "source": [
    "#### Размер статей"
   ]
  },
  {
   "cell_type": "code",
   "execution_count": 32,
   "metadata": {
    "collapsed": true
   },
   "outputs": [],
   "source": [
    "doc_len = pd.Series([len(doc.split()) for doc in corpora])"
   ]
  },
  {
   "cell_type": "code",
   "execution_count": 33,
   "metadata": {
    "collapsed": false
   },
   "outputs": [
    {
     "data": {
      "image/png": "[encoded data removed]",
      "text/plain": [
       "<matplotlib.figure.Figure at 0x7f043323b7f0>"
      ]
     },
     "metadata": {},
     "output_type": "display_data"
    }
   ],
   "source": [
    "plt.title(\"Распределение длин документов\", fontsize=14)\n",
    "plt.hist(doc_len, bins=100, alpha=0.9, rwidth=0.8)\n",
    "plt.xlabel('Кол-во слов')\n",
    "plt.ylabel('Кол-во документов')\n",
    "plt.show()"
   ]
  },
  {
   "cell_type": "markdown",
   "metadata": {},
   "source": [
    "Отметим, что распределение похоже на [логнормальное](https://ru.wikipedia.org/wiki/Логнормальное_распределение)"
   ]
  },
  {
   "cell_type": "markdown",
   "metadata": {},
   "source": [
    "### Категории\n",
    "\n",
    "#### Главные категории"
   ]
  },
  {
   "cell_type": "code",
   "execution_count": 34,
   "metadata": {
    "collapsed": false
   },
   "outputs": [],
   "source": [
    "lazy_category = LazyCorpora(file, 'primary_category', n_corpora, reduce=1)\n",
    "primary_category = pd.Series([c for c in lazy_category])"
   ]
  },
  {
   "cell_type": "code",
   "execution_count": 43,
   "metadata": {
    "collapsed": false
   },
   "outputs": [
    {
     "data": {
      "image/png": "[encoded data removed]",
      "text/plain": [
       "<matplotlib.figure.Figure at 0x7f041d05d390>"
      ]
     },
     "metadata": {},
     "output_type": "display_data"
    },
    {
     "name": "stdout",
     "output_type": "stream",
     "text": [
      "Количество категорий: 26\n",
      "Среднее количество статей в категории: 6040\n",
      "Медиана: 5932\n"
     ]
    }
   ],
   "source": [
    "category_counts = primary_category.value_counts()\n",
    "category_counts[:-1].plot(kind='bar', rot=50)\n",
    "plt.title(\"Распределение главных категорий\", fontsize=14)\n",
    "plt.show()\n",
    "print('Количество категорий: %d' % (primary_category.nunique() - 1))\n",
    "print('Среднее количество статей в категории: %d' % int(np.mean(category_counts)))\n",
    "print('Медиана: %d' % int(np.median(category_counts)))"
   ]
  },
  {
   "cell_type": "markdown",
   "metadata": {},
   "source": [
    "#### Все категории"
   ]
  },
  {
   "cell_type": "code",
   "execution_count": 36,
   "metadata": {
    "collapsed": true
   },
   "outputs": [],
   "source": [
    "lazy_cat = LazyCorpora(file, 'categories', n_corpora)\n",
    "categories = [c for c in lazy_cat]"
   ]
  },
  {
   "cell_type": "code",
   "execution_count": 37,
   "metadata": {
    "collapsed": true
   },
   "outputs": [],
   "source": [
    "cat_list = []\n",
    "for cat in categories:\n",
    "    cat_list += eval(cat)\n",
    "\n",
    "categories_flat = [c for c in cat_list if '[' not in c]\n",
    "categories_df = pd.Series(categories_flat)"
   ]
  },
  {
   "cell_type": "code",
   "execution_count": 38,
   "metadata": {
    "collapsed": false
   },
   "outputs": [
    {
     "data": {
      "image/png": "[encoded data removed]",
      "text/plain": [
       "<matplotlib.figure.Figure at 0x7f041d2557f0>"
      ]
     },
     "metadata": {},
     "output_type": "display_data"
    },
    {
     "name": "stdout",
     "output_type": "stream",
     "text": [
      "Количество категорий: 83\n",
      "Среднее количество статей в категории: 6131\n",
      "Медиана: 6003\n"
     ]
    }
   ],
   "source": [
    "category_counts = categories_df.value_counts()[:40]\n",
    "category_counts.plot(kind='bar')\n",
    "plt.title(\"Распределение всех категорий\", fontsize=14)\n",
    "plt.show()\n",
    "print('Количество категорий: %d' % categories_df.nunique())\n",
    "print('Среднее количество статей в категории: %d' % int(np.mean(category_counts)))\n",
    "print('Медиана: %d' % int(np.median(category_counts)))"
   ]
  },
  {
   "cell_type": "markdown",
   "metadata": {},
   "source": [
    "#### К какому количеству тем отосятся документы"
   ]
  },
  {
   "cell_type": "code",
   "execution_count": 39,
   "metadata": {
    "collapsed": false
   },
   "outputs": [
    {
     "data": {
      "image/png": "[encoded data removed]",
      "text/plain": [
       "<matplotlib.figure.Figure at 0x7f041d27b2b0>"
      ]
     },
     "metadata": {},
     "output_type": "display_data"
    },
    {
     "name": "stdout",
     "output_type": "stream",
     "text": [
      "Максимальное число тем: 11\n",
      "Минимальное число тем: 1\n",
      "Среднее число тем: 1.586\n",
      "Медиана тем: 1.000\n"
     ]
    }
   ],
   "source": [
    "freq = [cat.count(',') + 1 for cat in categories]\n",
    "\n",
    "plt.figure(figsize=(12,4))\n",
    "plt.title(\"Количество тем документа\", fontsize=14)\n",
    "plt.hist(freq, alpha=0.7, bins=11)\n",
    "plt.xlabel('Число тем')\n",
    "plt.ylabel('Кол-во документов')\n",
    "plt.show()\n",
    "\n",
    "print(\"Максимальное число тем: %d\" % max(freq))\n",
    "print(\"Минимальное число тем: %d\" % min(freq))\n",
    "print(\"Среднее число тем: %.3f\" % np.mean(freq))\n",
    "print(\"Медиана тем: %.3f\" % np.median(freq))"
   ]
  },
  {
   "cell_type": "markdown",
   "metadata": {},
   "source": [
    "Большая часть документов имеет одну тему, поэтому будем предсказывать только главную категорию "
   ]
  },
  {
   "cell_type": "markdown",
   "metadata": {},
   "source": [
    "## Частотная матрица термины-документы\n",
    "[Описание]"
   ]
  },
  {
   "cell_type": "code",
   "execution_count": 7,
   "metadata": {
    "collapsed": true
   },
   "outputs": [],
   "source": [
    "#tokenizer = nltk.word_tokenize\n",
    "pattern = '[a-z0-9]+'"
   ]
  },
  {
   "cell_type": "code",
   "execution_count": 31,
   "metadata": {
    "collapsed": false
   },
   "outputs": [
    {
     "name": "stdout",
     "output_type": "stream",
     "text": [
      "CPU times: user 0 ns, sys: 0 ns, total: 0 ns\n",
      "Wall time: 10.7 µs\n"
     ]
    },
    {
     "data": {
      "text/plain": [
       "CountVectorizer(analyzer='word', binary=False, decode_error='strict',\n",
       "        dtype=<class 'numpy.int64'>, encoding='utf-8', input='content',\n",
       "        lowercase=False, max_df=1.0, max_features=None, min_df=1,\n",
       "        ngram_range=(1, 1), preprocessor=None, stop_words=None,\n",
       "        strip_accents=None, token_pattern='[a-z0-9]+', tokenizer=None,\n",
       "        vocabulary=None)"
      ]
     },
     "execution_count": 31,
     "metadata": {},
     "output_type": "execute_result"
    }
   ],
   "source": [
    "%time\n",
    "\n",
    "vect = CountVectorizer(token_pattern=pattern, lowercase=False)\n",
    "vect.fit(corpora)"
   ]
  },
  {
   "cell_type": "code",
   "execution_count": 32,
   "metadata": {
    "collapsed": false
   },
   "outputs": [
    {
     "name": "stdout",
     "output_type": "stream",
     "text": [
      "Размер словаря: 478739\n"
     ]
    }
   ],
   "source": [
    "print(\"Размер словаря: %d\" % len(vect.vocabulary_))"
   ]
  },
  {
   "cell_type": "markdown",
   "metadata": {},
   "source": [
    "Преобразовав корпус, получим разреженную матрицу размера n x m, где n -- количество документов в корпусе, а m -- размер словаря.  \n",
    "\n",
    "Выведем 100 последних словарных слов"
   ]
  },
  {
   "cell_type": "code",
   "execution_count": 33,
   "metadata": {
    "collapsed": false
   },
   "outputs": [
    {
     "name": "stdout",
     "output_type": "stream",
     "text": [
      "['zylberach', 'zylberajch', 'zylinder', 'zylindersymmetrischer', 'zyliu', 'zylka', 'zylman', 'zylstra', 'zymler', 'zymnis', 'zymogen', 'zymonopoulou', 'zymund', 'zyn', 'zynga', 'zynq', 'zypchen', 'zypmann', 'zyren', 'zyserman', 'zyskin', 'zyskind', 'zysno', 'zyt', 'zytkov', 'zytkow', 'zytnicki', 'zyuganov', 'zyung', 'zyuzin', 'zyvagin', 'zyw', 'zywina', 'zywyzywyzywy', 'zywzywzyw', 'zyx', 'zyxel', 'zyxz', 'zyxzy', 'zyxzyxzyx', 'zyy', 'zyz', 'zyzx', 'zyzxzyzxzyzx', 'zyzyzy', 'zyzzyva', 'zz', 'zza', 'zzalb', 'zzb', 'zzc', 'zzdc', 'zzf', 'zzh', 'zzhang', 'zzhou', 'zzi', 'zzii', 'zzisjo', 'zziz', 'zzizi', 'zzjgjg', 'zzk', 'zzkarian', 'zzl', 'zzm', 'zzo', 'zzp', 'zzps', 'zzquy', 'zzremi', 'zzril', 'zzrr', 'zzrtoqobf', 'zzs', 'zzsr', 'zzu', 'zzwang', 'zzwc', 'zzwz', 'zzx', 'zzy', 'zzz', 'zzzap', 'zzzchen', 'zzzhangzhiyuan', 'zzzhhc', 'zzzingers', 'zzzucchini', 'zzzz', 'zzzzipppp', 'zzzzzzzz', 'zzzzzzzzz', 'zzzzzzzzzzzzzzzzzz', 'zzzzzzzzzzzzzzzzzzzzzzzzz', 'zzzzzzzzzzzzzzzzzzzzzzzzzzzzzzzzzzzzzzzzzz', 'zzzzzzzzzzzzzzzzzzzzzzzzzzzzzzzzzzzzzzzzzzzzzzzzzzzzzzz', 'zzzzzzzzzzzzzzzzzzzzzzzzzzzzzzzzzzzzzzzzzzzzzzzzzzzzzzzzz', 'zzzzzzzzzzzzzzzzzzzzzzzzzzzzzzzzzzzzzzzzzzzzzzzzzzzzzzzzzzzz', 'zzzzzzzzzzzzzzzzzzzzzzzzzzzzzzzzzzzzzzzzzzzzzzzzzzzzzzzzzzzzzzzz']\n"
     ]
    }
   ],
   "source": [
    "print(vect.get_feature_names()[-100:])"
   ]
  },
  {
   "cell_type": "markdown",
   "metadata": {
    "collapsed": true
   },
   "source": [
    "### Сокращение словаря  \n",
    "* Исключение редких слов\n",
    "* Удаление стоп-слов\n"
   ]
  },
  {
   "cell_type": "markdown",
   "metadata": {
    "collapsed": true
   },
   "source": [
    "[Обоснование]"
   ]
  },
  {
   "cell_type": "code",
   "execution_count": 34,
   "metadata": {
    "collapsed": false
   },
   "outputs": [
    {
     "name": "stdout",
     "output_type": "stream",
     "text": [
      "CPU times: user 10min 35s, sys: 3.16 s, total: 10min 38s\n",
      "Wall time: 10min 38s\n"
     ]
    }
   ],
   "source": [
    "%%time\n",
    "\n",
    "vect = CountVectorizer(token_pattern=pattern, lowercase=False, min_df=20, stop_words='english')\n",
    "vect.fit(corpora)"
   ]
  },
  {
   "cell_type": "code",
   "execution_count": 35,
   "metadata": {
    "collapsed": false
   },
   "outputs": [
    {
     "name": "stdout",
     "output_type": "stream",
     "text": [
      "Размер сокращенного словаря: 54475\n"
     ]
    }
   ],
   "source": [
    "print(\"Размер сокращенного словаря: %d\" % len(vect.vocabulary_))"
   ]
  },
  {
   "cell_type": "code",
   "execution_count": 36,
   "metadata": {
    "collapsed": false
   },
   "outputs": [
    {
     "name": "stdout",
     "output_type": "stream",
     "text": [
      "['zonal', 'zone', 'zong', 'zonoid', 'zonoids', 'zonotope', 'zonotopes', 'zoo', 'zoology', 'zoom', 'zoran', 'zorich', 'zorin', 'zorn', 'zorzi', 'zotov', 'zotti', 'zou', 'zoupanos', 'zout', 'zowe', 'zp', 'zq', 'zquez', 'zr', 'zrp', 'zsid', 'zsido', 'zsigmondy', 'zt', 'zu', 'zuazua', 'zubairy', 'zuber', 'zubkov', 'zucca', 'zucchini', 'zucker', 'zuckerman', 'zudilin', 'zueinander', 'zugeh', 'zuk', 'zukowski', 'zum', 'zumino', 'zun', 'zung', 'zuniga', 'zunino', 'zuo', 'zupnik', 'zur', 'zurek', 'zurich', 'zusammen', 'zusammenh', 'zusammenhang', 'zuse', 'zusmanovich', 'zuyev', 'zv', 'zvavitch', 'zvenigorod', 'zvi', 'zvonkin', 'zvonkine', 'zw', 'zwaan', 'zwanzig', 'zwanziger', 'zwara', 'zwart', 'zwegers', 'zwei', 'zweibein', 'zweibel', 'zweier', 'zweig', 'zweim', 'zweite', 'zweiten', 'zweiter', 'zwerger', 'zwet', 'zwick', 'zwicky', 'zwiebach', 'zwillinger', 'zwischen', 'zworski', 'zx', 'zy', 'zyablov', 'zyczkowski', 'zygalakis', 'zygmund', 'zygouras', 'zywina', 'zz']\n"
     ]
    }
   ],
   "source": [
    "print(vect.get_feature_names()[-100:])"
   ]
  },
  {
   "cell_type": "markdown",
   "metadata": {},
   "source": [
    "Выполняем преобразование корпуса в частотную разреженную матрицу и сохраняем на диск"
   ]
  },
  {
   "cell_type": "code",
   "execution_count": 37,
   "metadata": {
    "collapsed": true
   },
   "outputs": [],
   "source": [
    "# transforming\n",
    "#\n",
    "unigram_matrix = vect.transform(corpora)\n",
    "\n",
    "# saving\n",
    "#\n",
    "pickling_data('unigram_matrix', unigram_matrix)"
   ]
  },
  {
   "cell_type": "markdown",
   "metadata": {
    "collapsed": true
   },
   "source": [
    "### N-граммы\n",
    "\n",
    "Слова, которые в тексте часто встречаются вместе\n",
    "\n",
    "[Описание]"
   ]
  },
  {
   "cell_type": "markdown",
   "metadata": {},
   "source": [
    "**Биграммы**"
   ]
  },
  {
   "cell_type": "code",
   "execution_count": 38,
   "metadata": {
    "collapsed": false
   },
   "outputs": [
    {
     "name": "stdout",
     "output_type": "stream",
     "text": [
      "CPU times: user 16min 39s, sys: 9.86 s, total: 16min 49s\n",
      "Wall time: 16min 49s\n"
     ]
    }
   ],
   "source": [
    "%%time\n",
    "\n",
    "vect = CountVectorizer(token_pattern=pattern, lowercase=False, ngram_range=(2,2), min_df=50, stop_words='english')\n",
    "vect.fit(corpora)"
   ]
  },
  {
   "cell_type": "code",
   "execution_count": 39,
   "metadata": {
    "collapsed": false
   },
   "outputs": [
    {
     "name": "stdout",
     "output_type": "stream",
     "text": [
      "Размер словаря: 445023\n"
     ]
    }
   ],
   "source": [
    "print(\"Размер словаря: %d\" % len(vect.vocabulary_))"
   ]
  },
  {
   "cell_type": "code",
   "execution_count": 40,
   "metadata": {
    "collapsed": false
   },
   "outputs": [
    {
     "name": "stdout",
     "output_type": "stream",
     "text": [
      "['aa aa', 'aa bb', 'aa let', 'aaa aa', 'aaa aaa', 'aaai press', 'aachen germany', 'aachen university', 'aalborg university', 'aalto finland', 'aalto university', 'aarhus denmark', 'aarhus university', 'aaron lauda', 'ab ab', 'ab ac', 'ab ba', 'ab bc', 'ab canada', 'ab cd', 'ab define', 'ab follow', 'ab initio', 'ab let', 'ab math', 'ab note', 'ab quant', 'ab theorem', 'ab use', 'abacus press', 'abbe platz', 'abbreviate assume', 'abbreviate consider', 'abbreviate define', 'abbreviate denote', 'abbreviate follow', 'abbreviate form', 'abbreviate let', 'abbreviate notation', 'abbreviate note', 'abbreviate recall', 'abbreviate respectively', 'abbreviate say', 'abbreviate set', 'abbreviate use', 'abbreviate write', 'abbreviation define', 'abbreviation denote', 'abbreviation follow', 'abbreviation let', 'abbreviation note', 'abbreviation set', 'abbreviation use', 'abbreviation write', 'abc conjecture', 'abdulaziz university', 'abdullah university', 'abdus salam', 'abel equation', 'abel jacobi', 'abel map', 'abel summation', 'abel symp', 'abel symposium', 'abel transform', 'abelian abelian', 'abelian act', 'abelian action', 'abelian affine', 'abelian algebra', 'abelian algebraic', 'abelian analogue', 'abelian anyons', 'abelian apply', 'abelian assume', 'abelian basis', 'abelian case', 'abelian category', 'abelian central', 'abelian character', 'abelian chern', 'abelian class', 'abelian close', 'abelian cohomology', 'abelian compact', 'abelian complex', 'abelian condition', 'abelian connect', 'abelian connection', 'abelian consider', 'abelian contain', 'abelian contradiction', 'abelian cover', 'abelian current', 'abelian cyclic', 'abelian defect', 'abelian define', 'abelian denote', 'abelian differential', 'abelian dimension']\n"
     ]
    }
   ],
   "source": [
    "print(vect.get_feature_names()[:100])"
   ]
  },
  {
   "cell_type": "code",
   "execution_count": 41,
   "metadata": {
    "collapsed": true
   },
   "outputs": [],
   "source": [
    "# transforming\n",
    "#\n",
    "bigram_matrix = vect.transform(corpora)\n",
    "\n",
    "# saving\n",
    "#\n",
    "pickling_data('bigram_matrix', bigram_matrix)"
   ]
  },
  {
   "cell_type": "markdown",
   "metadata": {},
   "source": [
    "**Триграммы**"
   ]
  },
  {
   "cell_type": "code",
   "execution_count": 45,
   "metadata": {
    "collapsed": true
   },
   "outputs": [],
   "source": [
    "reduce_corpora = LazyCorpora(file, 'text', n_corpora, reduce=3)"
   ]
  },
  {
   "cell_type": "code",
   "execution_count": 46,
   "metadata": {
    "collapsed": false
   },
   "outputs": [
    {
     "name": "stdout",
     "output_type": "stream",
     "text": [
      "CPU times: user 14min 41s, sys: 17.2 s, total: 14min 59s\n",
      "Wall time: 14min 58s\n"
     ]
    }
   ],
   "source": [
    "%%time\n",
    "\n",
    "vect = CountVectorizer(token_pattern=pattern, lowercase=False, ngram_range=(3,3), min_df=25, stop_words='english')\n",
    "vect.fit(reduce_corpora)"
   ]
  },
  {
   "cell_type": "code",
   "execution_count": 47,
   "metadata": {
    "collapsed": false
   },
   "outputs": [
    {
     "name": "stdout",
     "output_type": "stream",
     "text": [
      "Размер словаря триграм: 83503\n"
     ]
    }
   ],
   "source": [
    "print(\"Размер словаря триграм: %d\" % len(vect.vocabulary_))"
   ]
  },
  {
   "cell_type": "code",
   "execution_count": 48,
   "metadata": {
    "collapsed": false,
    "scrolled": true
   },
   "outputs": [
    {
     "name": "stdout",
     "output_type": "stream",
     "text": [
      "['aaa aaa aaa', 'ab ab ab', 'abdullah university science', 'abdus salam international', 'abel jacobi map', 'abelian category category', 'abelian category denote', 'abelian category finite', 'abelian category let', 'abelian category object', 'abelian chern simon', 'abelian finite group', 'abelian finite simple', 'abelian finitely generate', 'abelian free group', 'abelian free subgroup', 'abelian fundamental group', 'abelian gauge field', 'abelian gauge group', 'abelian gauge symmetry', 'abelian gauge theory', 'abelian group abelian', 'abelian group act', 'abelian group action', 'abelian group algebra', 'abelian group assume', 'abelian group basis', 'abelian group case', 'abelian group character', 'abelian group class', 'abelian group close', 'abelian group compact', 'abelian group consider', 'abelian group contain', 'abelian group continuous', 'abelian group cyclic', 'abelian group define', 'abelian group denote', 'abelian group direct', 'abelian group discrete', 'abelian group dual', 'abelian group element', 'abelian group equip', 'abelian group example', 'abelian group exist', 'abelian group exponent', 'abelian group finite', 'abelian group finitely', 'abelian group follow', 'abelian group form', 'abelian group free', 'abelian group generate', 'abelian group generator', 'abelian group group', 'abelian group homomorphism', 'abelian group induce', 'abelian group infinite', 'abelian group integer', 'abelian group isomorphic', 'abelian group isomorphism', 'abelian group know', 'abelian group lemma', 'abelian group let', 'abelian group map', 'abelian group module', 'abelian group natural', 'abelian group non', 'abelian group note', 'abelian group order', 'abelian group paper', 'abelian group particular', 'abelian group positive', 'abelian group prove', 'abelian group rank', 'abelian group recall', 'abelian group respect', 'abelian group result', 'abelian group ring', 'abelian group satisfy', 'abelian group say', 'abelian group section', 'abelian group set', 'abelian group structure', 'abelian group subgroup', 'abelian group suppose', 'abelian group theorem', 'abelian group torsion', 'abelian group use', 'abelian group write', 'abelian higgs model', 'abelian lie algebra', 'abelian lie group', 'abelian locally compact', 'abelian non abelian', 'abelian normal subgroup', 'abelian simple group', 'abelian subgroup contain', 'abelian subgroup finite', 'abelian subgroup group', 'abelian subgroup index']\n"
     ]
    }
   ],
   "source": [
    "print(vect.get_feature_names()[:100])"
   ]
  },
  {
   "cell_type": "code",
   "execution_count": 50,
   "metadata": {
    "collapsed": false
   },
   "outputs": [],
   "source": [
    "# transforming\n",
    "#\n",
    "trigram_matrix = vect.transform(corpora)\n",
    "\n",
    "# saving\n",
    "#\n",
    "pickling_data('trigram_matrix', trigram_matrix)"
   ]
  },
  {
   "cell_type": "markdown",
   "metadata": {},
   "source": [
    "### Коллокации\n",
    "[Описание]"
   ]
  },
  {
   "cell_type": "markdown",
   "metadata": {},
   "source": [
    "$$\\frac{(count(a, b) - min\\_count) * N}{count(a) * count(b)}>threshhold$$"
   ]
  },
  {
   "cell_type": "code",
   "execution_count": 7,
   "metadata": {
    "collapsed": false
   },
   "outputs": [
    {
     "name": "stdout",
     "output_type": "stream",
     "text": [
      "<__main__.LazyCorpora object at 0x7fd042036a20>\n"
     ]
    }
   ],
   "source": [
    "corpora = LazyCorpora(file, 'text', n_corpora, reduce=1, split=True)\n",
    "print(corpora)"
   ]
  },
  {
   "cell_type": "code",
   "execution_count": 9,
   "metadata": {
    "collapsed": false
   },
   "outputs": [
    {
     "name": "stdout",
     "output_type": "stream",
     "text": [
      "['the', 'goal', 'of', 'this', 'paper', 'be', 'to', 'construct', 'invariant', 'dynamical', 'object', 'for', 'not', 'necessarily', 'invertible', 'smooth', 'self', 'map', 'of', 'compact', 'manifold', 'we', 'prove', 'result', 'that', 'take', 'advantage', 'of', 'difference', 'in', 'rat', 'of', 'expansion', 'in', 'the', 'term', 'of', 'sheaf', 'cohomological', 'long', 'exact', 'sequence', 'to', 'create', 'unique', 'lift', 'of', 'finite', 'dimensional', 'invariant', 'subspace', 'of', 'one', 'term', 'of', 'the', 'sequence', 'to', 'invariant', 'subspace', 'of', 'the', 'precede', 'term', 'this', 'allow', 'to', 'take', 'invariant', 'cohomological', 'class', 'and', 'under', 'the', 'right', 'circumstance', 'construct', 'unique', 'current', 'of', 'give', 'type', 'include', 'unique', 'measure', 'of', 'give', 'type', 'that', 'represent', 'those', 'class', 'and', 'be', 'invariant', 'under', 'pullback', 'dynamically', 'interest', 'self']\n"
     ]
    }
   ],
   "source": [
    "for doc in corpora:\n",
    "    print(doc[:100])\n",
    "    break"
   ]
  },
  {
   "cell_type": "code",
   "execution_count": 79,
   "metadata": {
    "collapsed": false
   },
   "outputs": [
    {
     "name": "stdout",
     "output_type": "stream",
     "text": [
      "CPU times: user 1h 21min 51s, sys: 16.8 s, total: 1h 22min 7s\n",
      "Wall time: 1h 22min 7s\n"
     ]
    }
   ],
   "source": [
    "%%time\n",
    "\n",
    "bigrams_5 = Phrases(corpora, threshold=5)\n",
    "bigrams_10 = Phrases(corpora, threshold=10)\n",
    "bigrams_20 = Phrases(corpora, threshold=20)\n",
    "bigrams_50 = Phrases(corpora, threshold=50)"
   ]
  },
  {
   "cell_type": "code",
   "execution_count": 83,
   "metadata": {
    "collapsed": false
   },
   "outputs": [
    {
     "name": "stdout",
     "output_type": "stream",
     "text": [
      "Порог = 5\n",
      "Список коллокаций:\n",
      "{'under_mild', 'direct_consequence', 'enough_injectives', 'most_importantly', 'bona_fide', 'riemann_sphere', 'too_big', 'not_necessarily', 'self_cohomomorphism', 'do_not', 'partial_derivative', 'countably_many', 'push_forward', 'smoothly_vary', 'injective_resolution', 'depend_upon', 'open_subset', 'diffeomorphically_onto', 'arbitrarily_large', 'exact_sequence', 'wide_variety', 'exponentially_decay', 'exterior_derivative', 'almost_everywhere', 'orientation_reverse', 'line_bundle', 'other_word', 'cohomologically_expansive', 'great_deal', 'kahler_manifold', 'lebesgue_measure', 'ad_hoc', 'imaginary_part', 'uniformly_bound', 'rather_than', 'derham_cohomology', 'great_than', 'lenient_current', 'half_plane', 'short_exact', 'give_rise', 'leave_hand', 'canonically_identify', 'immediate_consequence', 'inner_product', 'orientable_manifold', 'under_consideration', 'very_ample', 'finite_dimensional', 'rather_delicate', 'there_exist', 'broad_class', 'information_about', 'pull_back', 'keep_track', 'riemannian_metric', 'wedge_product', 'growth_rate', 'dynamical_system', 'compactly_support', 'scalar_multiple', 'grow_exponentially', 'radon_measure', 'much_attention', 'diagram_commute', 'reference_cite', 'particularly_interest', 'growth_rat', 'local_chart', 'finitely_many', 'turn_out', 'at_least', 'commutative_diagram', 'sufficiently_large', 'positive_integer', 'banach_space', 'mild_regularity', 'absolute_value', 'right_hand', 'open_neighborhood'}\n",
      "\n",
      "\n",
      "Порог = 10\n",
      "Список коллокаций:\n",
      "{'enough_injectives', 'most_importantly', 'bona_fide', 'riemann_sphere', 'countably_many', 'push_forward', 'smoothly_vary', 'hand_side', 'diffeomorphically_onto', 'wide_variety', 'exponentially_decay', 'exterior_derivative', 'orientation_reverse', 'cohomologically_expansive', 'kahler_manifold', 'lebesgue_measure', 'ad_hoc', 'rather_than', 'derham_cohomology', 'great_than', 'half_plane', 'short_exact', 'immediate_consequence', 'inner_product', 'pull_back', 'keep_track', 'riemannian_metric', 'imaginary_part', 'dynamical_system', 'compactly_support', 'grow_exponentially', 'reference_cite', 'finitely_many', 'turn_out', 'commutative_diagram', 'sufficiently_large', 'mild_regularity', 'right_hand', 'almost_everywhere'}\n",
      "\n",
      "\n",
      "Порог = 20\n",
      "Список коллокаций:\n",
      "{'keep_track', 'compactly_support', 'grow_exponentially', 'bona_fide', 'hand_side', 'diffeomorphically_onto', 'immediate_consequence', 'finitely_many', 'turn_out', 'cohomologically_expansive', 'countably_many', 'ad_hoc', 'push_forward', 'almost_everywhere', 'pull_back', 'half_plane', 'derham_cohomology'}\n",
      "\n",
      "\n",
      "Порог = 50\n",
      "Список коллокаций:\n",
      "{'bona_fide', 'diffeomorphically_onto', 'ad_hoc', 'push_forward', 'pull_back'}\n",
      "\n",
      "\n"
     ]
    }
   ],
   "source": [
    "for doc in corpora:\n",
    "    for model in [bigrams_5,bigrams_10,bigrams_20,bigrams_50]:\n",
    "        print('Порог = %d' % model.threshold)\n",
    "        print(\"Список коллокаций:\")\n",
    "        transformed = model[doc]\n",
    "        print(set([token for token in transformed if '_' in token]))\n",
    "        print('\\n')\n",
    "    break"
   ]
  },
  {
   "cell_type": "markdown",
   "metadata": {},
   "source": [
    "Разумные значения параметра threshold: 5-10"
   ]
  },
  {
   "cell_type": "code",
   "execution_count": 84,
   "metadata": {
    "collapsed": false
   },
   "outputs": [
    {
     "name": "stdout",
     "output_type": "stream",
     "text": [
      "CPU times: user 1h 2min 21s, sys: 6.38 s, total: 1h 2min 27s\n",
      "Wall time: 1h 2min 27s\n"
     ]
    }
   ],
   "source": [
    "%%time \n",
    "\n",
    "trigram = Phrases(bigrams_5[corpora], threshold=5)\n",
    "trigram_10 = Phrases(bigrams_10[corpora], threshold=10)"
   ]
  },
  {
   "cell_type": "code",
   "execution_count": 86,
   "metadata": {
    "collapsed": false
   },
   "outputs": [
    {
     "name": "stdout",
     "output_type": "stream",
     "text": [
      "{'enough_injectives', 'high_dimensional', 'riemann_sphere', 'too_big', 'self_cohomomorphism', 'great_detail', 'arbitrarily_large', 'orientation_reverse', 'dynamical_behavior', 'cohomology_class', 'rather_than', 'map_diffeomorphically', 'orientable_manifold', 'finite_dimensional', 'rather_delicate', 'pull_back', 'compactly_support', 'radon_measure', 'diagram_commute', 'reference_cite', 'particularly_interest', 'growth_rat', 'positive_integer', 'take_place', 'uniform_convergence', 'most_importantly', 'do_not', 'push_forward', 'much_progress', 'without_affect', 'nimble_form', 'critical_point', 'exponentially_decay', 'other_word', 'great_deal', 'ad_hoc', 'great_than', 'take_advantage', 'canonically_identify', 'information_about', 'there_exist', 'our_attention', 'dynamical_system', 'scalar_multiple', 'much_attention', 'local_chart', 'commutative_diagram', 'sufficiently_large', 'invariant_under', 'under_mild', 'direct_consequence', 'focal_point', 'not_necessarily', 'absolutely_integrable', 'open_subset', 'exact_sequence', 'wide_variety', 'line_bundle', 'exterior_derivative', 'more_general', 'more_than', 'special_case', 'immediate_consequence', 'inner_product', 'exponentially_decrease', 'broad_class', 'make_sense', 'sufficiently_regular', 'keep_track', 'riemannian_metric', 'imaginary_part', 'growth_rate', 'grow_exponentially', 'normed_vector', 'countable_collection', 'fast_than', 'banach_space', 'almost_everywhere', 'at_least', 'absolute_value', 'open_neighborhood', 'straightforward_consequence', 'bona_fide', 'partial_derivative', 'countably_many', 'smoothly_vary', 'injective_resolution', 'reverse_orientation', 'depend_upon', 'basepoint_free', 'at_most', 'cohomologically_expansive', 'kahler_manifold', 'lebesgue_measure', 'uniformly_bound', 'half_plane', 'derham_cohomology', 'lenient_current', 'short_exact', 'give_rise', 'leave_hand', 'converge_uniformly', 'very_ample', 'under_consideration', 'wedge_product', 'codimension_submanifold', 'relatively_compact', 'finitely_many', 'turn_out', 'right_hand', 'lie_outside', 'mild_regularity', 'open_ball'}\n"
     ]
    }
   ],
   "source": [
    "for doc in corpora:\n",
    "    print(set([token for token in trigram[doc] if '_' in token]))\n",
    "    break"
   ]
  },
  {
   "cell_type": "markdown",
   "metadata": {},
   "source": [
    "Сохранение модели коллокаций"
   ]
  },
  {
   "cell_type": "code",
   "execution_count": 10,
   "metadata": {
    "collapsed": false
   },
   "outputs": [
    {
     "name": "stdout",
     "output_type": "stream",
     "text": [
      "CPU times: user 33.6 s, sys: 4.25 s, total: 37.9 s\n",
      "Wall time: 37.7 s\n"
     ]
    }
   ],
   "source": [
    "%%time\n",
    "\n",
    "#trigram.save('collocation.model')\n",
    "trigram_10.save('collocation_th10.model')"
   ]
  },
  {
   "cell_type": "code",
   "execution_count": 10,
   "metadata": {
    "collapsed": true
   },
   "outputs": [],
   "source": [
    "trigram = Phrases.load('collocation.model')"
   ]
  },
  {
   "cell_type": "markdown",
   "metadata": {},
   "source": [
    "Векторизация"
   ]
  },
  {
   "cell_type": "code",
   "execution_count": 12,
   "metadata": {
    "collapsed": true
   },
   "outputs": [],
   "source": [
    "pattern = '[_a-z0-9]+'\n",
    "\n",
    "class LazyCollocation:\n",
    "    def __init__(self, corpora_tokens):\n",
    "        self.corpora_tokens = corpora_tokens\n",
    "    \n",
    "    def __iter__(self):\n",
    "        for doc in self.corpora_tokens:\n",
    "            collocation = trigram[doc]\n",
    "            yield ' '.join(collocation)\n",
    "            \n",
    "corpora_collocation = LazyCollocation(corpora)"
   ]
  },
  {
   "cell_type": "code",
   "execution_count": 13,
   "metadata": {
    "collapsed": false
   },
   "outputs": [
    {
     "name": "stdout",
     "output_type": "stream",
     "text": [
      "CPU times: user 49min 40s, sys: 3.15 s, total: 49min 44s\n",
      "Wall time: 49min 44s\n"
     ]
    }
   ],
   "source": [
    "%%time\n",
    "\n",
    "vect = CountVectorizer(token_pattern=pattern, lowercase=False, ngram_range=(1,1), min_df=20, stop_words='english')\n",
    "vect.fit(corpora_collocation)"
   ]
  },
  {
   "cell_type": "code",
   "execution_count": 14,
   "metadata": {
    "collapsed": false
   },
   "outputs": [
    {
     "name": "stdout",
     "output_type": "stream",
     "text": [
      "Размер словаря: 97006\n"
     ]
    }
   ],
   "source": [
    "print(\"Размер словаря: %d\" % len(vect.get_feature_names()))"
   ]
  },
  {
   "cell_type": "code",
   "execution_count": 15,
   "metadata": {
    "collapsed": false
   },
   "outputs": [
    {
     "name": "stdout",
     "output_type": "stream",
     "text": [
      "['zorich', 'zorin', 'zorin_kranich', 'zorn', 'zorzi', 'zotov', 'zou', 'zou_hastie', 'zoupanos', 'zout', 'zowe', 'zp', 'zq', 'zquez', 'zr', 'zrp', 'zsid', 'zsido', 'zsigmondy', 'zsigmondy_prime', 'zsigmondy_zur', 'zt', 'zu', 'zu_berlin', 'zu_den', 'zu_einem', 'zu_einer', 'zuazua', 'zubairy', 'zuber', 'zubkov', 'zucca', 'zucchini', 'zucker', 'zuckerman', 'zuckerman_functor', 'zuckerman_functors', 'zudilin', 'zuk', 'zukowski', 'zum', 'zumino', 'zumino_nucl', 'zumino_phys', 'zung', 'zunino', 'zuo', 'zupnik', 'zur', 'zur_gathen', 'zur_mathematik', 'zur_theorie', 'zur_weylgruppe', 'zurek', 'zurek_phys', 'zurich', 'zurich_lecture', 'zurich_switzerland', 'zusammenh', 'zusmanovich', 'zuyev', 'zv', 'zvavitch', 'zvi', 'zvi_mathematical', 'zvonkin', 'zvonkine', 'zw', 'zwanzig', 'zwanziger', 'zwara', 'zwart', 'zwegers', 'zwei', 'zweibein', 'zweibel', 'zweier', 'zweig', 'zweim', 'zweite', 'zweiter', 'zwerger', 'zwerger_rev', 'zwick', 'zwicky', 'zwiebach', 'zwillinger', 'zwischen', 'zwischen_den', 'zworski', 'zx', 'zy', 'zyablov', 'zyczkowski', 'zygalakis', 'zygmund', 'zygmund_cambridge', 'zygouras', 'zywina', 'zz']\n"
     ]
    }
   ],
   "source": [
    "print(vect.get_feature_names()[-100:])"
   ]
  },
  {
   "cell_type": "code",
   "execution_count": 108,
   "metadata": {
    "collapsed": true
   },
   "outputs": [],
   "source": [
    "# transforming\n",
    "#\n",
    "collocation_matrix = vect.transform(corpora_collocation)\n",
    "\n",
    "# saving\n",
    "#\n",
    "pickling_data('collocation_matrix', collocation_matrix)"
   ]
  },
  {
   "cell_type": "code",
   "execution_count": 17,
   "metadata": {
    "collapsed": true
   },
   "outputs": [],
   "source": [
    "# loading\n",
    "#\n",
    "collocation_matrix = load_data('collocation_matrix')"
   ]
  },
  {
   "cell_type": "markdown",
   "metadata": {
    "collapsed": true
   },
   "source": [
    "## Взвешивание терминов\n",
    "* tf-idf\n",
    "* [BM25Transformer](https://github.com/arosh/BM25Transformer)  \n",
    "* [LogEntropy model](http://radimrehurek.com/gensim/models/logentropy_model.html)\n"
   ]
  },
  {
   "cell_type": "markdown",
   "metadata": {},
   "source": [
    "### TF-IDF\n",
    "[description]"
   ]
  },
  {
   "cell_type": "code",
   "execution_count": 41,
   "metadata": {
    "collapsed": false
   },
   "outputs": [
    {
     "name": "stdout",
     "output_type": "stream",
     "text": [
      "CPU times: user 824 ms, sys: 416 ms, total: 1.24 s\n",
      "Wall time: 1.24 s\n"
     ]
    }
   ],
   "source": [
    "%%time\n",
    "# Term frequency\n",
    "#\n",
    "tfidf = TfidfTransformer(use_idf=False)\n",
    "collocation_matrix_tfidf = tfidf.fit_transform(collocation_matrix)"
   ]
  },
  {
   "cell_type": "code",
   "execution_count": 42,
   "metadata": {
    "collapsed": true
   },
   "outputs": [],
   "source": [
    "vocab = vect.get_feature_names()\n",
    "pairs = dict(zip(vocab, collocation_matrix_tfidf.getrow(0).toarray()[0]))\n",
    "example = [(token, pairs[token]) for token in trigram[doc] if token in vocab]"
   ]
  },
  {
   "cell_type": "code",
   "execution_count": 43,
   "metadata": {
    "collapsed": false
   },
   "outputs": [
    {
     "data": {
      "text/plain": [
       "[('current', 0.37974186813073896),\n",
       " ('map', 0.30763898177680121),\n",
       " ('form', 0.23553609542286341),\n",
       " ('let', 0.2307292363326009),\n",
       " ('invariant', 0.21630865906181335),\n",
       " ('sheaf', 0.21630865906181335),\n",
       " ('theorem', 0.16343320906892564),\n",
       " ('use', 0.15862634997866312),\n",
       " ('point', 0.14420577270787557),\n",
       " ('define', 0.13939891361761303)]"
      ]
     },
     "execution_count": 43,
     "metadata": {},
     "output_type": "execute_result"
    }
   ],
   "source": [
    "sorted(set(example), key=operator.itemgetter(1), reverse=True)[:10]"
   ]
  },
  {
   "cell_type": "code",
   "execution_count": 45,
   "metadata": {
    "collapsed": false
   },
   "outputs": [
    {
     "name": "stdout",
     "output_type": "stream",
     "text": [
      "CPU times: user 3.11 s, sys: 824 ms, total: 3.93 s\n",
      "Wall time: 3.93 s\n"
     ]
    }
   ],
   "source": [
    "%%time\n",
    "# TF-IDF\n",
    "#\n",
    "tfidf = TfidfTransformer()\n",
    "collocation_matrix_tfidf = tfidf.fit_transform(collocation_matrix)"
   ]
  },
  {
   "cell_type": "code",
   "execution_count": 47,
   "metadata": {
    "collapsed": false
   },
   "outputs": [
    {
     "name": "stdout",
     "output_type": "stream",
     "text": [
      "\n",
      "Список наиболее значимых слов первого документа:\n"
     ]
    },
    {
     "data": {
      "text/plain": [
       "[('current', 0.41904371222421144),\n",
       " ('sheaf', 0.37902175255855597),\n",
       " ('pullback', 0.22798843163052071),\n",
       " ('map', 0.20165325213219404),\n",
       " ('invariant', 0.19983186958771543),\n",
       " ('member', 0.1747055160394908),\n",
       " ('eigenbundle', 0.16019067155391931),\n",
       " ('bundle', 0.14112974976084319),\n",
       " ('cohomological', 0.13564411981661917),\n",
       " ('form', 0.1236885271671955)]"
      ]
     },
     "execution_count": 47,
     "metadata": {},
     "output_type": "execute_result"
    }
   ],
   "source": [
    "vocab = vect.get_feature_names()\n",
    "pairs = dict(zip(vocab, collocation_matrix_tfidf.getrow(0).toarray()[0]))\n",
    "example = [(token, pairs[token]) for token in trigram[doc] if token in vocab]\n",
    "print(\"\\nСписок наиболее значимых слов первого документа:\")\n",
    "sorted(set(example), key=operator.itemgetter(1), reverse=True)[:10]"
   ]
  },
  {
   "cell_type": "code",
   "execution_count": 55,
   "metadata": {
    "collapsed": false
   },
   "outputs": [],
   "source": [
    "# saving\n",
    "#\n",
    "pickling_data('collocation_matrix_tfidf', collocation_matrix_tfidf)\n",
    "\n",
    "# saving dictionary\n",
    "pickling_data('collocation_vocabulary', dict(zip(range(len(vocab)), vocab)))"
   ]
  },
  {
   "cell_type": "markdown",
   "metadata": {},
   "source": [
    "**Трансформация и сохранение матриц n-грамм**"
   ]
  },
  {
   "cell_type": "code",
   "execution_count": 49,
   "metadata": {
    "collapsed": true
   },
   "outputs": [],
   "source": [
    "unigram_matrix = load_data('unigram_matrix')\n",
    "bigram_matrix = load_data('bigram_matrix')\n",
    "trigram_matrix = load_data('trigram_matrix')"
   ]
  },
  {
   "cell_type": "code",
   "execution_count": 50,
   "metadata": {
    "collapsed": true
   },
   "outputs": [],
   "source": [
    "# saving\n",
    "#\n",
    "pickling_data('unigram_matrix_tfidf', tfidf.fit_transform(unigram_matrix))\n",
    "pickling_data('bigram_matrix_tfidf', tfidf.fit_transform(bigram_matrix))\n",
    "pickling_data('trigram_matrix_tfidf', tfidf.fit_transform(trigram_matrix))"
   ]
  },
  {
   "cell_type": "markdown",
   "metadata": {},
   "source": [
    "### LogEntropy model\n",
    "[Описание]  \n",
    "http://radimrehurek.com/gensim/models/logentropy_model.html"
   ]
  },
  {
   "cell_type": "code",
   "execution_count": null,
   "metadata": {
    "collapsed": true
   },
   "outputs": [],
   "source": []
  },
  {
   "cell_type": "code",
   "execution_count": null,
   "metadata": {
    "collapsed": true
   },
   "outputs": [],
   "source": []
  },
  {
   "cell_type": "code",
   "execution_count": null,
   "metadata": {
    "collapsed": true
   },
   "outputs": [],
   "source": []
  },
  {
   "cell_type": "markdown",
   "metadata": {
    "collapsed": true
   },
   "source": [
    "## Источники\n",
    "\n",
    "1. models.phrases – Phrase (collocation) detection [ссылка](http://radimrehurek.com/gensim/models/phrases.html)  \n",
    "2. models.tfidfmodel – TF-IDF model [ссылка](http://radimrehurek.com/gensim/models/tfidfmodel.html)\n",
    "- Tomas Mikolov, Ilya Sutskever, Kai Chen, Greg Corrado, and Jeffrey Dean. [Distributed Representations of Words and Phrases and their Compositionality](https://arxiv.org/pdf/1310.4546v1.pdf). In Proceedings of NIPS, 2013.  \n",
    "- Wen-tau Yih. [Learning Term-weighting Functions for Similarity Measures](https://www.aclweb.org/anthology/D09-1083)\n",
    "- Закон Ципфа -- [Wiki](https://ru.wikipedia.org/wiki/Закон_Ципфа)  \n",
    "- @torselllo. [TF-IDF с примерами кода: просто и понятно](http://nlpx.net/archives/57)  \n",
    "- Pascal Soucy, Guy W. Mineau. [Beyond TFIDF Weighting for Text Categorization in the Vector Space Model](http://ijcai.org/Proceedings/05/Papers/0304.pdf)   "
   ]
  },
  {
   "cell_type": "code",
   "execution_count": null,
   "metadata": {
    "collapsed": true
   },
   "outputs": [],
   "source": []
  }
 ],
 "metadata": {
  "anaconda-cloud": {},
  "kernelspec": {
   "display_name": "Python 3",
   "language": "python",
   "name": "python3"
  },
  "language_info": {
   "codemirror_mode": {
    "name": "ipython",
    "version": 3
   },
   "file_extension": ".py",
   "mimetype": "text/x-python",
   "name": "python",
   "nbconvert_exporter": "python",
   "pygments_lexer": "ipython3",
   "version": "3.6.0"
  }
 },
 "nbformat": 4,
 "nbformat_minor": 1
}

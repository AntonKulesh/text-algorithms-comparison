{
 "cells": [
  {
   "cell_type": "markdown",
   "metadata": {},
   "source": [
    "# Векторные репрезентации слов\n",
    "# Часть 2. Методы понижения размерности частотных матриц\n",
    "![dim-red](http://www.scinethpc.ca/wp-content/uploads/2012/02/bengio.jpg)  \n",
    "<center>Picture from [2012 Compute Canada Allocations](https://www.scinethpc.ca/2012-allocations/)</center>\n",
    "## Оглавление\n",
    "* Латентно-семантический анализ (LSA)  \n",
    "* Метод рандомизированныз проекций (Random projections)\n",
    "* *?Линейный дискриминантный анализ (LDA)*"
   ]
  },
  {
   "cell_type": "markdown",
   "metadata": {
    "collapsed": true
   },
   "source": [
    "Необходимые библиотеки"
   ]
  },
  {
   "cell_type": "code",
   "execution_count": 1,
   "metadata": {
    "collapsed": false
   },
   "outputs": [
    {
     "name": "stdout",
     "output_type": "stream",
     "text": [
      "env: MKL_DYNAMIC=FALSE\n",
      "env: MKL_NUM_THREADS=8\n"
     ]
    }
   ],
   "source": [
    "%env MKL_DYNAMIC=FALSE\n",
    "%env MKL_NUM_THREADS=8\n",
    "\n",
    "import warnings\n",
    "warnings.filterwarnings('ignore')\n",
    "\n",
    "import pickle\n",
    "import operator\n",
    "import pandas as pd\n",
    "import numpy as np\n",
    "import scipy.sparse as sparse\n",
    "\n",
    "import gensim\n",
    "from gensim.models.rpmodel import RpModel\n",
    "from gensim.models.lsimodel import LsiModel\n",
    "\n",
    "from nltk.corpus import stopwords\n",
    "stop = set(stopwords.words('english'))\n",
    "\n",
    "import seaborn as sns\n",
    "import matplotlib.pyplot as plt\n",
    "import matplotlib as mpl\n",
    "%matplotlib inline\n",
    "\n",
    "pd.set_option('display.max_columns', None)\n",
    "pd.set_option('display.mpl_style', 'default')\n",
    "plt.rc('xtick', labelsize=14) \n",
    "plt.rc('ytick', labelsize=14)\n",
    "\n",
    "from matplotlib import rc\n",
    "font = {'family': 'Verdana', 'weight': 'normal'}\n",
    "rc('font', **font)\n",
    "\n",
    "from pylab import rcParams\n",
    "rcParams['figure.figsize'] = 15, 5"
   ]
  },
  {
   "cell_type": "markdown",
   "metadata": {
    "collapsed": true
   },
   "source": [
    "## Загрузка данных"
   ]
  },
  {
   "cell_type": "code",
   "execution_count": 3,
   "metadata": {
    "collapsed": false
   },
   "outputs": [
    {
     "name": "stdout",
     "output_type": "stream",
     "text": [
      "Corpora size: 164197\n"
     ]
    }
   ],
   "source": [
    "path_data = '~/'\n",
    "file = path_data + 'corpora_lem.csv'\n",
    "\n",
    "arxiv_id = pd.read_csv(path_data + 'corpora_lem.csv', chunksize=1, usecols=['arxiv_id'])\n",
    "n_corpora = len([_id for _id in arxiv_id])\n",
    "print(\"Corpora size: %d\" % n_corpora)"
   ]
  },
  {
   "cell_type": "code",
   "execution_count": 4,
   "metadata": {
    "collapsed": true
   },
   "outputs": [],
   "source": [
    "# Сериализация\n",
    "#\n",
    "def pickling_data(name, data):\n",
    "    out = open(name + '.pkl', 'wb')\n",
    "    pickle.dump(data, out)\n",
    "    out.close()\n",
    "    \n",
    "def load_data(name):\n",
    "    pkl_file = open(name + '.pkl', 'rb')\n",
    "    data = pickle.load(pkl_file)\n",
    "    pkl_file.close()\n",
    "    return data"
   ]
  },
  {
   "cell_type": "code",
   "execution_count": 5,
   "metadata": {
    "collapsed": false
   },
   "outputs": [
    {
     "name": "stdout",
     "output_type": "stream",
     "text": [
      "Рамерность матрицы униграмм: 163103 x 54475\n",
      "Рамерность матрицы биграмм: 163103 x 445023\n",
      "Рамерность матрицы триграмм: 163103 x 83503\n",
      "Рамерность сцепленной матрицы n-грамм: 163103 x 583001\n",
      "Рамерность матрицы коллокаций: 163103 x 97006\n"
     ]
    }
   ],
   "source": [
    "# Взвешенные частотные матрицы\n",
    "#\n",
    "unigram_matrix_tfidf = load_data('unigram_matrix_tfidf')\n",
    "print(\"Рамерность матрицы униграмм: %d x %d\" %  unigram_matrix_tfidf.get_shape())\n",
    "bigram_matrix_tfidf = load_data('bigram_matrix_tfidf')\n",
    "print(\"Рамерность матрицы биграмм: %d x %d\" %  bigram_matrix_tfidf.get_shape())\n",
    "trigram_matrix_tfidf = load_data('trigram_matrix_tfidf')\n",
    "print(\"Рамерность матрицы триграмм: %d x %d\" %  trigram_matrix_tfidf.get_shape())\n",
    "ngram_matrix_tfidf = sparse.hstack((unigram_matrix_tfidf, bigram_matrix_tfidf, trigram_matrix_tfidf))\n",
    "print(\"Рамерность сцепленной матрицы n-грамм: %d x %d\" %  ngram_matrix_tfidf.get_shape())\n",
    "collocation_matrix_tfidf = load_data('collocation_matrix_tfidf')\n",
    "print(\"Рамерность матрицы коллокаций: %d x %d\" %  collocation_matrix_tfidf.get_shape())"
   ]
  },
  {
   "cell_type": "markdown",
   "metadata": {},
   "source": [
    "### Латентно-семантический анализ\n",
    "[Описание]  \n",
    "\n",
    "При **латентно-семантическом анализе (индексировании)** документов задача состоит в том, чтобы спроецировать часто встречающиеся вместе термины в одно и то же измерение семантического пространства, которое имеет пониженную размерность по сравнению с оригинальной терм-документной матрицей, которая обычно довольно разрежена. Элементы этой матрицы содержат веса терминов в документах, назначенные с помощью выбранной весовой функции ($tf-idf$)\n",
    "\n",
    "Выполняется [сингулярное разложение матрицы](http://www.machinelearning.ru/wiki/index.php?title=SVD). Аппроксимирующая матрица отражает основную структуру зависимостей, содержащихся в исходной матрице.\n",
    "Каждый термин и документ представляется при помощи векторов в общем семантическом пространстве размерности $k<<n$.\n",
    "\n",
    "![lsa](https://liqiangguo.files.wordpress.com/2011/06/svd1.jpg?w=640&h=195)\n",
    "\n",
    "Предположения:\n",
    "* Документы это просто набор слов, порядок слов в документах игнорируется, важно только то, сколько раз то или иное слово встречается в документе.  \n",
    "* Семантическое значение документа определяется набором слов, которые как правило идут вместе.   \n",
    "* Каждое слово имеет единственное значение. \n"
   ]
  },
  {
   "cell_type": "code",
   "execution_count": 11,
   "metadata": {
    "collapsed": false
   },
   "outputs": [],
   "source": [
    "class LazyCorpora:\n",
    "    def __init__(self, file, limit=1000):\n",
    "        self.file = file\n",
    "        self.limit = limit\n",
    "    \n",
    "    def __iter__(self):\n",
    "        chunks = pd.read_csv(self.file, iterator=True, encoding = \"ISO-8859-1\")\n",
    "        for i in range(self.limit):\n",
    "            row = chunks.read(1)\n",
    "            content = row['text'].values[0].split()\n",
    "            cleaned = [token for token in content if token[0] in 'abcdefghijklmnopqrstuvwxyz' and token not in stop]\n",
    "            condition = len(cleaned) < 15000\n",
    "            if condition:\n",
    "                yield cleaned\n",
    "       \n",
    "    \n",
    "documents = LazyCorpora(file)\n",
    "dictionary = gensim.corpora.Dictionary(documents)\n",
    "corpus = [dictionary.doc2bow(doc) for doc in documents]"
   ]
  },
  {
   "cell_type": "code",
   "execution_count": 12,
   "metadata": {
    "collapsed": false
   },
   "outputs": [
    {
     "name": "stdout",
     "output_type": "stream",
     "text": [
      "Размер словаря: 22610\n"
     ]
    }
   ],
   "source": [
    "print(\"Размер словаря: %d\" % len(dictionary.token2id))"
   ]
  },
  {
   "cell_type": "code",
   "execution_count": 13,
   "metadata": {
    "collapsed": false
   },
   "outputs": [
    {
     "name": "stdout",
     "output_type": "stream",
     "text": [
      "Количество тем: 50\n",
      "Обучение модели...\n",
      "CPU times: user 8.79 s, sys: 640 ms, total: 9.43 s\n",
      "Wall time: 2.38 s\n"
     ]
    }
   ],
   "source": [
    "# Обучаем модель\n",
    "#\n",
    "n = 50\n",
    "print(\"Количество тем: %d\" % n)\n",
    "print(\"Обучение модели...\")\n",
    "%time lsi = gensim.models.lsimodel.LsiModel(corpus=corpus, id2word=dictionary, num_topics=n)"
   ]
  },
  {
   "cell_type": "markdown",
   "metadata": {},
   "source": [
    "Элементы диагональной матрицы сингулярного разложения"
   ]
  },
  {
   "cell_type": "code",
   "execution_count": 14,
   "metadata": {
    "collapsed": false
   },
   "outputs": [
    {
     "data": {
      "image/png": "[encoded data removed]",
      "text/plain": [
       "<matplotlib.figure.Figure at 0x7f3ab8d1bc18>"
      ]
     },
     "metadata": {},
     "output_type": "display_data"
    }
   ],
   "source": [
    "plt.plot(lsi.projection.s, 'o-')\n",
    "plt.xlabel(\"Количество компонент (тем)\")\n",
    "plt.ylabel(\"Значение\")\n",
    "plt.title(\"Сингулярные числа\")\n",
    "plt.show()"
   ]
  },
  {
   "cell_type": "markdown",
   "metadata": {},
   "source": [
    "Темы"
   ]
  },
  {
   "cell_type": "code",
   "execution_count": 19,
   "metadata": {
    "collapsed": false
   },
   "outputs": [
    {
     "data": {
      "text/plain": [
       "'-0.278*\"component\" + 0.229*\"equation\" + 0.216*\"sequence\" + 0.208*\"every\" + -0.175*\"curve\" + -0.171*\"orbit\" + 0.159*\"point\" + 0.135*\"positive\" + -0.134*\"vector\" + 0.128*\"property\" + 0.122*\"particle\" + -0.121*\"flow\" + 0.116*\"cluster\" + -0.112*\"space\" + -0.110*\"hyperbolic\" + 0.100*\"model\" + -0.094*\"figure\" + -0.094*\"bifurcation\" + -0.092*\"proposition\" + -0.091*\"give\" + 0.089*\"time\" + -0.088*\"section\" + -0.088*\"connect\" + 0.087*\"critical\" + 0.087*\"one\" + -0.086*\"path\" + -0.086*\"bound\" + -0.085*\"see\" + 0.085*\"lemma\" + -0.083*\"similar\" + 0.080*\"periodic\" + 0.079*\"state\" + 0.078*\"non\" + 0.078*\"lamination\" + 0.077*\"integer\" + 0.077*\"contain\" + 0.073*\"network\" + -0.072*\"hence\" + 0.072*\"exist\" + -0.072*\"estimate\" + -0.071*\"type\" + -0.071*\"field\" + -0.070*\"parameter\" + -0.069*\"statement\" + -0.066*\"self\" + -0.065*\"function\" + 0.065*\"leave\" + -0.065*\"measure\" + -0.065*\"number\" + -0.064*\"map\"'"
      ]
     },
     "execution_count": 19,
     "metadata": {},
     "output_type": "execute_result"
    }
   ],
   "source": [
    "lsi.print_topic(20, topn=50)"
   ]
  },
  {
   "cell_type": "markdown",
   "metadata": {
    "collapsed": true
   },
   "source": [
    "**Преобразование**  \n",
    "\n",
    "Взвешенные частотные матрица трансформируем в плотные матрицы, оставив 1000 наиболее значимых компонент. Полученные модели сохраним на локальный диск."
   ]
  },
  {
   "cell_type": "code",
   "execution_count": 27,
   "metadata": {
    "collapsed": true
   },
   "outputs": [],
   "source": [
    "path_to_models = '/home/kulesh271828/arxiv/models/dim_reduction/' # путь к папке, куда будут сохраняться модели\n",
    "\n",
    "def create_model(matrix, name, model_type=LsiModel, n=1000):\n",
    "    '''\n",
    "    Описание\n",
    "    '''\n",
    "    # Трансформируем частотную матрицу в формат корпуса\n",
    "    #\n",
    "    corpus = gensim.matutils.Sparse2Corpus(matrix)\n",
    "    \n",
    "    # Обучаем модель\n",
    "    #\n",
    "    model = model_type(corpus=corpus, id2word=None, num_topics=n)\n",
    "    \n",
    "    # Сохранение\n",
    "    #\n",
    "    model.save(path_to_models + name)"
   ]
  },
  {
   "cell_type": "code",
   "execution_count": 28,
   "metadata": {
    "collapsed": false
   },
   "outputs": [
    {
     "name": "stdout",
     "output_type": "stream",
     "text": [
      "Done!\n",
      "Done!\n",
      "Done!\n",
      "Done!\n",
      "Done!\n",
      "CPU times: user 16h 36min 25s, sys: 34min 56s, total: 17h 11min 21s\n",
      "Wall time: 3h 50min 3s\n"
     ]
    }
   ],
   "source": [
    "%%time\n",
    "\n",
    "create_model(unigram_matrix_tfidf, 'unigram.lsa')\n",
    "print(\"Done!\")\n",
    "create_model(bigram_matrix_tfidf, 'bigram.lsa')\n",
    "print(\"Done!\")\n",
    "create_model(trigram_matrix_tfidf, 'trigram.lsa')\n",
    "print(\"Done!\")\n",
    "create_model(ngram_matrix_tfidf, 'ngram.lsa')\n",
    "print(\"Done!\")\n",
    "create_model(collocation_matrix_tfidf, 'collocation.lsa')\n",
    "print(\"Done!\")"
   ]
  },
  {
   "cell_type": "code",
   "execution_count": null,
   "metadata": {
    "collapsed": true
   },
   "outputs": [],
   "source": []
  },
  {
   "cell_type": "markdown",
   "metadata": {},
   "source": [
    "### Рандомизированные проекции\n",
    "[Описание]"
   ]
  },
  {
   "cell_type": "markdown",
   "metadata": {},
   "source": [
    "**Преобразование**"
   ]
  },
  {
   "cell_type": "code",
   "execution_count": 29,
   "metadata": {
    "collapsed": false
   },
   "outputs": [
    {
     "name": "stdout",
     "output_type": "stream",
     "text": [
      "Unigram done!\n",
      "Bigram done!\n",
      "Trigram done!\n",
      "Ngram done!\n",
      "Collocation done!\n",
      "CPU times: user 4min 4s, sys: 13.1 s, total: 4min 17s\n",
      "Wall time: 4min 17s\n"
     ]
    }
   ],
   "source": [
    "%%time\n",
    "\n",
    "create_model(unigram_matrix_tfidf, 'unigram.rp', model_type=RpModel)\n",
    "print(\"Unigram done!\")\n",
    "create_model(bigram_matrix_tfidf, 'bigram.rp', model_type=RpModel)\n",
    "print(\"Bigram done!\")\n",
    "create_model(trigram_matrix_tfidf, 'trigram.rp', model_type=RpModel)\n",
    "print(\"Trigram done!\")\n",
    "create_model(ngram_matrix_tfidf, 'ngram.rp', model_type=RpModel)\n",
    "print(\"Ngram done!\")\n",
    "create_model(collocation_matrix_tfidf, 'collocation.rp', model_type=RpModel)\n",
    "print(\"Collocation done!\")"
   ]
  },
  {
   "cell_type": "code",
   "execution_count": null,
   "metadata": {
    "collapsed": true
   },
   "outputs": [],
   "source": []
  },
  {
   "cell_type": "markdown",
   "metadata": {},
   "source": [
    "## Источники"
   ]
  },
  {
   "cell_type": "markdown",
   "metadata": {},
   "source": [
    "1. Scott Deerwester, Richard Harshman. [Indexing by Latent Semantic Analysis](http://www.cs.bham.ac.uk/~pxt/IDA/lsa_ind.pdf)  \n",
    "2. models.lsimodel – [Latent Semantic Indexing](http://radimrehurek.com/gensim/models/lsimodel.html)  \n",
    "- models.rpmodel – [Random Projections](http://radimrehurek.com/gensim/models/rpmodel.html)  \n",
    "- Колесников Е. В. [SVD-разложение и его практические приложения](https://www.overleaf.com/articles/svd-razlozhieniie-i-iegho-praktichieskiie-prilozhieniia-svd-decomposition-and-its-practical-applications/gkzqbdxdgmry/viewer.pdf)\n",
    "- @Edunov. [Латентно-семантический анализ](https://habrahabr.ru/post/110078/) -- Habrahabr, 2010.  \n",
    "- @Surfingbird. [Рекомендательные системы: SVD, часть I](https://habrahabr.ru/company/surfingbird/blog/139863/)  \n",
    "- @DataNeel. [yelp_lsa.ipynb](https://github.com/DataNeel/yelp_lsa/blob/master/yelp_lsa.ipynb)\n",
    "- Саламаха О. [Алгоритм LSA для поиска похожих документов](https://netpeak.net/ru/blog/algoritm-lsa-dlya-poiska-pohozhih-dokumentov/)\n",
    "- Chris McCormick. [Latent Semantic Analysis (LSA) for Text Classification Tutorial](http://mccormickml.com/2016/03/25/lsa-for-text-classification-tutorial/)  \n",
    "- Linus Sellberg, Arne Jonsson. [Using Random Indexing to improve Singular Value Decomposition for Latent Semantic Analysis](http://www.lrec-conf.org/proceedings/lrec2008/pdf/586_paper.pdf)  \n",
    "- Ella Bingham and Heikki Mannila. [Random projection in dimensionality reduction: Applications to image and text data](http://users.ics.aalto.fi/ella/publications/randproj_kdd.pdf)\n",
    "- L. Maaten, E. Postma. [Dimensionality Reduction: A Comparative Review](https://www.tilburguniversity.edu/upload/59afb3b8-21a5-4c78-8eb3-6510597382db_TR2009005.pdf)  "
   ]
  },
  {
   "cell_type": "code",
   "execution_count": null,
   "metadata": {
    "collapsed": true
   },
   "outputs": [],
   "source": []
  }
 ],
 "metadata": {
  "kernelspec": {
   "display_name": "Python 3",
   "language": "python",
   "name": "python3"
  },
  "language_info": {
   "codemirror_mode": {
    "name": "ipython",
    "version": 3
   },
   "file_extension": ".py",
   "mimetype": "text/x-python",
   "name": "python",
   "nbconvert_exporter": "python",
   "pygments_lexer": "ipython3",
   "version": "3.6.0"
  }
 },
 "nbformat": 4,
 "nbformat_minor": 2
}

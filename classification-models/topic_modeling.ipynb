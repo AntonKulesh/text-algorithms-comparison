{
 "cells": [
  {
   "cell_type": "markdown",
   "metadata": {},
   "source": [
    "# Векторные репрезентации слов и документов\n",
    "# Часть 3. Тематическое моделирование (topic modeling)\n",
    "## Оглавление\n",
    "* Латентное размещение Дирихле (LDA)\n",
    "* LDA & Word2vec\n",
    "\n",
    "---\n",
    "## Введение\n",
    "[Тематическое моделирование](http://www.machinelearning.ru/wiki/index.php?title=%D0%A2%D0%B5%D0%BC%D0%B0%D1%82%D0%B8%D1%87%D0%B5%D1%81%D0%BA%D0%B0%D1%8F_%D0%BC%D0%BE%D0%B4%D0%B5%D0%BB%D1%8C) — способ построения модели коллекции\n",
    "текстовых документов, которая определяет, к каким темам относится каждый из\n",
    "документов. Переход из пространства терминов в пространство найденных тематик помогает разрешать синонимию и полисемию терминов.\n",
    "\n",
    "Cжатое семантическое описание слова или документа представляет собой вероятностное распределение на множестве тем.\n",
    "\n",
    "Тематическое моделирование позволяет автоматически систематизировать и реферировать электронные архивы такого масштаба, который человек не в силах обработать.\n",
    "\n",
    "**Иллюстрация идеи**\n",
    "![Topic modeling](http://kldavenport.com/wp-content/uploads/2017/03/Blei-lda-2011-940x457.png)\n",
    "\n",
    "\n",
    "**[Карпович]** *Тематические модели задают мягкую кластеризацию* слов и документов по кластерам-темам, означающую, что слово или документ могут быть отнесены сразу нескольким темам с различными вероятностями.\n",
    "В результате синонимы с большой вероятностью будут отнесены к одной теме, так как часто употребляются в рамках одних и тех же контекстов, а омонимы попадут в разные, так как их контексты различаются. Тематические модели, как правило, основаны на гипотезе «мешка слов» и «мешка документов», т.е. порядок документов в коллекции не имеет значения и порядок слов в документе не имеет значения.\n",
    "\n"
   ]
  },
  {
   "cell_type": "markdown",
   "metadata": {},
   "source": [
    "**Необходимые библиотеки**"
   ]
  },
  {
   "cell_type": "code",
   "execution_count": 1,
   "metadata": {
    "collapsed": false
   },
   "outputs": [
    {
     "name": "stdout",
     "output_type": "stream",
     "text": [
      "env: MKL_DYNAMIC=FALSE\n",
      "env: MKL_NUM_THREADS=8\n"
     ]
    }
   ],
   "source": [
    "%env MKL_DYNAMIC=FALSE\n",
    "%env MKL_NUM_THREADS=8\n",
    "\n",
    "import os\n",
    "import warnings\n",
    "warnings.filterwarnings('ignore')\n",
    "\n",
    "import pickle\n",
    "import pandas as pd\n",
    "import numpy as np\n",
    "import scipy.sparse as sparse\n",
    "\n",
    "import gensim\n",
    "from gensim import corpora\n",
    "from gensim.models.ldamodel import LdaModel\n",
    "from gensim.models.ldamulticore import LdaMulticore\n",
    "from gensim.models.phrases import Phrases\n",
    "from gensim.models import word2vec\n",
    "\n",
    "from nltk.corpus import stopwords\n",
    "stop = set(stopwords.words('english'))\n",
    "\n",
    "import seaborn as sns\n",
    "import matplotlib.pyplot as plt\n",
    "import matplotlib as mpl\n",
    "\n",
    "pd.set_option('display.max_columns', None)\n",
    "pd.set_option('display.mpl_style', 'default')\n",
    "plt.rc('xtick', labelsize=12) \n",
    "plt.rc('ytick', labelsize=12)\n",
    "\n",
    "sns.set_style('whitegrid')\n",
    "sns.set_palette('muted')\n",
    "sns.set_context(\"notebook\", font_scale=1.5,\n",
    "rc={\"lines.linewidth\": 1.5})\n",
    "\n",
    "from pylab import rcParams\n",
    "rcParams['figure.figsize'] = 15, 5\n",
    "%matplotlib inline"
   ]
  },
  {
   "cell_type": "markdown",
   "metadata": {
    "collapsed": true
   },
   "source": [
    "## Загрузка данных"
   ]
  },
  {
   "cell_type": "code",
   "execution_count": 46,
   "metadata": {
    "collapsed": false
   },
   "outputs": [
    {
     "name": "stdout",
     "output_type": "stream",
     "text": [
      "Corpora size: 164197\n"
     ]
    }
   ],
   "source": [
    "path_data = '~/'\n",
    "file = path_data + 'corpora_lem.csv'\n",
    "\n",
    "arxiv_id = pd.read_csv(path_data + 'corpora_lem.csv', chunksize=1, usecols=['arxiv_id'])\n",
    "n_corpora = len([_id for _id in arxiv_id])\n",
    "print(\"Corpora size: %d\" % n_corpora)"
   ]
  },
  {
   "cell_type": "markdown",
   "metadata": {},
   "source": [
    "Сериализация python-объектов"
   ]
  },
  {
   "cell_type": "code",
   "execution_count": 2,
   "metadata": {
    "collapsed": true
   },
   "outputs": [],
   "source": [
    "def pickling_data(name, data):\n",
    "    out = open(name + '.pkl', 'wb')\n",
    "    pickle.dump(data, out)\n",
    "    out.close()\n",
    "    \n",
    "def load_data(name):\n",
    "    pkl_file = open(name, 'rb')\n",
    "    data = pickle.load(pkl_file)\n",
    "    pkl_file.close()\n",
    "    return data"
   ]
  },
  {
   "cell_type": "code",
   "execution_count": 48,
   "metadata": {
    "collapsed": true
   },
   "outputs": [],
   "source": [
    "class LazyCorpora:\n",
    "    def __init__(self, file, limit=1000, column=False):\n",
    "        self.file = file\n",
    "        self.limit = limit\n",
    "        self.column = column\n",
    "    \n",
    "    def __iter__(self):\n",
    "        chunks = pd.read_csv(self.file, iterator=True, encoding = \"ISO-8859-1\")\n",
    "        for i in range(self.limit):\n",
    "            row = chunks.read(1)\n",
    "            content = row['text'].values[0].split()\n",
    "            cleaned = [token for token in content if token[0] in 'abcdefghijklmnopqrstuvwxyz' and token not in stop]\n",
    "            condition = len(cleaned) < 15000\n",
    "            if condition:\n",
    "                if not self.column:\n",
    "                    yield cleaned\n",
    "                else:\n",
    "                    yield row[self.column].values[0]"
   ]
  },
  {
   "cell_type": "code",
   "execution_count": 5,
   "metadata": {
    "collapsed": false
   },
   "outputs": [],
   "source": [
    "documents = LazyCorpora(file)\n",
    "dictionary = gensim.corpora.Dictionary(documents)\n",
    "corpus = [dictionary.doc2bow(doc) for doc in documents]"
   ]
  },
  {
   "cell_type": "code",
   "execution_count": 6,
   "metadata": {
    "collapsed": false
   },
   "outputs": [
    {
     "name": "stdout",
     "output_type": "stream",
     "text": [
      "['goal', 'paper', 'construct', 'invariant', 'dynamical', 'object', 'necessarily', 'invertible', 'smooth', 'self', 'map', 'compact', 'manifold', 'prove', 'result', 'take', 'advantage', 'difference', 'rat', 'expansion', 'term', 'sheaf', 'cohomological', 'long', 'exact', 'sequence', 'create', 'unique', 'lift', 'finite', 'dimensional', 'invariant', 'subspace', 'one', 'term', 'sequence', 'invariant', 'subspace', 'precede', 'term', 'allow', 'take', 'invariant', 'cohomological', 'class', 'right', 'circumstance', 'construct', 'unique', 'current', 'give', 'type', 'include', 'unique', 'measure', 'give', 'type', 'represent', 'class', 'invariant', 'pullback', 'dynamically', 'interest', 'self', 'map', 'may', 'plethora', 'invariant', 'measure', 'uniquess', 'construct', 'current', 'important', 'mean', 'local', 'growth', 'big', 'compare', 'growth', 'rate', 'cohomological', 'class', 'expand', 'cohomological', 'class', 'give', 'sufficient', 'march', 'order', 'invariant', 'current', 'type', 'say', 'local', 'dynamical', 'subsystem', 'use', 'subsheaves', 'sheaf', 'current']\n"
     ]
    }
   ],
   "source": [
    "for doc in documents:\n",
    "    print(doc[:100])\n",
    "    break"
   ]
  },
  {
   "cell_type": "markdown",
   "metadata": {},
   "source": [
    "## Латентное размещение Дирихле\n",
    "[Описание]  \n",
    "\n",
    "![lda](http://hellomarc.us/static/images/lda-plate.png)\n",
    "\n",
    ">**Количество классов в корпусе = 26**"
   ]
  },
  {
   "cell_type": "code",
   "execution_count": 8,
   "metadata": {
    "collapsed": false
   },
   "outputs": [
    {
     "name": "stdout",
     "output_type": "stream",
     "text": [
      "CPU times: user 56.9 s, sys: 1min 43s, total: 2min 40s\n",
      "Wall time: 41.1 s\n"
     ]
    }
   ],
   "source": [
    "%%time\n",
    "\n",
    "lda = LdaModel(corpus=corpus, id2word=dictionary, num_topics=50, update_every=1, chunksize=100, passes=1)"
   ]
  },
  {
   "cell_type": "code",
   "execution_count": 9,
   "metadata": {
    "collapsed": false
   },
   "outputs": [
    {
     "data": {
      "text/plain": [
       "[(2,\n",
       "  '0.029*\"measure\" + 0.021*\"map\" + 0.016*\"let\" + 0.013*\"set\" + 0.012*\"theorem\" + 0.010*\"system\" + 0.010*\"follow\" + 0.010*\"give\" + 0.009*\"markov\" + 0.009*\"ergodic\" + 0.008*\"use\" + 0.008*\"prove\" + 0.008*\"time\" + 0.008*\"result\" + 0.008*\"function\" + 0.007*\"mix\" + 0.007*\"lemma\" + 0.006*\"section\" + 0.006*\"proposition\" + 0.006*\"define\"'),\n",
       " (18,\n",
       "  '0.054*\"de\" + 0.047*\"digraph\" + 0.040*\"le\" + 0.025*\"et\" + 0.024*\"la\" + 0.022*\"command\" + 0.017*\"environment\" + 0.016*\"que\" + 0.015*\"est\" + 0.015*\"balance\" + 0.014*\"dans\" + 0.012*\"un\" + 0.012*\"pour\" + 0.011*\"si\" + 0.010*\"par\" + 0.010*\"nous\" + 0.009*\"en\" + 0.009*\"une\" + 0.006*\"ce\" + 0.006*\"tout\"'),\n",
       " (15,\n",
       "  '0.027*\"let\" + 0.019*\"flow\" + 0.015*\"follow\" + 0.015*\"close\" + 0.013*\"constant\" + 0.013*\"measure\" + 0.013*\"current\" + 0.013*\"positive\" + 0.011*\"smooth\" + 0.011*\"theorem\" + 0.011*\"function\" + 0.010*\"since\" + 0.010*\"space\" + 0.010*\"manifold\" + 0.010*\"cocycle\" + 0.009*\"define\" + 0.009*\"use\" + 0.009*\"set\" + 0.008*\"estimate\" + 0.008*\"form\"'),\n",
       " (10,\n",
       "  '0.039*\"let\" + 0.026*\"set\" + 0.018*\"theorem\" + 0.017*\"every\" + 0.016*\"follow\" + 0.014*\"system\" + 0.013*\"exist\" + 0.013*\"sequence\" + 0.011*\"function\" + 0.011*\"lemma\" + 0.010*\"since\" + 0.009*\"ergodic\" + 0.009*\"measure\" + 0.009*\"prove\" + 0.008*\"show\" + 0.008*\"space\" + 0.008*\"subset\" + 0.008*\"proof\" + 0.007*\"result\" + 0.007*\"use\"'),\n",
       " (34,\n",
       "  '0.020*\"let\" + 0.019*\"follow\" + 0.015*\"lemma\" + 0.013*\"case\" + 0.013*\"theorem\" + 0.012*\"give\" + 0.012*\"first\" + 0.011*\"function\" + 0.011*\"estimate\" + 0.010*\"proof\" + 0.010*\"use\" + 0.009*\"prove\" + 0.009*\"map\" + 0.009*\"consider\" + 0.009*\"one\" + 0.008*\"since\" + 0.008*\"point\" + 0.008*\"result\" + 0.008*\"define\" + 0.007*\"show\"'),\n",
       " (30,\n",
       "  '0.059*\"algorithm\" + 0.050*\"sft\" + 0.047*\"sfts\" + 0.039*\"effective\" + 0.019*\"carpet\" + 0.017*\"computability\" + 0.016*\"train\" + 0.014*\"type\" + 0.014*\"operation\" + 0.011*\"give\" + 0.009*\"decidable\" + 0.009*\"input\" + 0.008*\"function\" + 0.008*\"algorithmically\" + 0.008*\"state\" + 0.007*\"track\" + 0.007*\"finite\" + 0.007*\"undecidable\" + 0.007*\"reducible\" + 0.006*\"problem\"'),\n",
       " (42,\n",
       "  '0.014*\"let\" + 0.012*\"set\" + 0.011*\"one\" + 0.009*\"follow\" + 0.008*\"give\" + 0.008*\"result\" + 0.007*\"function\" + 0.007*\"theorem\" + 0.007*\"space\" + 0.007*\"see\" + 0.007*\"use\" + 0.007*\"system\" + 0.006*\"point\" + 0.006*\"consider\" + 0.005*\"also\" + 0.005*\"example\" + 0.005*\"map\" + 0.005*\"finite\" + 0.004*\"section\" + 0.004*\"show\"'),\n",
       " (12,\n",
       "  '0.043*\"let\" + 0.017*\"set\" + 0.016*\"point\" + 0.015*\"theorem\" + 0.014*\"follow\" + 0.013*\"map\" + 0.012*\"since\" + 0.010*\"exist\" + 0.010*\"lemma\" + 0.009*\"proof\" + 0.009*\"prove\" + 0.009*\"orbit\" + 0.008*\"show\" + 0.008*\"open\" + 0.008*\"one\" + 0.008*\"fix\" + 0.008*\"suppose\" + 0.007*\"every\" + 0.007*\"define\" + 0.007*\"thus\"'),\n",
       " (49,\n",
       "  '0.026*\"set\" + 0.022*\"let\" + 0.018*\"mather\" + 0.017*\"convex\" + 0.016*\"lagrangian\" + 0.015*\"semi\" + 0.013*\"function\" + 0.013*\"exist\" + 0.012*\"therefore\" + 0.011*\"compact\" + 0.011*\"follow\" + 0.011*\"prove\" + 0.011*\"point\" + 0.011*\"see\" + 0.010*\"result\" + 0.009*\"proposition\" + 0.009*\"aubry\" + 0.009*\"define\" + 0.009*\"continuous\" + 0.008*\"curve\"'),\n",
       " (36,\n",
       "  '0.062*\"hamiltonian\" + 0.024*\"gradient\" + 0.022*\"symplectic\" + 0.013*\"minimax\" + 0.013*\"energy\" + 0.013*\"morse\" + 0.013*\"vector\" + 0.012*\"invariant\" + 0.012*\"isotropy\" + 0.011*\"form\" + 0.011*\"poisson\" + 0.011*\"decomposition\" + 0.010*\"flow\" + 0.010*\"field\" + 0.010*\"space\" + 0.009*\"equation\" + 0.008*\"system\" + 0.008*\"fibrewise\" + 0.007*\"bracket\" + 0.007*\"give\"')]"
      ]
     },
     "execution_count": 9,
     "metadata": {},
     "output_type": "execute_result"
    }
   ],
   "source": [
    "lda.print_topics(10, num_words=20)"
   ]
  },
  {
   "cell_type": "code",
   "execution_count": 11,
   "metadata": {
    "collapsed": false
   },
   "outputs": [
    {
     "data": {
      "text/plain": [
       "[('operator', 0.064084941953441291),\n",
       " ('series', 0.053017738253276693),\n",
       " ('formal', 0.052109618038260551),\n",
       " ('qso', 0.027859445713947845),\n",
       " ('volterra', 0.024523818188563504),\n",
       " ('quadratic', 0.01722756144604206),\n",
       " ('formally', 0.011973961748379761),\n",
       " ('supercyclic', 0.01165928450390471),\n",
       " ('qsos', 0.010450820230778363),\n",
       " ('define', 0.010211629382650541),\n",
       " ('non', 0.008735223170563888),\n",
       " ('problem', 0.0080156600883327447),\n",
       " ('ganikhodzhaev', 0.0079957414669884902),\n",
       " ('since', 0.0070470244774667422),\n",
       " ('nonoscillatory', 0.0069623678809304082),\n",
       " ('form', 0.0069032616246045833),\n",
       " ('function', 0.0066403685866588237),\n",
       " ('one', 0.0065004834954533412),\n",
       " ('analytic', 0.0063840905560895219),\n",
       " ('thus', 0.0062677856080759998)]"
      ]
     },
     "execution_count": 11,
     "metadata": {},
     "output_type": "execute_result"
    }
   ],
   "source": [
    "lda.show_topic(0, topn=20)"
   ]
  },
  {
   "cell_type": "markdown",
   "metadata": {
    "collapsed": true
   },
   "source": [
    "### Создание модели"
   ]
  },
  {
   "cell_type": "code",
   "execution_count": 5,
   "metadata": {
    "collapsed": false
   },
   "outputs": [],
   "source": [
    "path_to_models = '/home/kulesh271828/arxiv/models/topic_modeling/'\n",
    "n_classes = 26\n",
    "\n",
    "def create_model(matrix, name, model_type=LdaModel, n=n_classes, iters=100):\n",
    "    '''\n",
    "    Описание\n",
    "    '''\n",
    "    # Трансформируем частотную матрицу в формат корпуса\n",
    "    #\n",
    "    corpus = gensim.matutils.Sparse2Corpus(matrix)\n",
    "    \n",
    "    # Обучаем модель\n",
    "    #\n",
    "    model = model_type(corpus=corpus, id2word=None, eval_every=None, num_topics=n, \\\n",
    "                       iterations=iters, chunksize=1600, passes=1)\n",
    "    # Сохранение\n",
    "    #\n",
    "    model.save(path_to_models + name)"
   ]
  },
  {
   "cell_type": "markdown",
   "metadata": {},
   "source": [
    "### Обучение моделей на корпусе униграмм"
   ]
  },
  {
   "cell_type": "code",
   "execution_count": null,
   "metadata": {
    "collapsed": false
   },
   "outputs": [],
   "source": [
    "# Загружаем частотную матрицу \n",
    "unigram_matrix = load_data('unigram_matrix_tfidf')\n",
    "\n",
    "num_topics = [26, 50, 100, 250, 500]\n",
    "\n",
    "for n in num_topics:\n",
    "    name = 'unigram_' + str(n) + '.lda'\n",
    "    print('Creating model with %d topics...' % n)\n",
    "    %time create_model(corpus, name, model_type=LdaMulticore, n=n)\n",
    "    print('\\n')"
   ]
  },
  {
   "cell_type": "code",
   "execution_count": 6,
   "metadata": {
    "collapsed": false
   },
   "outputs": [
    {
     "name": "stdout",
     "output_type": "stream",
     "text": [
      "Creating model with 500 topics...\n",
      "CPU times: user 1h 53min 27s, sys: 1h 42min 44s, total: 3h 36min 11s\n",
      "Wall time: 1h 15min 6s\n"
     ]
    }
   ],
   "source": [
    "n = 500\n",
    "name = 'unigram_' + str(n) + '.lda'\n",
    "print('Creating model with %d topics...' % n)\n",
    "%time create_model(unigram_matrix, name, model_type=LdaModel, n=n)"
   ]
  },
  {
   "cell_type": "markdown",
   "metadata": {},
   "source": [
    ">**Число тем**: 26  \n",
    "**CPU times**: user 14min 44s, sys: 28.1 s, total: 15min 12s  \n",
    "**Wall time**: 15min 28s\n",
    "\n",
    ">**Число тем**: 50  \n",
    "**CPU times**: user 16min 56s, sys: 32.6 s, total: 17min 29s  \n",
    "**Wall time**: 18min 20s\n",
    "\n",
    ">**Число тем**: 100   \n",
    "**CPU times**: user 20min 22s, sys: 42.2 s, total: 21min 4s  \n",
    "**Wall time**: 23min 17s\n",
    "\n",
    ">**Число тем**: 250   \n",
    "**CPU times**: user 30min 11s, sys: 1min 14s, total: 31min 26s  \n",
    "**Wall time**: 42min 39s\n",
    "\n",
    ">**Число тем**: 500   \n",
    "**CPU times**: user 1h 53min 27s, sys: 1h 42min 44s, total: 3h 36min 11s  \n",
    "**Wall time**: 1h 15min 6s"
   ]
  },
  {
   "cell_type": "markdown",
   "metadata": {},
   "source": [
    "### Обучение моделей на корпусе коллокаций"
   ]
  },
  {
   "cell_type": "code",
   "execution_count": null,
   "metadata": {
    "collapsed": false
   },
   "outputs": [],
   "source": [
    "print(\"Matrix loading...\")\n",
    "collocation_matrix = load_data('collocation_matrix')\n",
    "\n",
    "num_topics = [26, 50, 100, 250, 500]\n",
    "\n",
    "for n in num_topics:\n",
    "    name = 'collocation_' + str(n) + '.lda'\n",
    "    print('Creating model with %d topics...' % n)\n",
    "    %time create_model(collocation_matrix, name, model_type=LdaMulticore, n=n)\n",
    "    print('\\n')"
   ]
  },
  {
   "cell_type": "code",
   "execution_count": 7,
   "metadata": {
    "collapsed": false
   },
   "outputs": [
    {
     "name": "stdout",
     "output_type": "stream",
     "text": [
      "Matrix loading...\n",
      "Creating model with 500 topics...\n",
      "CPU times: user 6h 34min 52s, sys: 5h 29min 2s, total: 12h 3min 55s\n",
      "Wall time: 3h 23min 35s\n"
     ]
    }
   ],
   "source": [
    "n = 500\n",
    "print(\"Matrix loading...\")\n",
    "collocation_matrix = load_data('collocation_matrix')\n",
    "print('Creating model with %d topics...' % n)\n",
    "name = 'collocation_' + str(n) + '.lda'\n",
    "%time create_model(collocation_matrix, name, model_type=LdaModel, n=n)"
   ]
  },
  {
   "cell_type": "markdown",
   "metadata": {},
   "source": [
    ">**Число тем**: 26  \n",
    "**CPU times**: user 22min 21s, sys: 38.8 s, total: 23min  \n",
    "**Wall time**: 34min 50s\n",
    "\n",
    ">**Число тем**: 50  \n",
    "**CPU times**: user 25min 31s, sys: 50.1 s, total: 26min 21s  \n",
    "**Wall time**: 44min 31s\n",
    "\n",
    ">**Число тем**: 100   \n",
    "**CPU times**: user 35min 19s, sys: 1min 13s, total: 36min 33s  \n",
    "**Wall time**: 1h 3min 39s\n",
    "\n",
    ">**Число тем**: 250   \n",
    "**CPU times**: user 35min 19s, sys: 1min 13s, total: 36min 33s  \n",
    "**Wall time**: 1h 56min 53s\n",
    "\n",
    ">**Число тем**: 500   \n",
    "**CPU times**: user 6h 34min 52s, sys: 5h 29min 2s, total: 12h 3min 55s  \n",
    "**Wall time**: 3h 23min 35s"
   ]
  },
  {
   "cell_type": "markdown",
   "metadata": {},
   "source": [
    "# Классификация"
   ]
  },
  {
   "cell_type": "code",
   "execution_count": 34,
   "metadata": {
    "collapsed": true
   },
   "outputs": [],
   "source": [
    "from sklearn.model_selection import train_test_split, cross_val_score, StratifiedKFold, GridSearchCV\n",
    "from sklearn.linear_model import SGDClassifier\n",
    "from sklearn.preprocessing import normalize\n",
    "from sklearn.metrics import f1_score, make_scorer\n",
    "\n",
    "seed_test = 31415\n",
    "seed_valid = 27182\n",
    "y = np.array(pd.read_csv('category_title_1.csv', usecols=['primary_category']).fillna('math.PR')).flatten()"
   ]
  },
  {
   "cell_type": "code",
   "execution_count": 35,
   "metadata": {
    "collapsed": true
   },
   "outputs": [],
   "source": [
    "def modeling(clf, parameters, X, y, name, normalizing=True, k=5, n_jobs=8, verbose=2):\n",
    "    '''\n",
    "    Desciption\n",
    "    '''\n",
    "    if normalizing:\n",
    "        X = normalize(X, norm='l2', axis=1)\n",
    "        \n",
    "    X_train, X_test, y_train, y_test = train_test_split(X, y, random_state=seed_test, test_size=0.3)\n",
    "    \n",
    "    skf = StratifiedKFold(n_splits=k, random_state=seed_valid)\n",
    "    f1_scorer = make_scorer(f1_score, average='weighted')\n",
    "    \n",
    "    gs = GridSearchCV(clf, parameters, cv=skf, verbose=verbose, n_jobs=n_jobs, scoring=f1_scorer)\n",
    "    print(\"Searching best parameters...\")\n",
    "    gs.fit(X_train, y_train)\n",
    "    pickling_data(name, gs)\n",
    "    print(\"Best parameters: %s\" % gs.best_params_)\n",
    "    \n",
    "    ind = gs.best_index_\n",
    "    mean_train = gs.cv_results_['mean_train_score'][ind]\n",
    "    std_train = gs.cv_results_['std_train_score'][ind]\n",
    "    mean_valid = gs.cv_results_['mean_test_score'][ind]\n",
    "    std_valid = gs.cv_results_['std_test_score'][ind]\n",
    "    \n",
    "    print(\"Training best model on full train data...\")\n",
    "    clf = gs.best_estimator_\n",
    "    %time clf.fit(X_train, y_train)\n",
    "    y_pred = clf.predict(X_test)\n",
    "    score_test = f1_score(y_pred, y_test, average='weighted')\n",
    "    \n",
    "    print(\"Train score: %.3f +/- %.3f\" % (mean_train, std_train))\n",
    "    print(\"CV score: %.3f +/- %.3f\" % (mean_valid, std_valid))\n",
    "    print(\"Test score: %.3f\\n\" % score_test)"
   ]
  },
  {
   "cell_type": "markdown",
   "metadata": {},
   "source": [
    "### Униграммы"
   ]
  },
  {
   "cell_type": "code",
   "execution_count": null,
   "metadata": {
    "collapsed": false
   },
   "outputs": [],
   "source": [
    "path_to_models = '/home/kulesh271828/arxiv/models/topic_modeling/'\n",
    "\n",
    "names = ['unigram_26.lda', 'unigram_50.lda',\n",
    "         'unigram_100.lda', 'unigram_250.lda',\n",
    "         'unigram_500.lda']\n",
    "\n",
    "# Загружаем частотную матрицу \n",
    "unigram_matrix = load_data('unigram_matrix_tfidf.pkl')\n",
    "\n",
    "for name in names:\n",
    "    lda = LdaModel.load(path_to_models + name)\n",
    "    corpus = gensim.matutils.Sparse2Corpus(unigram_matrix.transpose())\n",
    "    lda_corpus = lda[corpus]\n",
    "    X_lda = gensim.matutils.corpus2csc(lda_corpus)\n",
    "    pickling_data(path_to_models + 'X_' + name, X_lda.transpose())"
   ]
  },
  {
   "cell_type": "markdown",
   "metadata": {},
   "source": [
    "[Картинка Пример вектора документа]"
   ]
  },
  {
   "cell_type": "code",
   "execution_count": 16,
   "metadata": {
    "collapsed": false
   },
   "outputs": [
    {
     "data": {
      "text/plain": [
       "['X_unigram_250.lda.pkl',\n",
       " 'X_unigram_26.lda.pkl',\n",
       " 'X_unigram_500.lda.pkl',\n",
       " 'X_collocation_50.lda.pkl',\n",
       " 'X_unigram_50.lda.pkl',\n",
       " 'X_unigram_100.lda.pkl',\n",
       " 'X_collocation_26.lda.pkl']"
      ]
     },
     "execution_count": 16,
     "metadata": {},
     "output_type": "execute_result"
    }
   ],
   "source": [
    "[file for file in os.listdir(path_to_models) if 'X' in file]"
   ]
  },
  {
   "cell_type": "code",
   "execution_count": 19,
   "metadata": {
    "collapsed": false
   },
   "outputs": [
    {
     "name": "stdout",
     "output_type": "stream",
     "text": [
      "Number of features: 26\n",
      "Searching best parameters...\n",
      "Fitting 3 folds for each of 5 candidates, totalling 15 fits\n"
     ]
    },
    {
     "name": "stderr",
     "output_type": "stream",
     "text": [
      "[Parallel(n_jobs=1)]: Done  15 out of  15 | elapsed:  3.7min finished\n"
     ]
    },
    {
     "name": "stdout",
     "output_type": "stream",
     "text": [
      "Best parameters: {'alpha': 1e-10}\n",
      "Training best model on full train data...\n",
      "CPU times: user 1min 17s, sys: 0 ns, total: 1min 17s\n",
      "Wall time: 22.7 s\n",
      "Train score: 0.107 +/- 0.001\n",
      "CV score: 0.106 +/- 0.001\n",
      "Test score: 0.129\n",
      "\n",
      "CPU times: user 14min 36s, sys: 0 ns, total: 14min 36s\n",
      "Wall time: 4min 29s\n",
      "Number of features: 50\n",
      "Searching best parameters...\n",
      "Fitting 3 folds for each of 5 candidates, totalling 15 fits\n"
     ]
    },
    {
     "name": "stderr",
     "output_type": "stream",
     "text": [
      "[Parallel(n_jobs=1)]: Done  15 out of  15 | elapsed:  5.0min finished\n"
     ]
    },
    {
     "name": "stdout",
     "output_type": "stream",
     "text": [
      "Best parameters: {'alpha': 1e-07}\n",
      "Training best model on full train data...\n",
      "CPU times: user 1min 46s, sys: 0 ns, total: 1min 46s\n",
      "Wall time: 29.7 s\n",
      "Train score: 0.173 +/- 0.000\n",
      "CV score: 0.170 +/- 0.000\n",
      "Test score: 0.210\n",
      "\n",
      "CPU times: user 20min 32s, sys: 0 ns, total: 20min 32s\n",
      "Wall time: 6min 4s\n",
      "Number of features: 100\n",
      "Searching best parameters...\n",
      "Fitting 3 folds for each of 5 candidates, totalling 15 fits\n"
     ]
    },
    {
     "name": "stderr",
     "output_type": "stream",
     "text": [
      "[Parallel(n_jobs=1)]: Done  15 out of  15 | elapsed:  5.4min finished\n"
     ]
    },
    {
     "name": "stdout",
     "output_type": "stream",
     "text": [
      "Best parameters: {'alpha': 1e-07}\n",
      "Training best model on full train data...\n",
      "CPU times: user 1min 51s, sys: 0 ns, total: 1min 51s\n",
      "Wall time: 19.6 s\n",
      "Train score: 0.266 +/- 0.000\n",
      "CV score: 0.261 +/- 0.000\n",
      "Test score: 0.291\n",
      "\n",
      "CPU times: user 23min 9s, sys: 0 ns, total: 23min 9s\n",
      "Wall time: 6min 3s\n",
      "Number of features: 250\n",
      "Searching best parameters...\n",
      "Fitting 3 folds for each of 5 candidates, totalling 15 fits\n"
     ]
    },
    {
     "name": "stderr",
     "output_type": "stream",
     "text": [
      "[Parallel(n_jobs=1)]: Done  15 out of  15 | elapsed:  8.2min finished\n"
     ]
    },
    {
     "name": "stdout",
     "output_type": "stream",
     "text": [
      "Best parameters: {'alpha': 1e-07}\n",
      "Training best model on full train data...\n",
      "CPU times: user 2min 47s, sys: 0 ns, total: 2min 47s\n",
      "Wall time: 46.8 s\n",
      "Train score: 0.461 +/- 0.001\n",
      "CV score: 0.446 +/- 0.002\n",
      "Test score: 0.462\n",
      "\n",
      "CPU times: user 33min 38s, sys: 0 ns, total: 33min 38s\n",
      "Wall time: 9min 48s\n",
      "Number of features: 500\n",
      "Searching best parameters...\n",
      "Fitting 3 folds for each of 5 candidates, totalling 15 fits\n"
     ]
    },
    {
     "name": "stderr",
     "output_type": "stream",
     "text": [
      "[Parallel(n_jobs=1)]: Done  15 out of  15 | elapsed:  8.2min finished\n"
     ]
    },
    {
     "name": "stdout",
     "output_type": "stream",
     "text": [
      "Best parameters: {'alpha': 1e-07}\n",
      "Training best model on full train data...\n",
      "CPU times: user 2min 44s, sys: 0 ns, total: 2min 44s\n",
      "Wall time: 47.2 s\n",
      "Train score: 0.402 +/- 0.002\n",
      "CV score: 0.393 +/- 0.003\n",
      "Test score: 0.408\n",
      "\n",
      "CPU times: user 33min 21s, sys: 0 ns, total: 33min 21s\n",
      "Wall time: 9min 47s\n"
     ]
    }
   ],
   "source": [
    "names = ['X_unigram_26.lda.pkl', 'X_unigram_50.lda.pkl',\n",
    "         'X_unigram_100.lda.pkl', 'X_unigram_250.lda.pkl',\n",
    "        'X_unigram_500.lda.pkl']\n",
    "\n",
    "clf = SGDClassifier(n_jobs=8, warm_start=True, class_weight='balanced', loss='log', random_state=0, average=True, n_iter=100)\n",
    "parameters = {'alpha': [10**-i for i in range(6,11)]}\n",
    "\n",
    "for name in names:\n",
    "    X = load_data(path_to_models + name)\n",
    "    print(\"Number of features: %d\" % X.shape[1])\n",
    "    %time modeling(clf, parameters, X, y, 'gs-logistic-' + name[:-4], k=3, verbose=1, n_jobs=1, normalizing=True)"
   ]
  },
  {
   "cell_type": "markdown",
   "metadata": {},
   "source": [
    "**Результаты кросс-валидации**"
   ]
  },
  {
   "cell_type": "code",
   "execution_count": 36,
   "metadata": {
    "collapsed": false
   },
   "outputs": [
    {
     "data": {
      "image/png": "[encoded data removed]",
      "text/plain": [
       "<matplotlib.figure.Figure at 0x7fdf186a3f28>"
      ]
     },
     "metadata": {},
     "output_type": "display_data"
    }
   ],
   "source": [
    "marks = ['o-','o--','v-','-','v--']\n",
    "grids = ['gs-logistic-X_unigram_26.lda.pkl','gs-logistic-X_unigram_50.lda.pkl','gs-logistic-X_unigram_100.lda.pkl',\\\n",
    "         'gs-logistic-X_unigram_250.lda.pkl', 'gs-logistic-X_unigram_500.lda.pkl']\n",
    "labels = ['26','50','100','250','500']\n",
    "text = [\"Зависимость качества обучения\\n от параметра регуляризации\",\\\n",
    "        \"Время обучения при различных значениях\\nпараметра регуляризации\"]\n",
    "\n",
    "def plot_cv(grids, labels, marks, title=text, log_scale=True): \n",
    "    '''\n",
    "    Plotting model quality value with different regularization parameters\n",
    "    '''\n",
    "    plt.figure(figsize=(18,6))\n",
    "    \n",
    "    for i, grid in enumerate(grids):\n",
    "        gs = load_data(grid)\n",
    "        params = gs.cv_results_['params']\n",
    "        p_name = list(params[0])[0]\n",
    "        vals = [p[p_name] for p in params]\n",
    "        scores = gs.cv_results_['mean_test_score']\n",
    "        stds = gs.cv_results_['std_test_score']\n",
    "        timing = gs.cv_results_['mean_fit_time']\n",
    "        \n",
    "        plt.subplot(1,2,1)\n",
    "        plt.plot(vals, scores, marks[i], label='Матрица '+labels[i])\n",
    "        plt.fill_between(vals, scores - stds, scores + stds, alpha=0.2, lw=0.1)\n",
    "        plt.title(text[0], fontsize=16)\n",
    "        plt.xlabel(p_name, fontsize=14)\n",
    "        plt.ylabel('F1-score', fontsize=14)\n",
    "        if log_scale:\n",
    "            plt.xscale('log')\n",
    "        plt.legend(loc='lower right', bbox_to_anchor=(-0.1,-0.1))\n",
    "        \n",
    "        plt.subplot(1,2,2)\n",
    "        plt.plot(vals, timing, marks[i], label='Матрица '+labels[i])\n",
    "        plt.title('Темы: ' + text[1], fontsize=16)\n",
    "        plt.xlabel(p_name, fontsize=14)\n",
    "        plt.ylabel('Время, с', fontsize=14)\n",
    "        if log_scale:\n",
    "            plt.xscale('log')\n",
    "\n",
    "    plt.show()\n",
    "    \n",
    "plot_cv(grids, labels, marks)"
   ]
  },
  {
   "cell_type": "code",
   "execution_count": null,
   "metadata": {
    "collapsed": true
   },
   "outputs": [],
   "source": []
  },
  {
   "cell_type": "code",
   "execution_count": 37,
   "metadata": {
    "collapsed": false
   },
   "outputs": [
    {
     "name": "stdout",
     "output_type": "stream",
     "text": [
      "Number of features: 26\n",
      "Searching best parameters...\n",
      "Fitting 3 folds for each of 5 candidates, totalling 15 fits\n"
     ]
    },
    {
     "name": "stderr",
     "output_type": "stream",
     "text": [
      "[Parallel(n_jobs=1)]: Done  15 out of  15 | elapsed:  1.2min finished\n"
     ]
    },
    {
     "name": "stdout",
     "output_type": "stream",
     "text": [
      "Best parameters: {'alpha': 1e-06}\n",
      "Training best model on full train data...\n",
      "CPU times: user 42.3 s, sys: 0 ns, total: 42.3 s\n",
      "Wall time: 6.71 s\n",
      "Train score: 0.104 +/- 0.001\n",
      "CV score: 0.103 +/- 0.002\n",
      "Test score: 0.134\n",
      "\n",
      "CPU times: user 8min 3s, sys: 0 ns, total: 8min 3s\n",
      "Wall time: 1min 24s\n",
      "Number of features: 50\n",
      "Searching best parameters...\n",
      "Fitting 3 folds for each of 5 candidates, totalling 15 fits\n"
     ]
    },
    {
     "name": "stderr",
     "output_type": "stream",
     "text": [
      "[Parallel(n_jobs=1)]: Done  15 out of  15 | elapsed:  1.6min finished\n"
     ]
    },
    {
     "name": "stdout",
     "output_type": "stream",
     "text": [
      "Best parameters: {'alpha': 1e-06}\n",
      "Training best model on full train data...\n",
      "CPU times: user 59.8 s, sys: 0 ns, total: 59.8 s\n",
      "Wall time: 9.42 s\n",
      "Train score: 0.173 +/- 0.000\n",
      "CV score: 0.170 +/- 0.001\n",
      "Test score: 0.214\n",
      "\n",
      "CPU times: user 10min 59s, sys: 0 ns, total: 10min 59s\n",
      "Wall time: 1min 52s\n",
      "Number of features: 100\n",
      "Searching best parameters...\n",
      "Fitting 3 folds for each of 5 candidates, totalling 15 fits\n"
     ]
    },
    {
     "name": "stderr",
     "output_type": "stream",
     "text": [
      "[Parallel(n_jobs=1)]: Done  15 out of  15 | elapsed:  1.9min finished\n"
     ]
    },
    {
     "name": "stdout",
     "output_type": "stream",
     "text": [
      "Best parameters: {'alpha': 1e-07}\n",
      "Training best model on full train data...\n",
      "CPU times: user 1min 7s, sys: 0 ns, total: 1min 7s\n",
      "Wall time: 11 s\n",
      "Train score: 0.266 +/- 0.000\n",
      "CV score: 0.260 +/- 0.000\n",
      "Test score: 0.294\n",
      "\n",
      "CPU times: user 13min 14s, sys: 0 ns, total: 13min 14s\n",
      "Wall time: 2min 14s\n",
      "Number of features: 250\n",
      "Searching best parameters...\n",
      "Fitting 3 folds for each of 5 candidates, totalling 15 fits\n"
     ]
    },
    {
     "name": "stderr",
     "output_type": "stream",
     "text": [
      "[Parallel(n_jobs=1)]: Done  15 out of  15 | elapsed:  2.6min finished\n"
     ]
    },
    {
     "name": "stdout",
     "output_type": "stream",
     "text": [
      "Best parameters: {'alpha': 1e-07}\n",
      "Training best model on full train data...\n",
      "CPU times: user 1min 40s, sys: 0 ns, total: 1min 40s\n",
      "Wall time: 16.2 s\n",
      "Train score: 0.460 +/- 0.002\n",
      "CV score: 0.446 +/- 0.002\n",
      "Test score: 0.463\n",
      "\n",
      "CPU times: user 18min 30s, sys: 0 ns, total: 18min 30s\n",
      "Wall time: 3min 7s\n",
      "Number of features: 500\n",
      "Searching best parameters...\n",
      "Fitting 3 folds for each of 5 candidates, totalling 15 fits\n"
     ]
    },
    {
     "name": "stderr",
     "output_type": "stream",
     "text": [
      "[Parallel(n_jobs=1)]: Done  15 out of  15 | elapsed:  2.4min finished\n"
     ]
    },
    {
     "name": "stdout",
     "output_type": "stream",
     "text": [
      "Best parameters: {'alpha': 1e-07}\n",
      "Training best model on full train data...\n",
      "CPU times: user 1min 34s, sys: 0 ns, total: 1min 34s\n",
      "Wall time: 15.4 s\n",
      "Train score: 0.403 +/- 0.002\n",
      "CV score: 0.393 +/- 0.004\n",
      "Test score: 0.409\n",
      "\n",
      "CPU times: user 17min 26s, sys: 0 ns, total: 17min 26s\n",
      "Wall time: 2min 56s\n"
     ]
    }
   ],
   "source": [
    "clf = SGDClassifier(n_jobs=8, warm_start=True, class_weight='balanced', loss='hinge', random_state=0, average=True, n_iter=100)\n",
    "parameters = {'alpha': [10**-i for i in range(6,11)]}\n",
    "\n",
    "for name in names:\n",
    "    X = load_data(path_to_models + name)\n",
    "    print(\"Number of features: %d\" % X.shape[1])\n",
    "    %time modeling(clf, parameters, X, y, 'gs-hinge-' + name[:-4], k=3, verbose=1, n_jobs=1, normalizing=True)"
   ]
  },
  {
   "cell_type": "code",
   "execution_count": 38,
   "metadata": {
    "collapsed": false
   },
   "outputs": [
    {
     "data": {
      "image/png": "[encoded data removed]",
      "text/plain": [
       "<matplotlib.figure.Figure at 0x7fdf1a1383c8>"
      ]
     },
     "metadata": {},
     "output_type": "display_data"
    }
   ],
   "source": [
    "grids = ['gs-hinge-X_unigram_26.lda.pkl','gs-hinge-X_unigram_50.lda.pkl','gs-hinge-X_unigram_100.lda.pkl',\\\n",
    "         'gs-hinge-X_unigram_250.lda.pkl', 'gs-hinge-X_unigram_500.lda.pkl']\n",
    "\n",
    "plot_cv(grids, labels, marks)"
   ]
  },
  {
   "cell_type": "markdown",
   "metadata": {},
   "source": [
    "### Лучшая модель \n",
    "> **Число тем:** 250  \n",
    " **Классификатор:** SVM, alpha=1e-07  \n",
    " **Время обучения:** 15.4s  \n",
    " **F1-score:** 0.463"
   ]
  },
  {
   "cell_type": "code",
   "execution_count": null,
   "metadata": {
    "collapsed": true
   },
   "outputs": [],
   "source": []
  },
  {
   "cell_type": "markdown",
   "metadata": {},
   "source": [
    "### (?)Коллокации"
   ]
  },
  {
   "cell_type": "code",
   "execution_count": null,
   "metadata": {
    "collapsed": false
   },
   "outputs": [],
   "source": [
    "names = ['collocation_26.lda', 'collocation_50.lda',\n",
    "        'collocation_100.lda', 'collocation_250.lda',\n",
    "        'collocation_500.lda']\n",
    "\n",
    "\n",
    "# Загружаем частотную матрицу \n",
    "collocation_matrix = load_data('collocation-tfidf.matrix.pkl')\n",
    "\n",
    "for name in names:\n",
    "    lda = LdaModel.load(path_to_models + name)\n",
    "    corpus = gensim.matutils.Sparse2Corpus(collocation_matrix.transpose())\n",
    "    lda_corpus = lda[corpus]\n",
    "    %time X_lda = gensim.matutils.corpus2csc(lda_corpus)\n",
    "    pickling_data(path_to_models + 'X_' + name, X_lda.transpose())"
   ]
  },
  {
   "cell_type": "code",
   "execution_count": null,
   "metadata": {
    "collapsed": true
   },
   "outputs": [],
   "source": []
  },
  {
   "cell_type": "markdown",
   "metadata": {},
   "source": [
    "## LDA & Word2Vec"
   ]
  },
  {
   "cell_type": "code",
   "execution_count": 6,
   "metadata": {
    "collapsed": false
   },
   "outputs": [],
   "source": [
    "path_to_lda = '/home/kulesh271828/arxiv/models/topic_modeling/'\n",
    "#X_lda = load_data(path_to_lda + 'X_unigram_250.lda.pkl')\n",
    "\n",
    "path_to_w2v = '/home/kulesh271828/arxiv/models/word2vec/'\n",
    "model_sg = word2vec.KeyedVectors.load_word2vec_format(path_to_w2v + 'w2v_sg_500.bin', binary=True)"
   ]
  },
  {
   "cell_type": "markdown",
   "metadata": {},
   "source": [
    "LDA model"
   ]
  },
  {
   "cell_type": "code",
   "execution_count": 112,
   "metadata": {
    "collapsed": false
   },
   "outputs": [
    {
     "name": "stdout",
     "output_type": "stream",
     "text": [
      "CPU times: user 22min 41s, sys: 13.7 s, total: 22min 54s\n",
      "Wall time: 22min 54s\n"
     ]
    }
   ],
   "source": [
    "%%time\n",
    "\n",
    "documents = LazyCorpora(file, limit=n_corpora)\n",
    "dictionary = gensim.corpora.Dictionary(documents)\n",
    "corpus = [dictionary.doc2bow(doc) for doc in documents]"
   ]
  },
  {
   "cell_type": "markdown",
   "metadata": {
    "collapsed": true
   },
   "source": [
    "Сохраним словарь и корпус"
   ]
  },
  {
   "cell_type": "code",
   "execution_count": 113,
   "metadata": {
    "collapsed": true
   },
   "outputs": [],
   "source": [
    "dictionary.save('arxiv.dict')\n",
    "gensim.corpora.MmCorpus.serialize('arxiv.mm', corpus)"
   ]
  },
  {
   "cell_type": "markdown",
   "metadata": {},
   "source": [
    "Загрузка"
   ]
  },
  {
   "cell_type": "code",
   "execution_count": 42,
   "metadata": {
    "collapsed": false
   },
   "outputs": [],
   "source": [
    "corpus = gensim.corpora.MmCorpus('arxiv.mm')"
   ]
  },
  {
   "cell_type": "code",
   "execution_count": 50,
   "metadata": {
    "collapsed": false
   },
   "outputs": [],
   "source": [
    "categories = LazyCorpora(file, limit=n_corpora, column='primary_category')\n",
    "cat_list = [cat for cat in categories]"
   ]
  },
  {
   "cell_type": "code",
   "execution_count": 53,
   "metadata": {
    "collapsed": false
   },
   "outputs": [],
   "source": []
  },
  {
   "cell_type": "code",
   "execution_count": 9,
   "metadata": {
    "collapsed": false
   },
   "outputs": [
    {
     "name": "stdout",
     "output_type": "stream",
     "text": [
      "CPU times: user 6h 3min 18s, sys: 9h 45min 10s, total: 15h 48min 29s\n",
      "Wall time: 4h 28min 8s\n"
     ]
    }
   ],
   "source": [
    "%%time \n",
    "\n",
    "# Обучаем модель\n",
    "#\n",
    "model = LdaModel(corpus=corpus, id2word=dictionary, eval_every=None, num_topics=250, alpha='auto', eta='auto', \\\n",
    "                       iterations=100, chunksize=1000, passes=1)\n",
    "# Сохранение\n",
    "#\n",
    "model.save(path_to_lda + 'unigram_250_id2word.lda')"
   ]
  },
  {
   "cell_type": "code",
   "execution_count": 7,
   "metadata": {
    "collapsed": false
   },
   "outputs": [],
   "source": [
    "model = LdaModel.load(path_to_lda + 'unigram_250_id2word.lda')"
   ]
  },
  {
   "cell_type": "code",
   "execution_count": 8,
   "metadata": {
    "collapsed": false
   },
   "outputs": [
    {
     "data": {
      "text/html": [
       "<div>\n",
       "<table border=\"1\" class=\"dataframe\">\n",
       "  <thead>\n",
       "    <tr style=\"text-align: right;\">\n",
       "      <th></th>\n",
       "      <th>Термин</th>\n",
       "      <th>$P(термин~|~ тема)$</th>\n",
       "    </tr>\n",
       "  </thead>\n",
       "  <tbody>\n",
       "    <tr>\n",
       "      <th>0</th>\n",
       "      <td>group</td>\n",
       "      <td>0.356403</td>\n",
       "    </tr>\n",
       "    <tr>\n",
       "      <th>1</th>\n",
       "      <td>subgroup</td>\n",
       "      <td>0.053347</td>\n",
       "    </tr>\n",
       "    <tr>\n",
       "      <th>2</th>\n",
       "      <td>abelian</td>\n",
       "      <td>0.040650</td>\n",
       "    </tr>\n",
       "    <tr>\n",
       "      <th>3</th>\n",
       "      <td>automorphism</td>\n",
       "      <td>0.019977</td>\n",
       "    </tr>\n",
       "    <tr>\n",
       "      <th>4</th>\n",
       "      <td>automorphisms</td>\n",
       "      <td>0.014164</td>\n",
       "    </tr>\n",
       "    <tr>\n",
       "      <th>5</th>\n",
       "      <td>let</td>\n",
       "      <td>0.014041</td>\n",
       "    </tr>\n",
       "    <tr>\n",
       "      <th>6</th>\n",
       "      <td>non</td>\n",
       "      <td>0.010732</td>\n",
       "    </tr>\n",
       "    <tr>\n",
       "      <th>7</th>\n",
       "      <td>finite</td>\n",
       "      <td>0.009572</td>\n",
       "    </tr>\n",
       "    <tr>\n",
       "      <th>8</th>\n",
       "      <td>follow</td>\n",
       "      <td>0.008926</td>\n",
       "    </tr>\n",
       "    <tr>\n",
       "      <th>9</th>\n",
       "      <td>since</td>\n",
       "      <td>0.008843</td>\n",
       "    </tr>\n",
       "  </tbody>\n",
       "</table>\n",
       "</div>"
      ],
      "text/plain": [
       "          Термин  $P(термин~|~ тема)$\n",
       "0          group             0.356403\n",
       "1       subgroup             0.053347\n",
       "2        abelian             0.040650\n",
       "3   automorphism             0.019977\n",
       "4  automorphisms             0.014164\n",
       "5            let             0.014041\n",
       "6            non             0.010732\n",
       "7         finite             0.009572\n",
       "8         follow             0.008926\n",
       "9          since             0.008843"
      ]
     },
     "execution_count": 8,
     "metadata": {},
     "output_type": "execute_result"
    }
   ],
   "source": [
    "pd.DataFrame(model.show_topic(0, topn=10), columns=['Термин', '$P(термин~|~ тема)$'])"
   ]
  },
  {
   "cell_type": "code",
   "execution_count": 9,
   "metadata": {
    "collapsed": false
   },
   "outputs": [
    {
     "name": "stdout",
     "output_type": "stream",
     "text": [
      "CPU times: user 1min 6s, sys: 1min 9s, total: 2min 15s\n",
      "Wall time: 2min 15s\n"
     ]
    }
   ],
   "source": [
    "%%time\n",
    "\n",
    "topics = {}\n",
    "n_voc = 499579\n",
    "length = 1000\n",
    "\n",
    "for t in range(250):\n",
    "    topic = dict(model.show_topic(0, topn=length))\n",
    "    topics[str(t)] = topic"
   ]
  },
  {
   "cell_type": "markdown",
   "metadata": {},
   "source": [
    "Матрица документов"
   ]
  },
  {
   "cell_type": "code",
   "execution_count": null,
   "metadata": {
    "collapsed": false
   },
   "outputs": [
    {
     "name": "stdout",
     "output_type": "stream",
     "text": [
      "Corpus transformation...\n"
     ]
    }
   ],
   "source": [
    "%%time\n",
    "\n",
    "#unigram_matrix = load_data('unigram_matrix_tfidf.pkl')\n",
    "#corpus = gensim.matutils.Sparse2Corpus(unigram_matrix.transpose())\n",
    "\n",
    "print(\"Corpus transformation...\")\n",
    "lda_corpus = model[corpus]\n",
    "X_lda = gensim.matutils.corpus2csc(lda_corpus)\n",
    "pickling_data(path_to_lda + 'X_lda_250@id2word', X_lda.transpose())"
   ]
  },
  {
   "cell_type": "code",
   "execution_count": 116,
   "metadata": {
    "collapsed": true
   },
   "outputs": [],
   "source": [
    "#lda_corpus = model[corpus]\n",
    "#X_lda = gensim.matutils.corpus2csc(lda_corpus)\n",
    "#pickling_data(path_to_lda + 'X_lda_250@id2word', X_lda.transpose())"
   ]
  },
  {
   "cell_type": "markdown",
   "metadata": {},
   "source": [
    "Загрузка матрицы"
   ]
  },
  {
   "cell_type": "code",
   "execution_count": null,
   "metadata": {
    "collapsed": false
   },
   "outputs": [],
   "source": [
    "X_lda_250 = load_data(path_to_lda + 'X_lda_250@id2word.pkl')\n",
    "X_lda_250"
   ]
  },
  {
   "cell_type": "markdown",
   "metadata": {},
   "source": [
    "### Вектор темы\n",
    "[Комментарий]"
   ]
  },
  {
   "cell_type": "code",
   "execution_count": 28,
   "metadata": {
    "collapsed": true
   },
   "outputs": [],
   "source": [
    "n_features = 500\n",
    "n_topics = 250\n",
    "n_corpora = 163103\n",
    "\n",
    "def topic_vector(w2v_model, topics, topic_name):\n",
    "    '''\n",
    "    Description\n",
    "    '''\n",
    "    vector = np.zeros(n_features)\n",
    "    topic = topics[topic_name]\n",
    "    words = topic.keys()\n",
    "    \n",
    "    for word in words:\n",
    "        weigth = topic[word]\n",
    "        vector = np.add(vector, weigth * w2v_model[word])\n",
    "    return np.divide(vector, length)\n",
    "\n",
    "def topic_matrix(w2v_model, topics):\n",
    "    '''\n",
    "    Description\n",
    "    '''\n",
    "    topics_name = topics.keys()\n",
    "    topicsMatrix = np.zeros((n_topics, n_features), dtype='float32')\n",
    "    \n",
    "    for i, topic in enumerate(topics):\n",
    "        topicVector = topic_vector(w2v_model, topics, topic)\n",
    "        topicsMatrix[i] = topicVector\n",
    "    return topicsMatrix\n",
    "\n",
    "def document_vector(w2v_model, topics, X_lda):\n",
    "    '''\n",
    "    Description\n",
    "    '''\n",
    "    X_topics = sparse.csr_matrix(topic_matrix(w2v_model, topics))\n",
    "    docMatrix = np.dot(X_lda, X_topics)\n",
    "    return docMatrix"
   ]
  },
  {
   "cell_type": "code",
   "execution_count": null,
   "metadata": {
    "collapsed": false
   },
   "outputs": [],
   "source": [
    "%%time\n",
    "\n",
    "X = document_vector(model_sg, topics, X_lda_250)"
   ]
  },
  {
   "cell_type": "code",
   "execution_count": null,
   "metadata": {
    "collapsed": false
   },
   "outputs": [],
   "source": [
    "clf = SGDClassifier(n_jobs=8, warm_start=True, class_weight='balanced', loss='hinge', random_state=0, average=True, n_iter=100)\n",
    "parameters = {'alpha': [10**-i for i in range(8,11)]}\n",
    "\n",
    "print(\"Number of features: %d\" % X.shape[1])\n",
    "%time modeling(clf, parameters, X, np.array(cat_list), 'gs-logistic-lda@w2v_sg', k=3, verbose=1, n_jobs=1, normalizing=True)"
   ]
  },
  {
   "cell_type": "code",
   "execution_count": null,
   "metadata": {
    "collapsed": true
   },
   "outputs": [],
   "source": []
  },
  {
   "cell_type": "code",
   "execution_count": null,
   "metadata": {
    "collapsed": true
   },
   "outputs": [],
   "source": []
  },
  {
   "cell_type": "markdown",
   "metadata": {},
   "source": [
    "## Источники\n",
    "1. @MelLain, @vovapolu, @romovpa. [Topic Modeling with BigARTM](https://github.com/cimsweb/bigartm-book)  \n",
    "2. @edimser. [VisARTM - visualizer for BigARTM](https://github.com/bigartm/visartm)  \n",
    "- @olavurmortensen. [lda_training_tips.ipynb](https://github.com/RaRe-Technologies/gensim/blob/develop/docs/notebooks/lda_training_tips.ipynb)\n",
    "- @Surfingbirg. Вероятностные модели: от наивного Байеса к LDA, [часть 1](https://habrahabr.ru/company/surfingbird/blog/228249/), [часть 2](https://habrahabr.ru/company/surfingbird/blog/230103/)  \n",
    "- models.ldamulticore – [parallelized Latent Dirichlet Allocation](http://radimrehurek.com/gensim/models/ldamulticore.html#module-gensim.models.ldamulticore)\n",
    "- E. Chen. [Introduction to LDA](http://blog.echen.me/2011/08/22/introduction-to-latent-dirichlet-allocation//)\n",
    "- C. Карпович. [Многозначная классификация текстовых документов с использованием вероятностного тематического моделирования ml-PLSI](https://docviewer.yandex.by/view/431087183/?*=ZMDgX%2FVizHQyIKC3IhATEkXoEN97InVybCI6Imh0dHA6Ly9wcm9jZWVkaW5ncy5zcGlpcmFzLm53LnJ1L29qcy9pbmRleC5waHAvc3AvYXJ0aWNsZS9kb3dubG9hZC8zMzU5LzE5NDIiLCJ0aXRsZSI6IjE5NDIiLCJ1aWQiOiI0MzEwODcxODMiLCJ5dSI6Ijg1NjA1MjY0MzE0Njk0NjYxNDAiLCJub2lmcmFtZSI6dHJ1ZSwidHMiOjE0OTI5Mzg2NjgxNjF9&page=1&lang=ru)  \n",
    "- Антон Коршунов, Андрей Гомзин. [Тематическое моделирование текстов на естественном языке](http://www.ispras.ru/proceedings/docs/2012/23/isp_23_2012_215.pdf)  \n",
    "- К. Маслинский. Автоматическое определение тематики, [часть 1](http://maslinsky.spb.ru/courses/cmta2013/slides/04topic.pdf), [часть 2](http://maslinsky.spb.ru/courses/cmta2013/slides/04tm.pdf)\n",
    "- К.В.Воронцов. [Лекции по вероятностным тематическим моделям](http://www.machinelearning.ru/wiki/images/2/22/Voron-2013-ptm.pdf)  \n",
    "- Лекция по латентному размещению Дирихле в рамках спецкурса БММО [ссылка](http://www.machinelearning.ru/wiki/images/8/82/BMMO11_14.pdf)  \n",
    "- Thomas Hofmann [Probabilistic Latent Semantic Analysis ](https://arxiv.org/ftp/arxiv/papers/1301/1301.6705.pdf)\n",
    "- David M. Blei, Andrew Ng, Michael Jordan. [Latent Dirichlet allocation](http://jmlr.org/papers/volume3/blei03a/blei03a.pdf) // Journal of Machine Learning Research (3) 2003 pp. 993-1022.  \n",
    "- David M. Blei. [Introduction to Probabilistic Topic Models](http://adiwijaya.staff.telkomuniversity.ac.id/files/2014/02/Blei-Introduction-to-Probabilistic-Topic-Models.pdf)  \n",
    "- David M. Blei, John D. Lafferty. [Correlated Topic Models](http://www.cs.columbia.edu/~blei/papers/BleiLafferty2006.pdf)\n",
    "-  Hoffman, Blei, Bach. [Online learning for Latent Dirichlet Allocation](https://mimno.infosci.cornell.edu/info6150/readings/HoffmanBleiBach2010b.pdf)  \n",
    "- Y. Teh, M. Jordan, M. Beal, D. Blei. Hierarchical Dirichlet processes // Journal of the American\n",
    "Statistical Association, V. 101, 2006, pp. 1566–1581.  \n",
    "- С. Воронов. [Фильтрация и тематическое моделирование коллекции научных документов](http://www.machinelearning.ru/wiki/images/8/84/Voronov2014Classification.pdf)  \n",
    "- [автоматическое определение кол-ва тем] [The Nested Chinese Restaurant Process and Bayesian Nonparametric Inference of Topic Hierarchies](https://cocosci.berkeley.edu/tom/papers/ncrp.pdf)  \n",
    "- Yee Whye Teh. A [Tutorial](http://mlg.eng.cam.ac.uk/tutorials/07/ywt.pdf) on Dirichlet Processes and Hierarchical Dirichlet Processes"
   ]
  },
  {
   "cell_type": "code",
   "execution_count": null,
   "metadata": {
    "collapsed": true
   },
   "outputs": [],
   "source": []
  }
 ],
 "metadata": {
  "kernelspec": {
   "display_name": "Python 3",
   "language": "python",
   "name": "python3"
  },
  "language_info": {
   "codemirror_mode": {
    "name": "ipython",
    "version": 3
   },
   "file_extension": ".py",
   "mimetype": "text/x-python",
   "name": "python",
   "nbconvert_exporter": "python",
   "pygments_lexer": "ipython3",
   "version": "3.6.0"
  }
 },
 "nbformat": 4,
 "nbformat_minor": 2
}

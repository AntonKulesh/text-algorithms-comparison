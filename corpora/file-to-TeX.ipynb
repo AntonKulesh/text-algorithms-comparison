{
 "cells": [
  {
   "cell_type": "markdown",
   "metadata": {},
   "source": [
    "# Преобразование файлов в формат $TeX$\n",
    "На предыдущем этапе (*см. arXiv-API.ipynb*) посредством arXiv API были скачаны на диск исходники статей. Данные файлы не имееют расширения. Какие-то файлы заархивированы (*tar* или *gzip*), какие-то -- нет (*pdf* или *tex*). Если файл не является архивом, то просматривается его содержание: если файл содержит подстроку \"%!PS-Adobe\", то он отмечается как *pdf* (либо когда ошибка чтения файла), иначе -- как *tex*.   \n",
    "  \n",
    "[Здесь]() будет ссылка на архив с исходниками. А [здесь](https://drive.google.com/open?id=0B_NefGKQ1pCsQjhLSTZ5Mjlqbms) ссылка на метаданные."
   ]
  },
  {
   "cell_type": "markdown",
   "metadata": {},
   "source": [
    "Загрузка необходимых библиотек"
   ]
  },
  {
   "cell_type": "code",
   "execution_count": 1,
   "metadata": {
    "collapsed": false
   },
   "outputs": [],
   "source": [
    "import os\n",
    "import gzip\n",
    "import tarfile\n",
    "import time\n",
    "import pandas as pd"
   ]
  },
  {
   "cell_type": "markdown",
   "metadata": {},
   "source": [
    "Указание пути к папке с исходниками (*path_to_sources*) и к папке, куда будут записываться преобразованные файлы (*path_to_tex*)"
   ]
  },
  {
   "cell_type": "code",
   "execution_count": 4,
   "metadata": {
    "collapsed": true
   },
   "outputs": [],
   "source": [
    "path_to_sources = 'C:/Users/user/Downloads/arxiv/source/math.PR/'\n",
    "path_to_tex = 'C:/Users/user/Downloads/arxiv/source/valid/'\n",
    "\n",
    "# Метаданные\n",
    "path_meta = 'D:/_data_science/@@projects/2017_diploma-nlp/data/'\n",
    "queries = pd.read_csv(path_meta + \"unique_queries.csv\", encoding='cp1251', index_col='id')"
   ]
  },
  {
   "cell_type": "markdown",
   "metadata": {},
   "source": [
    "Реализация функции, которая преобразовывает файл в формат *tex* (*pdf*) и сохраняет в указанную папку.\n",
    "\n",
    "Если в архиве содержится несколько *tex*-файлов, то они объединяются в один документ."
   ]
  },
  {
   "cell_type": "code",
   "execution_count": 12,
   "metadata": {
    "collapsed": false
   },
   "outputs": [],
   "source": [
    "def file_to_tex(filename, path_to_sources=path_to_sources, path_to_tex=path_to_tex):\n",
    "    '''\n",
    "    Description\n",
    "    '''\n",
    "    # определяем главную категорию\n",
    "    # если нет одноименной папки в path_to_tex, то создаем\n",
    "    #\n",
    "    category = queries.loc[filename].primary_category\n",
    "    if not os.path.exists(path_to_tex + category):\n",
    "        os.makedirs(path_to_tex + category)\n",
    "    \n",
    "    try:\n",
    "        tar = tarfile.open(path_to_sources + filename)\n",
    "        names = tar.getnames()   \n",
    "        names_tex = [name for name in names if '.tex' in name]\n",
    "        if len(names_tex) > 1:                                      # если в архиве несколько tex-файлов\n",
    "            s = b''\n",
    "            for name in names_tex:\n",
    "                part = tar.extractfile(name).read()\n",
    "                s += part\n",
    "        elif len(names_tex) == 1:\n",
    "            s = tar.extractfile(names_tex[0]).read()\n",
    "        tar.close() \n",
    "                \n",
    "        f = open(path_to_tex + category + '/' + filename + '.tex', 'wb')\n",
    "        f.write(s)\n",
    "        f.close()\n",
    "                \n",
    "    except tarfile.ReadError:\n",
    "        fread = open(path_to_sources + filename,'rb').read()\n",
    "            \n",
    "        try:\n",
    "            s = gzip.decompress(fread)\n",
    "            fwrite = open(path_to_tex + category + '/' + filename + '.tex','wb')\n",
    "            fwrite.write(s)\n",
    "            fwrite.close()\n",
    "        except OSError:\n",
    "            \n",
    "            try:\n",
    "                f = open(path_to_sources + filename).read(10)\n",
    "                if f == '%!PS-Adobe':\n",
    "                    os.rename(path_to_sources + filename, path_to_tex + category + '/' + filename + '.pdf') # pdf\n",
    "                else:\n",
    "                    os.rename(path_to_sources + filename, path_to_tex + category + '/' + filename + '.tex')\n",
    "            except Exception:\n",
    "                os.rename(path_to_sources + filename, path_to_tex + category + '/' + filename + '.pdf') # maybe pdf"
   ]
  },
  {
   "cell_type": "markdown",
   "metadata": {},
   "source": [
    "Выполним процедуру преобразования для имеющихся файлов"
   ]
  },
  {
   "cell_type": "code",
   "execution_count": 6,
   "metadata": {
    "collapsed": true
   },
   "outputs": [],
   "source": [
    "inds = queries.index\n",
    "source_files = os.listdir(path_to_sources)\n",
    "tex_files = os.listdir(path_to_tex)"
   ]
  },
  {
   "cell_type": "code",
   "execution_count": 13,
   "metadata": {
    "collapsed": false
   },
   "outputs": [
    {
     "name": "stdout",
     "output_type": "stream",
     "text": [
      "18905 files was processed!\n",
      "Wall time: 25min 57s\n"
     ]
    }
   ],
   "source": [
    "%%time\n",
    "\n",
    "counter = 0\n",
    "for file in source_files:\n",
    "    if file not in tex_files:\n",
    "        counter += 1\n",
    "        try:\n",
    "            file_to_tex(file)\n",
    "        except Exception:\n",
    "            continue\n",
    "print('%d files was processed!' % counter)"
   ]
  },
  {
   "cell_type": "markdown",
   "metadata": {
    "collapsed": true
   },
   "source": [
    ">**Замечание!**  \n",
    "Скорость преобразования, как можно заметить, **~3 файл/c**. Значит, для обработки ~160K файлов потребуется **~15 часов**. Эта оценка сильно зависит от того как много среди этих файлов архивов и от мощности компьютера.  \n",
    "\n",
    "[Здесь]() будет ссылка на архив c полученными tex-файлами."
   ]
  },
  {
   "cell_type": "code",
   "execution_count": null,
   "metadata": {
    "collapsed": true
   },
   "outputs": [],
   "source": []
  }
 ],
 "metadata": {
  "anaconda-cloud": {},
  "kernelspec": {
   "display_name": "Python [Root]",
   "language": "python",
   "name": "Python [Root]"
  },
  "language_info": {
   "codemirror_mode": {
    "name": "ipython",
    "version": 3
   },
   "file_extension": ".py",
   "mimetype": "text/x-python",
   "name": "python",
   "nbconvert_exporter": "python",
   "pygments_lexer": "ipython3",
   "version": "3.5.2"
  }
 },
 "nbformat": 4,
 "nbformat_minor": 0
}

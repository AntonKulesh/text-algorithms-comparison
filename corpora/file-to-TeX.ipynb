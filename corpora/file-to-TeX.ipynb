{
 "cells": [
  {
   "cell_type": "markdown",
   "metadata": {},
   "source": [
    "# Преобразование файлов в формат $TeX$\n",
    "На предыдущем этапе (*см. arXiv-API.ipynb*) посредством arXiv API были скачаны на диск исходники статей. Данные файлы не имееют расширения. Какие-то файлы заархивированы (*tar* или *gzip*), какие-то -- нет (*pdf* или *tex*). Файлы, которые не содержат точку в названии как правило являются *tex*-файлами (предположение). Если файл не является архивом и не содержит точку в названии, то он предположительно имеет формат *pdf* (такие файлы пропускались).  \n",
    "  \n",
    "[Здесь]() будет ссылка на архив с исходниками. "
   ]
  },
  {
   "cell_type": "markdown",
   "metadata": {},
   "source": [
    "Загрузка необходимых библиотек"
   ]
  },
  {
   "cell_type": "code",
   "execution_count": 5,
   "metadata": {
    "collapsed": true
   },
   "outputs": [],
   "source": [
    "import os\n",
    "import gzip\n",
    "import tarfile\n",
    "import time"
   ]
  },
  {
   "cell_type": "markdown",
   "metadata": {},
   "source": [
    "Указание пути к папке с исходниками (*path_to_sources*) и к папке, куда будут записываться преобразованные файлы (*path_to_tex*)"
   ]
  },
  {
   "cell_type": "code",
   "execution_count": 1,
   "metadata": {
    "collapsed": true
   },
   "outputs": [],
   "source": [
    "path_to_sources = 'C:\\\\Users\\\\user\\\\Downloads\\\\arxiv\\\\source\\\\'\n",
    "path_to_tex = 'C:\\\\Users\\\\user\\\\Downloads\\\\arxiv\\\\source\\\\valid\\\\'"
   ]
  },
  {
   "cell_type": "markdown",
   "metadata": {},
   "source": [
    "Реализация функции, которая преобразовывает файл в формат *tex* и сохраняет в указанную папку, а в исключитеном случаее (если файл не найден, файл уже есть в папке назначения или др.) ничего не делает (оператор pass).  \n",
    "\n",
    "Если в архиве содержится несколько *tex*-файлов, то они объединяются в один документ."
   ]
  },
  {
   "cell_type": "code",
   "execution_count": 175,
   "metadata": {
    "collapsed": false
   },
   "outputs": [],
   "source": [
    "def file_to_tex(filename, path_to_sources=path_to_sources, path_to_tex=path_to_tex):\n",
    "    '''\n",
    "    Description\n",
    "    '''\n",
    "    try:\n",
    "        if '.' not in filename:\n",
    "            os.rename(path_to_sources + filename, path_to_tex + filename + '.tex')\n",
    "        \n",
    "        else:\n",
    "            try:\n",
    "                tar = tarfile.open(path_to_sources + filename)\n",
    "                names = tar.getnames()   \n",
    "                names_tex = [name for name in names if '.tex' in name]\n",
    "                if len(names_tex) > 1:                                      # если в архиве несколько tex-файлов\n",
    "                    s = b''\n",
    "                    for name in names_tex:\n",
    "                        part = tar.extractfile(name).read()\n",
    "                        s += part\n",
    "                elif len(names_tex) == 1:\n",
    "                    s = tar.extractfile(names_tex[0]).read()\n",
    "                tar.close() \n",
    "                \n",
    "                f = open(path_to_tex + filename + '.tex', 'wb')\n",
    "                f.write(s)\n",
    "                f.close()\n",
    "                \n",
    "            except tarfile.ReadError:\n",
    "                fread = open(path_to_sources + filename,'rb').read()\n",
    "            \n",
    "                try:\n",
    "                    s = gzip.decompress(fread)\n",
    "                    fwrite = open(path_to_tex + filename + '.tex','wb')\n",
    "                    fwrite.write(s)\n",
    "                    fwrite.close()\n",
    "                except OSError:\n",
    "                    pass\n",
    "    except Exception:\n",
    "        pass"
   ]
  },
  {
   "cell_type": "markdown",
   "metadata": {},
   "source": [
    "Выполним процедуру преобразования для имеющихся файлов"
   ]
  },
  {
   "cell_type": "code",
   "execution_count": 178,
   "metadata": {
    "collapsed": false
   },
   "outputs": [
    {
     "name": "stdout",
     "output_type": "stream",
     "text": [
      "2723 files was processed!\n",
      "Wall time: 16min 22s\n"
     ]
    }
   ],
   "source": [
    "%%time\n",
    "\n",
    "source_files = os.listdir(path_to_sources)\n",
    "tex_files = os.listdir(path_to_tex)\n",
    "\n",
    "counter = 0\n",
    "for file in source_files:\n",
    "    if file not in tex_files:\n",
    "        counter += 1\n",
    "        file_to_tex(file)\n",
    "print('%d files was processed!' % counter)"
   ]
  },
  {
   "cell_type": "markdown",
   "metadata": {
    "collapsed": true
   },
   "source": [
    "Скорость преобразования, как можно заметить, ~3 файл/c. Значит, для обработки 100K файлов потребуется ~9 часов. Эта оценка сильно зависит от того как много среди этих файлов архивов и от мощности компьюера."
   ]
  },
  {
   "cell_type": "code",
   "execution_count": null,
   "metadata": {
    "collapsed": true
   },
   "outputs": [],
   "source": []
  }
 ],
 "metadata": {
  "anaconda-cloud": {},
  "kernelspec": {
   "display_name": "Python [Root]",
   "language": "python",
   "name": "Python [Root]"
  },
  "language_info": {
   "codemirror_mode": {
    "name": "ipython",
    "version": 3
   },
   "file_extension": ".py",
   "mimetype": "text/x-python",
   "name": "python",
   "nbconvert_exporter": "python",
   "pygments_lexer": "ipython3",
   "version": "3.5.2"
  }
 },
 "nbformat": 4,
 "nbformat_minor": 0
}

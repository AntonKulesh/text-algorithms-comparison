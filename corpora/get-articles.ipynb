{
 "cells": [
  {
   "cell_type": "markdown",
   "metadata": {},
   "source": [
    "# Скачивание статей через ArXiv API"
   ]
  },
  {
   "cell_type": "markdown",
   "metadata": {},
   "source": [
    "Загрузка необходимых библиотек (Python 3)"
   ]
  },
  {
   "cell_type": "code",
   "execution_count": 1,
   "metadata": {
    "collapsed": true
   },
   "outputs": [],
   "source": [
    "import pandas as pd\n",
    "from urllib.request import urlretrieve\n",
    "import time\n",
    "import os"
   ]
  },
  {
   "cell_type": "markdown",
   "metadata": {},
   "source": [
    "Укажите путь, куда будут загружаться статьи"
   ]
  },
  {
   "cell_type": "code",
   "execution_count": 2,
   "metadata": {
    "collapsed": true
   },
   "outputs": [],
   "source": [
    "path_to_sources = 'C:/Users/user/Downloads/arxiv/source/'"
   ]
  },
  {
   "cell_type": "markdown",
   "metadata": {},
   "source": [
    "Загружаем файл с метаданными (скачать [отсюда](https://drive.google.com/open?id=0B_NefGKQ1pCsZEJ5VkhueFZXVEk))"
   ]
  },
  {
   "cell_type": "code",
   "execution_count": 4,
   "metadata": {
    "collapsed": false
   },
   "outputs": [
    {
     "data": {
      "text/html": [
       "<div>\n",
       "<table border=\"1\" class=\"dataframe\">\n",
       "  <thead>\n",
       "    <tr style=\"text-align: right;\">\n",
       "      <th></th>\n",
       "      <th>title</th>\n",
       "      <th>primary_category</th>\n",
       "      <th>category</th>\n",
       "      <th>source_link</th>\n",
       "      <th>pdf_link</th>\n",
       "    </tr>\n",
       "    <tr>\n",
       "      <th>id</th>\n",
       "      <th></th>\n",
       "      <th></th>\n",
       "      <th></th>\n",
       "      <th></th>\n",
       "      <th></th>\n",
       "    </tr>\n",
       "  </thead>\n",
       "  <tbody>\n",
       "    <tr>\n",
       "      <th>0710.3447v1</th>\n",
       "      <td>Problems of Testology</td>\n",
       "      <td>stat.AP</td>\n",
       "      <td>['stat.AP']</td>\n",
       "      <td>http://arxiv.org/e-print/0710.3447v1</td>\n",
       "      <td>http://arxiv.org/pdf/0710.3447v1</td>\n",
       "    </tr>\n",
       "    <tr>\n",
       "      <th>0907.2480v1</th>\n",
       "      <td>Thoughts on new statistical procedures for age...</td>\n",
       "      <td>stat.AP</td>\n",
       "      <td>['stat.AP', 'stat.ME']</td>\n",
       "      <td>http://arxiv.org/e-print/0907.2480v1</td>\n",
       "      <td>http://arxiv.org/pdf/0907.2480v1</td>\n",
       "    </tr>\n",
       "    <tr>\n",
       "      <th>1108.0301v1</th>\n",
       "      <td>On the Concept of Snowball Sampling</td>\n",
       "      <td>stat.AP</td>\n",
       "      <td>['stat.AP']</td>\n",
       "      <td>http://arxiv.org/e-print/1108.0301v1</td>\n",
       "      <td>http://arxiv.org/pdf/1108.0301v1</td>\n",
       "    </tr>\n",
       "    <tr>\n",
       "      <th>1203.1421v1</th>\n",
       "      <td>A note on characterization based on past entropy</td>\n",
       "      <td>stat.AP</td>\n",
       "      <td>['stat.AP']</td>\n",
       "      <td>http://arxiv.org/e-print/1203.1421v1</td>\n",
       "      <td>http://arxiv.org/pdf/1203.1421v1</td>\n",
       "    </tr>\n",
       "    <tr>\n",
       "      <th>1012.4702v1</th>\n",
       "      <td>Experience Rating with Poisson Mixtures</td>\n",
       "      <td>stat.AP</td>\n",
       "      <td>['stat.AP']</td>\n",
       "      <td>http://arxiv.org/e-print/1012.4702v1</td>\n",
       "      <td>http://arxiv.org/pdf/1012.4702v1</td>\n",
       "    </tr>\n",
       "  </tbody>\n",
       "</table>\n",
       "</div>"
      ],
      "text/plain": [
       "                                                         title  \\\n",
       "id                                                               \n",
       "0710.3447v1                              Problems of Testology   \n",
       "0907.2480v1  Thoughts on new statistical procedures for age...   \n",
       "1108.0301v1                On the Concept of Snowball Sampling   \n",
       "1203.1421v1   A note on characterization based on past entropy   \n",
       "1012.4702v1            Experience Rating with Poisson Mixtures   \n",
       "\n",
       "            primary_category                category  \\\n",
       "id                                                     \n",
       "0710.3447v1          stat.AP             ['stat.AP']   \n",
       "0907.2480v1          stat.AP  ['stat.AP', 'stat.ME']   \n",
       "1108.0301v1          stat.AP             ['stat.AP']   \n",
       "1203.1421v1          stat.AP             ['stat.AP']   \n",
       "1012.4702v1          stat.AP             ['stat.AP']   \n",
       "\n",
       "                                      source_link  \\\n",
       "id                                                  \n",
       "0710.3447v1  http://arxiv.org/e-print/0710.3447v1   \n",
       "0907.2480v1  http://arxiv.org/e-print/0907.2480v1   \n",
       "1108.0301v1  http://arxiv.org/e-print/1108.0301v1   \n",
       "1203.1421v1  http://arxiv.org/e-print/1203.1421v1   \n",
       "1012.4702v1  http://arxiv.org/e-print/1012.4702v1   \n",
       "\n",
       "                                     pdf_link  \n",
       "id                                             \n",
       "0710.3447v1  http://arxiv.org/pdf/0710.3447v1  \n",
       "0907.2480v1  http://arxiv.org/pdf/0907.2480v1  \n",
       "1108.0301v1  http://arxiv.org/pdf/1108.0301v1  \n",
       "1203.1421v1  http://arxiv.org/pdf/1203.1421v1  \n",
       "1012.4702v1  http://arxiv.org/pdf/1012.4702v1  "
      ]
     },
     "execution_count": 4,
     "metadata": {},
     "output_type": "execute_result"
    }
   ],
   "source": [
    "path = \"D:/_data_science/@@projects/2017_diploma-nlp/data/\"   # У меня файл лежит здесь\n",
    "\n",
    "queries = pd.read_csv(path + \"unique_queries.csv\", encoding='cp1251', index_col='id')\n",
    "queries.head()"
   ]
  },
  {
   "cell_type": "markdown",
   "metadata": {},
   "source": [
    "Скачивание документов"
   ]
  },
  {
   "cell_type": "code",
   "execution_count": 6,
   "metadata": {
    "collapsed": true
   },
   "outputs": [],
   "source": [
    "def get_articles(queries=queries, category='stat.AP', limit=1000):\n",
    "    '''\n",
    "    Description\n",
    "    '''\n",
    "    metadata = queries[queries.primary_category == category]\n",
    "    n = len(metadata)\n",
    "    arxiv_id = metadata.index\n",
    "    sources = metadata.source_link\n",
    "    categories = metadata.primary_category.unique()\n",
    "    WAIT_TIME = 3\n",
    "    ANTI_BAN_TIME = 3 * 60\n",
    "    k = 0                                                             # count new files\n",
    "    \n",
    "    for i,ind in enumerate(arxiv_id):\n",
    "        filename = path_to_sources + ind  \n",
    "            \n",
    "        if os.path.isfile(filename):                                  # check existing\n",
    "            print(\"File %s already exist\" % ind)\n",
    "        \n",
    "        else:\n",
    "            try:\n",
    "                urlretrieve(sources[i], filename)                     # downloading file\n",
    "                k += 1\n",
    "                \n",
    "                if k % 10 == 1:\n",
    "                    time.sleep(WAIT_TIME) \n",
    "                    print(\"Loaded %d files\" % k)\n",
    "                if k % 1000 == 500:\n",
    "                    time.sleep(ANTI_BAN_TIME) \n",
    "                    print(\"Antiban. 3 min waiting...\" % k)\n",
    "                if k > limit:\n",
    "                    break\n",
    "                \n",
    "            except Exception:\n",
    "                print(\"Error\") "
   ]
  },
  {
   "cell_type": "markdown",
   "metadata": {},
   "source": [
    "Список всех категорий"
   ]
  },
  {
   "cell_type": "code",
   "execution_count": 5,
   "metadata": {
    "collapsed": false
   },
   "outputs": [
    {
     "data": {
      "text/plain": [
       "{'astro-ph': 43003,\n",
       " 'cond-mat.dis-nn': 7868,\n",
       " 'cond-mat.mes-hall': 32910,\n",
       " 'cond-mat.mtrl-sci': 28484,\n",
       " 'cond-mat.other': 5903,\n",
       " 'cond-mat.quant-gas': 2555,\n",
       " 'cond-mat.soft': 15845,\n",
       " 'cond-mat.stat-mech': 25021,\n",
       " 'cond-mat.str-el': 27909,\n",
       " 'cond-mat.supr-con': 20700,\n",
       " 'cs.AI': 6275,\n",
       " 'cs.CC': 2607,\n",
       " 'cs.CL': 3502,\n",
       " 'cs.CR': 4308,\n",
       " 'cs.CV': 8168,\n",
       " 'cs.CY': 2106,\n",
       " 'cs.DB': 2213,\n",
       " 'cs.DC': 3760,\n",
       " 'cs.DM': 2419,\n",
       " 'cs.DS': 5810,\n",
       " 'cs.GT': 2562,\n",
       " 'cs.IT': 16554,\n",
       " 'cs.LG': 5835,\n",
       " 'cs.LO': 4491,\n",
       " 'cs.NI': 6160,\n",
       " 'cs.SE': 2865,\n",
       " 'cs.SI': 2395,\n",
       " 'gr-qc': 34868,\n",
       " 'hep-ex': 14822,\n",
       " 'hep-lat': 13284,\n",
       " 'hep-ph': 54280,\n",
       " 'hep-th': 47397,\n",
       " 'math-ph': 20773,\n",
       " 'math.AC': 4368,\n",
       " 'math.AG': 19545,\n",
       " 'math.AP': 17439,\n",
       " 'math.AT': 4560,\n",
       " 'math.CA': 7461,\n",
       " 'math.CO': 19248,\n",
       " 'math.CV': 5183,\n",
       " 'math.DG': 15215,\n",
       " 'math.DS': 10393,\n",
       " 'math.FA': 8830,\n",
       " 'math.GR': 7294,\n",
       " 'math.GT': 8783,\n",
       " 'math.LO': 4437,\n",
       " 'math.MG': 3106,\n",
       " 'math.NA': 8272,\n",
       " 'math.NT': 14098,\n",
       " 'math.OA': 4968,\n",
       " 'math.OC': 8554,\n",
       " 'math.PR': 18905,\n",
       " 'math.QA': 6107,\n",
       " 'math.RA': 5523,\n",
       " 'math.RT': 7961,\n",
       " 'math.SG': 2821,\n",
       " 'math.SP': 2358,\n",
       " 'math.ST': 6908,\n",
       " 'nlin.CD': 5044,\n",
       " 'nlin.PS': 2537,\n",
       " 'nlin.SI': 3186,\n",
       " 'nucl-ex': 7423,\n",
       " 'nucl-th': 21351,\n",
       " 'physics.acc-ph': 3430,\n",
       " 'physics.atom-ph': 7049,\n",
       " 'physics.bio-ph': 3307,\n",
       " 'physics.chem-ph': 4137,\n",
       " 'physics.class-ph': 2804,\n",
       " 'physics.comp-ph': 2666,\n",
       " 'physics.data-an': 2140,\n",
       " 'physics.flu-dyn': 6489,\n",
       " 'physics.gen-ph': 6451,\n",
       " 'physics.ins-det': 6245,\n",
       " 'physics.optics': 12564,\n",
       " 'physics.plasm-ph': 5050,\n",
       " 'physics.soc-ph': 5806,\n",
       " 'q-bio.NC': 2165,\n",
       " 'q-bio.PE': 3352,\n",
       " 'quant-ph': 48254,\n",
       " 'stat.AP': 2910,\n",
       " 'stat.ME': 5113,\n",
       " 'stat.ML': 3884}"
      ]
     },
     "execution_count": 5,
     "metadata": {},
     "output_type": "execute_result"
    }
   ],
   "source": [
    "cat_count = dict(queries.primary_category.value_counts())\n",
    "cat_count"
   ]
  },
  {
   "cell_type": "markdown",
   "metadata": {},
   "source": [
    "Выбираем категорию, запускаем процесс скачивания"
   ]
  },
  {
   "cell_type": "code",
   "execution_count": null,
   "metadata": {
    "collapsed": false
   },
   "outputs": [],
   "source": [
    "print(\"Loading category %s...\" % 'math.RA')\n",
    "%time get_articles(category='math.RA')"
   ]
  },
  {
   "cell_type": "code",
   "execution_count": null,
   "metadata": {
    "collapsed": true
   },
   "outputs": [],
   "source": []
  }
 ],
 "metadata": {
  "kernelspec": {
   "display_name": "Python [Root]",
   "language": "python",
   "name": "Python [Root]"
  },
  "language_info": {
   "codemirror_mode": {
    "name": "ipython",
    "version": 3
   },
   "file_extension": ".py",
   "mimetype": "text/x-python",
   "name": "python",
   "nbconvert_exporter": "python",
   "pygments_lexer": "ipython3",
   "version": "3.5.2"
  }
 },
 "nbformat": 4,
 "nbformat_minor": 0
}

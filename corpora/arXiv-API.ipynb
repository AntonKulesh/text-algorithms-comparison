{
 "cells": [
  {
   "cell_type": "markdown",
   "metadata": {},
   "source": [
    "# Экспорт статей из ArXiv.org\n",
    "В данной тетрадке реализован подход, позволяющий загружать статьи (исходники и pdf) из arXiv.org через arXiv API. Сначала будут получены метаданные статей (id, название, ссылки на скачивание), а потом произведена загрузка документов на диск. \n",
    "\n",
    "\n",
    "## Источники\n",
    "При создании этого документа использовались следующие источники:\n",
    "\n",
    "1. [python_arXiv_parsing_example](https://arxiv.org/help/api/examples/python_arXiv_parsing_example.txt)  \n",
    "2. [python_arXiv_paging_example](https://arxiv.org/help/api/examples/python_arXiv_paging_example.txt)  \n",
    "3. [arXiv API User's Manual](https://arxiv.org/help/api/user-manual#_feed_metadata)\n",
    "4. [KDD Cap 2003 - Datasets](http://www.cs.cornell.edu/projects/kddcup/datasets.html)"
   ]
  },
  {
   "cell_type": "markdown",
   "metadata": {},
   "source": [
    "Загрузка необходимых библиотек"
   ]
  },
  {
   "cell_type": "code",
   "execution_count": 1,
   "metadata": {
    "collapsed": false
   },
   "outputs": [],
   "source": [
    "import pandas as pd\n",
    "import numpy as np\n",
    "import csv\n",
    "import urllib\n",
    "import urllib.request as request\n",
    "from urllib.request import urlretrieve\n",
    "import feedparser\n",
    "import time\n",
    "import os\n",
    "\n",
    "%matplotlib inline\n",
    "import matplotlib.pyplot as plt"
   ]
  },
  {
   "cell_type": "markdown",
   "metadata": {},
   "source": [
    "Загружаем все категории arXiv`a. Информация о категориях расположена на [этой](https://arxiv.org/help/api/user-manual#_feed_metadata) странице. Список категорий (аббревиатура и расшифровка) сохраним как DataFrame в файл [subject_classifications.csv](https://drive.google.com/open?id=0B_NefGKQ1pCsMlRwQThKdVpBdnM)."
   ]
  },
  {
   "cell_type": "code",
   "execution_count": 2,
   "metadata": {
    "collapsed": false
   },
   "outputs": [
    {
     "name": "stdout",
     "output_type": "stream",
     "text": [
      "(127, 2)\n"
     ]
    },
    {
     "data": {
      "text/html": [
       "<div>\n",
       "<table border=\"1\" class=\"dataframe\">\n",
       "  <thead>\n",
       "    <tr style=\"text-align: right;\">\n",
       "      <th></th>\n",
       "      <th>Subject Abbreviation</th>\n",
       "      <th>Description</th>\n",
       "    </tr>\n",
       "  </thead>\n",
       "  <tbody>\n",
       "    <tr>\n",
       "      <th>0</th>\n",
       "      <td>stat.AP</td>\n",
       "      <td>Statistics - Applications</td>\n",
       "    </tr>\n",
       "    <tr>\n",
       "      <th>1</th>\n",
       "      <td>stat.CO</td>\n",
       "      <td>Statistics - Computation</td>\n",
       "    </tr>\n",
       "    <tr>\n",
       "      <th>2</th>\n",
       "      <td>stat.ML</td>\n",
       "      <td>Statistics - Machine Learning</td>\n",
       "    </tr>\n",
       "    <tr>\n",
       "      <th>3</th>\n",
       "      <td>stat.ME</td>\n",
       "      <td>Statistics - Methodology</td>\n",
       "    </tr>\n",
       "    <tr>\n",
       "      <th>4</th>\n",
       "      <td>stat.TH</td>\n",
       "      <td>Statistics - Theory</td>\n",
       "    </tr>\n",
       "  </tbody>\n",
       "</table>\n",
       "</div>"
      ],
      "text/plain": [
       "  Subject Abbreviation                    Description\n",
       "0              stat.AP      Statistics - Applications\n",
       "1              stat.CO       Statistics - Computation\n",
       "2              stat.ML  Statistics - Machine Learning\n",
       "3              stat.ME       Statistics - Methodology\n",
       "4              stat.TH            Statistics - Theory"
      ]
     },
     "execution_count": 2,
     "metadata": {},
     "output_type": "execute_result"
    }
   ],
   "source": [
    "path = \"D:\\\\_data_science\\\\@@projects\\\\2017_diploma-nlp\\\\data\\\\\"\n",
    "\n",
    "subjects = pd.read_csv(path + \"subject_classifications.csv\", sep=';')\n",
    "abbreviations = subjects[\"Subject Abbreviation\"]\n",
    "description = subjects[\"Description\"]\n",
    "subjects_dictionary = dict(zip(abbreviations, description))\n",
    "\n",
    "print(subjects.shape)\n",
    "subjects.head()"
   ]
  },
  {
   "cell_type": "markdown",
   "metadata": {},
   "source": [
    "## Выполнение и обработка запросов"
   ]
  },
  {
   "cell_type": "code",
   "execution_count": null,
   "metadata": {
    "collapsed": false
   },
   "outputs": [],
   "source": [
    "def queries(search_query='cs.OS', start = 0, max_results = 5, path=path, is_new=False):\n",
    "    '''\n",
    "    Description\n",
    "    \n",
    "    '''\n",
    "    # Base api query url\n",
    "    base_url = 'http://export.arxiv.org/api/query?'\n",
    "\n",
    "    # Opensearch metadata such as totalResults, startIndex, \n",
    "    # and itemsPerPage live in the opensearch namespase.\n",
    "    # Some entry metadata lives in the arXiv namespace.\n",
    "    # This is a hack to expose both of these namespaces in \n",
    "    #feedparser v4.1\n",
    "    feedparser._FeedParserMixin.namespaces['http://a9.com/-/spec/opensearch/1.1/'] = 'opensearch'\n",
    "    feedparser._FeedParserMixin.namespaces['http://arxiv.org/schemas/atom'] = 'arxiv'\n",
    "\n",
    "    # perform a GET request using the base_url and query\n",
    "    query = 'search_query=%s&start=%i&max_results=%i' % (search_query, 0, 1)\n",
    "    response = request.urlopen(base_url + query).read()\n",
    "\n",
    "    # parse the response using feedparser\n",
    "    feed = feedparser.parse(response)\n",
    "    \n",
    "    # nubmer of all articles for search_query\n",
    "    totalResults = int(feed.feed.opensearch_totalresults.split('totalResults for this query: ')[0])\n",
    "    \n",
    "    # Search parameters\n",
    "    total_results = totalResults                 # want all total results\n",
    "    results_per_iteration = 500                  # 500 results at a time\n",
    "    wait_time = 3                                # number of seconds to wait beetween calls\n",
    "    \n",
    "    \n",
    "    print('Searching arXiv for %s' % subjects_dictionary[search_query])\n",
    "    print(\"Number of documents: %d\" % totalResults)\n",
    "    \n",
    "    # We will writing metadata to csv-file\n",
    "    result = path + 'queries.csv'\n",
    "    names = ['id','title', 'primary_category', 'category', 'source_link', 'pdf_link']\n",
    "    if is_new:\n",
    "        f = open(result, \"w+\")\n",
    "        f.close()\n",
    "        \n",
    "    f = open(result, 'a+')\n",
    "    writer = csv.DictWriter(f, fieldnames=names)\n",
    "    if os.stat(result).st_size == 0:\n",
    "        writer.writeheader()\n",
    "    \n",
    "    for i in range(start, total_results, results_per_iteration):\n",
    "        #print(\"Results %i - %i\" % (i, i + results_per_iteration))\n",
    "        query = 'search_query=%s&start=%i&max_results=%i' % (search_query, i, results_per_iteration)\n",
    "        \n",
    "        # perform a GET request using the base_url and query\n",
    "        response = request.urlopen(base_url + query).read()\n",
    "\n",
    "        # parse the response using feedparser\n",
    "        feed = feedparser.parse(response)\n",
    "\n",
    "        # Run through each entry, and print out information\n",
    "        for entry in feed.entries:\n",
    "            arxiv_id = entry.id.split('/abs/')[-1]\n",
    "            title = entry.title\n",
    "            \n",
    "            # Get primary category\n",
    "            primary_category = entry.arxiv_primary_category['term']\n",
    "            \n",
    "            # Lets get all the categories\n",
    "            all_categories = [t['term'] for t in entry.tags]\n",
    "            \n",
    "            # get the links to the abs page and pdf for this e-print\n",
    "            for link in entry.links:\n",
    "                if link.rel == 'alternate':\n",
    "                    source_link = link.href.replace('abs','e-print')\n",
    "                elif link.title == 'pdf':\n",
    "                    pdf_link = link.href\n",
    "            \n",
    "            try:\n",
    "                writer.writerow({'id': arxiv_id,\n",
    "                             'title': title,\n",
    "                             'primary_category': primary_category,\n",
    "                             'category': all_categories,\n",
    "                             'source_link': source_link,\n",
    "                             'pdf_link': pdf_link})\n",
    "            except UnicodeEncodeError:\n",
    "                continue\n",
    "            \n",
    "        # Remember to play nice and sleep a bit before you call the api again!\n",
    "        time.sleep(wait_time)"
   ]
  },
  {
   "cell_type": "markdown",
   "metadata": {},
   "source": [
    "Теперь получим метаданные для всех документов каждой категории и запишем результат в файл."
   ]
  },
  {
   "cell_type": "code",
   "execution_count": null,
   "metadata": {
    "collapsed": false
   },
   "outputs": [],
   "source": [
    "%%time\n",
    "\n",
    "%time queries(search_query=abbreviations[0], is_new=True)\n",
    "print(\"\\n\")\n",
    "\n",
    "for cat in abbreviations[1:] :\n",
    "    %time queries(search_query=cat)\n",
    "    print(\"\\n\")"
   ]
  },
  {
   "cell_type": "markdown",
   "metadata": {},
   "source": [
    "Общее время работы составляет около **13 часов** на ноутбуке Lenovo U410 (Intel Core i3). [Ссылка](https://drive.google.com/open?id=0B_NefGKQ1pCsaXpDc2doak1xY0E) на архив с файлом."
   ]
  },
  {
   "cell_type": "markdown",
   "metadata": {},
   "source": [
    "## Анализ метаданных"
   ]
  },
  {
   "cell_type": "code",
   "execution_count": 3,
   "metadata": {
    "collapsed": false
   },
   "outputs": [
    {
     "data": {
      "text/html": [
       "<div>\n",
       "<table border=\"1\" class=\"dataframe\">\n",
       "  <thead>\n",
       "    <tr style=\"text-align: right;\">\n",
       "      <th></th>\n",
       "      <th>id</th>\n",
       "      <th>title</th>\n",
       "      <th>primary_category</th>\n",
       "      <th>category</th>\n",
       "      <th>source_link</th>\n",
       "      <th>pdf_link</th>\n",
       "    </tr>\n",
       "  </thead>\n",
       "  <tbody>\n",
       "    <tr>\n",
       "      <th>1363562</th>\n",
       "      <td>1507.00104v1</td>\n",
       "      <td>Geometric Class Field Theory</td>\n",
       "      <td>math.AG</td>\n",
       "      <td>['math.AG']</td>\n",
       "      <td>http://arxiv.org/e-print/1507.00104v1</td>\n",
       "      <td>http://arxiv.org/pdf/1507.00104v1</td>\n",
       "    </tr>\n",
       "    <tr>\n",
       "      <th>1363563</th>\n",
       "      <td>1507.00254v2</td>\n",
       "      <td>The Crepant Transformation Conjecture implies ...</td>\n",
       "      <td>math.AG</td>\n",
       "      <td>['math.AG']</td>\n",
       "      <td>http://arxiv.org/e-print/1507.00254v2</td>\n",
       "      <td>http://arxiv.org/pdf/1507.00254v2</td>\n",
       "    </tr>\n",
       "    <tr>\n",
       "      <th>1363564</th>\n",
       "      <td>1507.00573v1</td>\n",
       "      <td>Comparison results for derived Deligne-Mumford...</td>\n",
       "      <td>math.AG</td>\n",
       "      <td>['math.AG']</td>\n",
       "      <td>http://arxiv.org/e-print/1507.00573v1</td>\n",
       "      <td>http://arxiv.org/pdf/1507.00573v1</td>\n",
       "    </tr>\n",
       "    <tr>\n",
       "      <th>1363565</th>\n",
       "      <td>1507.00624v1</td>\n",
       "      <td>Duality for dormant opers</td>\n",
       "      <td>math.AG</td>\n",
       "      <td>['math.AG', 'math.RT']</td>\n",
       "      <td>http://arxiv.org/e-print/1507.00624v1</td>\n",
       "      <td>http://arxiv.org/pdf/1507.00624v1</td>\n",
       "    </tr>\n",
       "    <tr>\n",
       "      <th>1363566</th>\n",
       "      <td>1507.00952v1</td>\n",
       "      <td>A new proof of the Caporaso-Sernesi theorem vi...</td>\n",
       "      <td>math.AG</td>\n",
       "      <td>['math.AG']</td>\n",
       "      <td>http://arxiv.org/e-print/1507.00952v1</td>\n",
       "      <td>http://arxiv.org/pdf/1507.00952v1</td>\n",
       "    </tr>\n",
       "  </tbody>\n",
       "</table>\n",
       "</div>"
      ],
      "text/plain": [
       "                   id                                              title  \\\n",
       "1363562  1507.00104v1                       Geometric Class Field Theory   \n",
       "1363563  1507.00254v2  The Crepant Transformation Conjecture implies ...   \n",
       "1363564  1507.00573v1  Comparison results for derived Deligne-Mumford...   \n",
       "1363565  1507.00624v1                          Duality for dormant opers   \n",
       "1363566  1507.00952v1  A new proof of the Caporaso-Sernesi theorem vi...   \n",
       "\n",
       "        primary_category                category  \\\n",
       "1363562          math.AG             ['math.AG']   \n",
       "1363563          math.AG             ['math.AG']   \n",
       "1363564          math.AG             ['math.AG']   \n",
       "1363565          math.AG  ['math.AG', 'math.RT']   \n",
       "1363566          math.AG             ['math.AG']   \n",
       "\n",
       "                                   source_link  \\\n",
       "1363562  http://arxiv.org/e-print/1507.00104v1   \n",
       "1363563  http://arxiv.org/e-print/1507.00254v2   \n",
       "1363564  http://arxiv.org/e-print/1507.00573v1   \n",
       "1363565  http://arxiv.org/e-print/1507.00624v1   \n",
       "1363566  http://arxiv.org/e-print/1507.00952v1   \n",
       "\n",
       "                                  pdf_link  \n",
       "1363562  http://arxiv.org/pdf/1507.00104v1  \n",
       "1363563  http://arxiv.org/pdf/1507.00254v2  \n",
       "1363564  http://arxiv.org/pdf/1507.00573v1  \n",
       "1363565  http://arxiv.org/pdf/1507.00624v1  \n",
       "1363566  http://arxiv.org/pdf/1507.00952v1  "
      ]
     },
     "execution_count": 3,
     "metadata": {},
     "output_type": "execute_result"
    }
   ],
   "source": [
    "queries = pd.read_csv(path + \"queries.csv\", encoding='cp1251')\n",
    "queries.tail()"
   ]
  },
  {
   "cell_type": "markdown",
   "metadata": {
    "collapsed": true
   },
   "source": [
    "Получился файл, содержащий более миллиона записей. Проверим нет ли повторяющихся записей в данной таблице."
   ]
  },
  {
   "cell_type": "code",
   "execution_count": 4,
   "metadata": {
    "collapsed": false
   },
   "outputs": [
    {
     "name": "stdout",
     "output_type": "stream",
     "text": [
      "Number of all queries: 1363567\n",
      "Number of unique queries: 937577\n",
      "Duplicates: 425990\n"
     ]
    }
   ],
   "source": [
    "n = len(queries)\n",
    "m = len(queries.drop_duplicates())\n",
    "print(\"Number of all queries: %d\" % n)\n",
    "print(\"Number of unique queries: %d\" % m)\n",
    "print(\"Duplicates: %d\" % (n - m))"
   ]
  },
  {
   "cell_type": "markdown",
   "metadata": {},
   "source": [
    "Удаляем дубли из таблицы"
   ]
  },
  {
   "cell_type": "code",
   "execution_count": 5,
   "metadata": {
    "collapsed": false
   },
   "outputs": [
    {
     "name": "stdout",
     "output_type": "stream",
     "text": [
      "<class 'pandas.core.frame.DataFrame'>\n",
      "Int64Index: 937577 entries, 0 to 1363528\n",
      "Data columns (total 6 columns):\n",
      "id                  937577 non-null object\n",
      "title               937577 non-null object\n",
      "primary_category    937577 non-null object\n",
      "category            937577 non-null object\n",
      "source_link         937577 non-null object\n",
      "pdf_link            937577 non-null object\n",
      "dtypes: object(6)\n",
      "memory usage: 50.1+ MB\n"
     ]
    }
   ],
   "source": [
    "queries = queries.drop_duplicates()\n",
    "queries.to_csv(path + 'unique_queries.csv')\n",
    "queries.info()"
   ]
  },
  {
   "cell_type": "markdown",
   "metadata": {},
   "source": [
    "Посмотрим как распределяются категории. Построим гистограмму распределения частот всех категорий. "
   ]
  },
  {
   "cell_type": "code",
   "execution_count": 6,
   "metadata": {
    "collapsed": false
   },
   "outputs": [
    {
     "data": {
      "text/plain": [
       "<matplotlib.text.Text at 0xfac8113b00>"
      ]
     },
     "execution_count": 6,
     "metadata": {},
     "output_type": "execute_result"
    },
    {
     "data": {
      "image/png": "[encoded data removed]",
      "text/plain": [
       "<matplotlib.figure.Figure at 0xfae3f254a8>"
      ]
     },
     "metadata": {},
     "output_type": "display_data"
    }
   ],
   "source": [
    "plt.figure(figsize=(20,10))\n",
    "queries.primary_category.value_counts().plot(kind='bar', alpha=0.7)\n",
    "plt.title(\"Categories distribution\")"
   ]
  },
  {
   "cell_type": "markdown",
   "metadata": {},
   "source": [
    "Распределение имеет длинный хвост -- это категории, которые покрывают небольшое количество статей. Выполним отсечение по медиане."
   ]
  },
  {
   "cell_type": "code",
   "execution_count": 7,
   "metadata": {
    "collapsed": false
   },
   "outputs": [],
   "source": [
    "median = np.median(queries.primary_category.value_counts())\n",
    "cat_count = dict(queries.primary_category.value_counts())\n",
    "selected = []\n",
    "\n",
    "for cat in cat_count.keys():\n",
    "    if cat_count[cat] > median:\n",
    "        selected.append(cat)\n",
    "        \n",
    "queries = queries[queries.primary_category.isin(selected)].reset_index(drop=True)"
   ]
  },
  {
   "cell_type": "markdown",
   "metadata": {},
   "source": [
    "После того как были выброшены редкие категории, распределение приобрело следующий вид"
   ]
  },
  {
   "cell_type": "code",
   "execution_count": 8,
   "metadata": {
    "collapsed": false
   },
   "outputs": [
    {
     "data": {
      "text/plain": [
       "<matplotlib.text.Text at 0xfac924f6d8>"
      ]
     },
     "execution_count": 8,
     "metadata": {},
     "output_type": "execute_result"
    },
    {
     "data": {
      "image/png": "[encoded data removed]",
      "text/plain": [
       "<matplotlib.figure.Figure at 0xfac8692cf8>"
      ]
     },
     "metadata": {},
     "output_type": "display_data"
    }
   ],
   "source": [
    "plt.figure(figsize=(20,10))\n",
    "queries.primary_category.value_counts().plot(kind='bar', alpha=0.7)\n",
    "plt.title(\"Categories distribution\")"
   ]
  },
  {
   "cell_type": "markdown",
   "metadata": {},
   "source": [
    "Некоторые id записаны некорректно и влючают ещё название категории, например, \"hep-th/9201001\". Отделим название категории от названия файла."
   ]
  },
  {
   "cell_type": "code",
   "execution_count": 9,
   "metadata": {
    "collapsed": false
   },
   "outputs": [],
   "source": [
    "for i in range(len(queries)):\n",
    "    if '/' in queries.iloc[i].id:\n",
    "        name = queries.iloc[i].id.split('/')\n",
    "        queries.iloc[i].id = name[1]"
   ]
  },
  {
   "cell_type": "markdown",
   "metadata": {},
   "source": [
    "В списке category встречаются неизвестные названия категорий, которые сложно интерепретировать, например, 'I.2.6; K.3.2'. Удалим эти метки из category."
   ]
  },
  {
   "cell_type": "code",
   "execution_count": 10,
   "metadata": {
    "collapsed": false
   },
   "outputs": [
    {
     "name": "stdout",
     "output_type": "stream",
     "text": [
      "0 iterations\n",
      "10000 iterations\n",
      "20000 iterations\n",
      "30000 iterations\n",
      "40000 iterations\n",
      "50000 iterations\n",
      "60000 iterations\n",
      "70000 iterations\n",
      "80000 iterations\n",
      "90000 iterations\n",
      "100000 iterations\n",
      "110000 iterations\n",
      "120000 iterations\n",
      "130000 iterations\n",
      "140000 iterations\n",
      "150000 iterations\n",
      "160000 iterations\n",
      "170000 iterations\n",
      "180000 iterations\n",
      "190000 iterations\n",
      "200000 iterations\n",
      "210000 iterations\n",
      "220000 iterations\n",
      "230000 iterations\n",
      "240000 iterations\n",
      "250000 iterations\n",
      "260000 iterations\n",
      "270000 iterations\n",
      "280000 iterations\n",
      "290000 iterations\n",
      "300000 iterations\n",
      "310000 iterations\n",
      "320000 iterations\n",
      "330000 iterations\n",
      "340000 iterations\n",
      "350000 iterations\n",
      "360000 iterations\n",
      "370000 iterations\n",
      "380000 iterations\n",
      "390000 iterations\n",
      "400000 iterations\n",
      "410000 iterations\n",
      "420000 iterations\n",
      "430000 iterations\n",
      "440000 iterations\n",
      "450000 iterations\n",
      "460000 iterations\n",
      "470000 iterations\n",
      "480000 iterations\n",
      "490000 iterations\n",
      "500000 iterations\n",
      "510000 iterations\n",
      "520000 iterations\n",
      "530000 iterations\n",
      "540000 iterations\n",
      "550000 iterations\n",
      "560000 iterations\n",
      "570000 iterations\n",
      "580000 iterations\n",
      "590000 iterations\n",
      "600000 iterations\n",
      "610000 iterations\n",
      "620000 iterations\n",
      "630000 iterations\n",
      "640000 iterations\n",
      "650000 iterations\n",
      "660000 iterations\n",
      "670000 iterations\n",
      "680000 iterations\n",
      "690000 iterations\n",
      "700000 iterations\n",
      "710000 iterations\n",
      "720000 iterations\n",
      "730000 iterations\n",
      "740000 iterations\n",
      "750000 iterations\n",
      "760000 iterations\n",
      "770000 iterations\n",
      "780000 iterations\n",
      "790000 iterations\n",
      "800000 iterations\n",
      "810000 iterations\n",
      "820000 iterations\n",
      "830000 iterations\n",
      "840000 iterations\n",
      "850000 iterations\n",
      "860000 iterations\n",
      "870000 iterations\n"
     ]
    }
   ],
   "source": [
    "for i in range(len(queries)):\n",
    "    cat_list = []\n",
    "    cat = queries.category[i]\n",
    "    if ',' not in cat:\n",
    "        cat_list.append(cat[2:-2])\n",
    "    for c in selected:\n",
    "        if c in cat:\n",
    "            cat_list.append(c)\n",
    "    queries.category[i] = cat_list\n",
    "    if i%10000 == 0:\n",
    "        print(\"%d iterations\" % i)"
   ]
  },
  {
   "cell_type": "markdown",
   "metadata": {
    "collapsed": true
   },
   "source": [
    "Посмотрим к какому количеству тем относятся документы."
   ]
  },
  {
   "cell_type": "code",
   "execution_count": 25,
   "metadata": {
    "collapsed": false
   },
   "outputs": [
    {
     "data": {
      "image/png": "[encoded data removed]",
      "text/plain": [
       "<matplotlib.figure.Figure at 0xfafa06c438>"
      ]
     },
     "metadata": {},
     "output_type": "display_data"
    },
    {
     "name": "stdout",
     "output_type": "stream",
     "text": [
      "Максимальное число тем: 11\n",
      "Среднее число тем: 1.506\n"
     ]
    }
   ],
   "source": [
    "freq = []\n",
    "for i in list(queries.category):\n",
    "    freq.append(len(i))\n",
    "\n",
    "plt.figure(figsize=(12,3))\n",
    "plt.hist(freq, alpha=0.7)\n",
    "plt.show()\n",
    "\n",
    "print(\"Максимальное число тем: %d\" % max(freq))\n",
    "print(\"Среднее число тем: %.3f\" % np.mean(freq))"
   ]
  },
  {
   "cell_type": "code",
   "execution_count": 26,
   "metadata": {
    "collapsed": true
   },
   "outputs": [],
   "source": [
    "# Записываем результат\n",
    "\n",
    "queries.to_csv(path + 'unique_queries.csv')"
   ]
  },
  {
   "cell_type": "markdown",
   "metadata": {},
   "source": [
    "Файл доступен по [ссылке](https://drive.google.com/open?id=0B_NefGKQ1pCsZjhzUFNTdnJPZlE)"
   ]
  },
  {
   "cell_type": "markdown",
   "metadata": {},
   "source": [
    "## Скачивание статей на диск"
   ]
  },
  {
   "cell_type": "markdown",
   "metadata": {},
   "source": [
    "Около 60 тысяч документов было получено в результате прямого скачивания датасетов [отсюда](http://www.cs.cornell.edu/projects/kddcup/datasets.html)"
   ]
  },
  {
   "cell_type": "code",
   "execution_count": null,
   "metadata": {
    "collapsed": false
   },
   "outputs": [],
   "source": [
    "articles_path = 'C:\\\\Users\\\\user\\\\Downloads\\\\arxiv\\\\'   \n",
    "\n",
    "'''for cat in categories:\n",
    "    if not os.path.exists(articles_path + 'source\\\\' + cat):\n",
    "        os.makedirs(articles_path + 'source\\\\' + cat)'''"
   ]
  },
  {
   "cell_type": "markdown",
   "metadata": {
    "collapsed": true
   },
   "source": [
    "Используем полученный ранее [файл](https://drive.google.com/open?id=0B_NefGKQ1pCsZjhzUFNTdnJPZlE) с метаданными статей для загрузки файлов на диск. Будем загружать только исходники, потому что  их проще обрабатывать (исходники записаны с формате tex, который имеет опреденную структуру и удобен для текстовой обработки)."
   ]
  },
  {
   "cell_type": "code",
   "execution_count": null,
   "metadata": {
    "collapsed": false
   },
   "outputs": [],
   "source": [
    "def get_articles(queries=queries, category='stat.AP', source=True, pdf=False, start=0):\n",
    "    '''\n",
    "    Description\n",
    "    '''\n",
    "    metadata = queries[queries.primary_category == category].reset_index(drop=True)\n",
    "    n = len(metadata)\n",
    "    arxiv_id = metadata.id\n",
    "    pdfs = metadata.pdf_link\n",
    "    sources = metadata.source_link\n",
    "    categories = metadata.primary_category.unique()\n",
    "    wait_time = 3\n",
    "    \n",
    "    for i in range(start, n):\n",
    "        \n",
    "        if i%50 == 0:\n",
    "            time.sleep(wait_time) \n",
    "            print(\"Loaded %d files\" % i)\n",
    "        \n",
    "        if source:\n",
    "            filename = path + 'source\\\\' + arxiv_id[i]         \n",
    "            \n",
    "            if not os.path.isfile(filename):                              # Check exsisting   \n",
    "                try:\n",
    "                    urlretrieve(sources[i], filename)                     # Saving\n",
    "                except urllib.request.HTTPError:\n",
    "                    continue     \n",
    "                    \n",
    "        if pdf:\n",
    "            filename = path + 'pdf\\\\' + arxiv_id[i] + '.pdf'\n",
    "            if not os.path.isfile(filename): \n",
    "                urlretrieve(pdfs[i], filename)       "
   ]
  },
  {
   "cell_type": "code",
   "execution_count": null,
   "metadata": {
    "collapsed": false
   },
   "outputs": [],
   "source": [
    "%%time\n",
    "\n",
    "for cat in categories:\n",
    "    print(\"Loading category %s...\" % subjects_dictionary[cat])\n",
    "    %time get_articles(category=cat)\n",
    "    print('\\n')"
   ]
  },
  {
   "cell_type": "code",
   "execution_count": null,
   "metadata": {
    "collapsed": true
   },
   "outputs": [],
   "source": []
  }
 ],
 "metadata": {
  "anaconda-cloud": {},
  "kernelspec": {
   "display_name": "Python [Root]",
   "language": "python",
   "name": "Python [Root]"
  },
  "language_info": {
   "codemirror_mode": {
    "name": "ipython",
    "version": 3
   },
   "file_extension": ".py",
   "mimetype": "text/x-python",
   "name": "python",
   "nbconvert_exporter": "python",
   "pygments_lexer": "ipython3",
   "version": "3.5.2"
  }
 },
 "nbformat": 4,
 "nbformat_minor": 0
}

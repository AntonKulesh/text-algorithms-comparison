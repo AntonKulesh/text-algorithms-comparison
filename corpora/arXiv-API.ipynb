{
 "cells": [
  {
   "cell_type": "markdown",
   "metadata": {},
   "source": [
    "# Экспорт статей из ArXiv.org\n",
    "В данной тетрадке реализован подход, позволяющий загружать статьи (исходники и pdf) из [arXiv.org](https://arxiv.org) через arXiv API. Сначала будут получены метаданные статей (id, название, ссылки на скачивание), а потом произведена загрузка документов на диск. \n",
    "\n",
    "\n",
    "## Источники\n",
    "При создании этого документа использовались следующие источники:\n",
    "\n",
    "1. [python_arXiv_parsing_example](https://arxiv.org/help/api/examples/python_arXiv_parsing_example.txt)  \n",
    "2. [python_arXiv_paging_example](https://arxiv.org/help/api/examples/python_arXiv_paging_example.txt)  \n",
    "3. [arXiv API User's Manual](https://arxiv.org/help/api/user-manual#_feed_metadata)\n",
    "4. [KDD Cap 2003 - Datasets](http://www.cs.cornell.edu/projects/kddcup/datasets.html)"
   ]
  },
  {
   "cell_type": "markdown",
   "metadata": {},
   "source": [
    "Загрузка необходимых библиотек"
   ]
  },
  {
   "cell_type": "code",
   "execution_count": 1,
   "metadata": {
    "collapsed": false
   },
   "outputs": [],
   "source": [
    "import pandas as pd\n",
    "import numpy as np\n",
    "import csv\n",
    "import urllib\n",
    "import urllib.request as request\n",
    "from urllib.request import urlretrieve\n",
    "import feedparser\n",
    "import time\n",
    "import os\n",
    "import re\n",
    "\n",
    "%matplotlib inline\n",
    "import seaborn as sns\n",
    "import matplotlib.pyplot as plt"
   ]
  },
  {
   "cell_type": "markdown",
   "metadata": {},
   "source": [
    "Загружаем все категории arXiv`a. Информация о категориях расположена на [этой](https://arxiv.org/help/api/user-manual#_feed_metadata) странице. Список категорий (аббревиатура и расшифровка) сохраним как DataFrame в файл [subject_classifications.csv](https://drive.google.com/open?id=0B_NefGKQ1pCsMlRwQThKdVpBdnM)."
   ]
  },
  {
   "cell_type": "code",
   "execution_count": 2,
   "metadata": {
    "collapsed": false
   },
   "outputs": [
    {
     "name": "stdout",
     "output_type": "stream",
     "text": [
      "(127, 2)\n"
     ]
    },
    {
     "data": {
      "text/html": [
       "<div>\n",
       "<table border=\"1\" class=\"dataframe\">\n",
       "  <thead>\n",
       "    <tr style=\"text-align: right;\">\n",
       "      <th></th>\n",
       "      <th>Subject Abbreviation</th>\n",
       "      <th>Description</th>\n",
       "    </tr>\n",
       "  </thead>\n",
       "  <tbody>\n",
       "    <tr>\n",
       "      <th>0</th>\n",
       "      <td>stat.AP</td>\n",
       "      <td>Statistics - Applications</td>\n",
       "    </tr>\n",
       "    <tr>\n",
       "      <th>1</th>\n",
       "      <td>stat.CO</td>\n",
       "      <td>Statistics - Computation</td>\n",
       "    </tr>\n",
       "    <tr>\n",
       "      <th>2</th>\n",
       "      <td>stat.ML</td>\n",
       "      <td>Statistics - Machine Learning</td>\n",
       "    </tr>\n",
       "    <tr>\n",
       "      <th>3</th>\n",
       "      <td>stat.ME</td>\n",
       "      <td>Statistics - Methodology</td>\n",
       "    </tr>\n",
       "    <tr>\n",
       "      <th>4</th>\n",
       "      <td>stat.TH</td>\n",
       "      <td>Statistics - Theory</td>\n",
       "    </tr>\n",
       "  </tbody>\n",
       "</table>\n",
       "</div>"
      ],
      "text/plain": [
       "  Subject Abbreviation                    Description\n",
       "0              stat.AP      Statistics - Applications\n",
       "1              stat.CO       Statistics - Computation\n",
       "2              stat.ML  Statistics - Machine Learning\n",
       "3              stat.ME       Statistics - Methodology\n",
       "4              stat.TH            Statistics - Theory"
      ]
     },
     "execution_count": 2,
     "metadata": {},
     "output_type": "execute_result"
    }
   ],
   "source": [
    "path = \"D:/_data_science/@@projects/2017_diploma-nlp/data/\"\n",
    "\n",
    "subjects = pd.read_csv(path + \"subject_classifications.csv\", sep=';')\n",
    "abbreviations = subjects[\"Subject Abbreviation\"]\n",
    "description = subjects[\"Description\"]\n",
    "subjects_dictionary = dict(zip(abbreviations, description))\n",
    "\n",
    "print(subjects.shape)\n",
    "subjects.head()"
   ]
  },
  {
   "cell_type": "markdown",
   "metadata": {},
   "source": [
    "## Выполнение и обработка запросов"
   ]
  },
  {
   "cell_type": "code",
   "execution_count": null,
   "metadata": {
    "collapsed": false
   },
   "outputs": [],
   "source": [
    "def queries(search_query='cs.OS', start = 0, max_results = 5, path=path, is_new=False):\n",
    "    '''\n",
    "    Description\n",
    "    \n",
    "    '''\n",
    "    # Base api query url\n",
    "    base_url = 'http://export.arxiv.org/api/query?'\n",
    "\n",
    "    # Opensearch metadata such as totalResults, startIndex, \n",
    "    # and itemsPerPage live in the opensearch namespase.\n",
    "    # Some entry metadata lives in the arXiv namespace.\n",
    "    # This is a hack to expose both of these namespaces in \n",
    "    #feedparser v4.1\n",
    "    feedparser._FeedParserMixin.namespaces['http://a9.com/-/spec/opensearch/1.1/'] = 'opensearch'\n",
    "    feedparser._FeedParserMixin.namespaces['http://arxiv.org/schemas/atom'] = 'arxiv'\n",
    "\n",
    "    # perform a GET request using the base_url and query\n",
    "    query = 'search_query=%s&start=%i&max_results=%i' % (search_query, 0, 1)\n",
    "    response = request.urlopen(base_url + query).read()\n",
    "\n",
    "    # parse the response using feedparser\n",
    "    feed = feedparser.parse(response)\n",
    "    \n",
    "    # nubmer of all articles for search_query\n",
    "    totalResults = int(feed.feed.opensearch_totalresults.split('totalResults for this query: ')[0])\n",
    "    \n",
    "    # Search parameters\n",
    "    total_results = totalResults                 # want all total results\n",
    "    results_per_iteration = 500                  # 500 results at a time\n",
    "    wait_time = 3                                # number of seconds to wait beetween calls\n",
    "    \n",
    "    \n",
    "    print('Searching arXiv for %s' % subjects_dictionary[search_query])\n",
    "    print(\"Number of documents: %d\" % totalResults)\n",
    "    \n",
    "    # We will writing metadata to csv-file\n",
    "    result = path + 'queries.csv'\n",
    "    names = ['id','title', 'primary_category', 'category', 'source_link', 'pdf_link']\n",
    "    if is_new:\n",
    "        f = open(result, \"w+\")\n",
    "        f.close()\n",
    "        \n",
    "    f = open(result, 'a+')\n",
    "    writer = csv.DictWriter(f, fieldnames=names)\n",
    "    if os.stat(result).st_size == 0:\n",
    "        writer.writeheader()\n",
    "    \n",
    "    for i in range(start, total_results, results_per_iteration):\n",
    "        #print(\"Results %i - %i\" % (i, i + results_per_iteration))\n",
    "        query = 'search_query=%s&start=%i&max_results=%i' % (search_query, i, results_per_iteration)\n",
    "        \n",
    "        # perform a GET request using the base_url and query\n",
    "        response = request.urlopen(base_url + query).read()\n",
    "\n",
    "        # parse the response using feedparser\n",
    "        feed = feedparser.parse(response)\n",
    "\n",
    "        # Run through each entry, and print out information\n",
    "        for entry in feed.entries:\n",
    "            arxiv_id = entry.id.split('/abs/')[-1]\n",
    "            title = entry.title\n",
    "            \n",
    "            # Get primary category\n",
    "            primary_category = entry.arxiv_primary_category['term']\n",
    "            \n",
    "            # Lets get all the categories\n",
    "            all_categories = [t['term'] for t in entry.tags]\n",
    "            \n",
    "            # get the links to the abs page and pdf for this e-print\n",
    "            for link in entry.links:\n",
    "                if link.rel == 'alternate':\n",
    "                    source_link = link.href.replace('abs','e-print')\n",
    "                elif link.title == 'pdf':\n",
    "                    pdf_link = link.href\n",
    "            \n",
    "            try:\n",
    "                writer.writerow({'id': arxiv_id,\n",
    "                             'title': title,\n",
    "                             'primary_category': primary_category,\n",
    "                             'category': all_categories,\n",
    "                             'source_link': source_link,\n",
    "                             'pdf_link': pdf_link})\n",
    "            except UnicodeEncodeError:\n",
    "                continue\n",
    "            \n",
    "        # Remember to play nice and sleep a bit before you call the api again!\n",
    "        time.sleep(wait_time)"
   ]
  },
  {
   "cell_type": "markdown",
   "metadata": {},
   "source": [
    "Теперь получим метаданные для всех документов каждой категории и запишем результат в файл."
   ]
  },
  {
   "cell_type": "code",
   "execution_count": null,
   "metadata": {
    "collapsed": false
   },
   "outputs": [],
   "source": [
    "%%time\n",
    "\n",
    "%time queries(search_query=abbreviations[0], is_new=True)\n",
    "print(\"\\n\")\n",
    "\n",
    "for cat in abbreviations[1:] :\n",
    "    %time queries(search_query=cat)\n",
    "    print(\"\\n\")"
   ]
  },
  {
   "cell_type": "markdown",
   "metadata": {},
   "source": [
    ">**Внимание!**  \n",
    "Общее время работы составляет около **13 часов** на ноутбуке Lenovo U410 (Intel Core i3). [Ссылка](https://drive.google.com/open?id=0B_NefGKQ1pCsaXpDc2doak1xY0E) на архив с файлом."
   ]
  },
  {
   "cell_type": "markdown",
   "metadata": {},
   "source": [
    "## Анализ метаданных"
   ]
  },
  {
   "cell_type": "code",
   "execution_count": 3,
   "metadata": {
    "collapsed": false
   },
   "outputs": [
    {
     "data": {
      "text/html": [
       "<div>\n",
       "<table border=\"1\" class=\"dataframe\">\n",
       "  <thead>\n",
       "    <tr style=\"text-align: right;\">\n",
       "      <th></th>\n",
       "      <th>id</th>\n",
       "      <th>title</th>\n",
       "      <th>primary_category</th>\n",
       "      <th>category</th>\n",
       "      <th>source_link</th>\n",
       "      <th>pdf_link</th>\n",
       "    </tr>\n",
       "  </thead>\n",
       "  <tbody>\n",
       "    <tr>\n",
       "      <th>1363562</th>\n",
       "      <td>1507.00104v1</td>\n",
       "      <td>Geometric Class Field Theory</td>\n",
       "      <td>math.AG</td>\n",
       "      <td>['math.AG']</td>\n",
       "      <td>http://arxiv.org/e-print/1507.00104v1</td>\n",
       "      <td>http://arxiv.org/pdf/1507.00104v1</td>\n",
       "    </tr>\n",
       "    <tr>\n",
       "      <th>1363563</th>\n",
       "      <td>1507.00254v2</td>\n",
       "      <td>The Crepant Transformation Conjecture implies ...</td>\n",
       "      <td>math.AG</td>\n",
       "      <td>['math.AG']</td>\n",
       "      <td>http://arxiv.org/e-print/1507.00254v2</td>\n",
       "      <td>http://arxiv.org/pdf/1507.00254v2</td>\n",
       "    </tr>\n",
       "    <tr>\n",
       "      <th>1363564</th>\n",
       "      <td>1507.00573v1</td>\n",
       "      <td>Comparison results for derived Deligne-Mumford...</td>\n",
       "      <td>math.AG</td>\n",
       "      <td>['math.AG']</td>\n",
       "      <td>http://arxiv.org/e-print/1507.00573v1</td>\n",
       "      <td>http://arxiv.org/pdf/1507.00573v1</td>\n",
       "    </tr>\n",
       "    <tr>\n",
       "      <th>1363565</th>\n",
       "      <td>1507.00624v1</td>\n",
       "      <td>Duality for dormant opers</td>\n",
       "      <td>math.AG</td>\n",
       "      <td>['math.AG', 'math.RT']</td>\n",
       "      <td>http://arxiv.org/e-print/1507.00624v1</td>\n",
       "      <td>http://arxiv.org/pdf/1507.00624v1</td>\n",
       "    </tr>\n",
       "    <tr>\n",
       "      <th>1363566</th>\n",
       "      <td>1507.00952v1</td>\n",
       "      <td>A new proof of the Caporaso-Sernesi theorem vi...</td>\n",
       "      <td>math.AG</td>\n",
       "      <td>['math.AG']</td>\n",
       "      <td>http://arxiv.org/e-print/1507.00952v1</td>\n",
       "      <td>http://arxiv.org/pdf/1507.00952v1</td>\n",
       "    </tr>\n",
       "  </tbody>\n",
       "</table>\n",
       "</div>"
      ],
      "text/plain": [
       "                   id                                              title  \\\n",
       "1363562  1507.00104v1                       Geometric Class Field Theory   \n",
       "1363563  1507.00254v2  The Crepant Transformation Conjecture implies ...   \n",
       "1363564  1507.00573v1  Comparison results for derived Deligne-Mumford...   \n",
       "1363565  1507.00624v1                          Duality for dormant opers   \n",
       "1363566  1507.00952v1  A new proof of the Caporaso-Sernesi theorem vi...   \n",
       "\n",
       "        primary_category                category  \\\n",
       "1363562          math.AG             ['math.AG']   \n",
       "1363563          math.AG             ['math.AG']   \n",
       "1363564          math.AG             ['math.AG']   \n",
       "1363565          math.AG  ['math.AG', 'math.RT']   \n",
       "1363566          math.AG             ['math.AG']   \n",
       "\n",
       "                                   source_link  \\\n",
       "1363562  http://arxiv.org/e-print/1507.00104v1   \n",
       "1363563  http://arxiv.org/e-print/1507.00254v2   \n",
       "1363564  http://arxiv.org/e-print/1507.00573v1   \n",
       "1363565  http://arxiv.org/e-print/1507.00624v1   \n",
       "1363566  http://arxiv.org/e-print/1507.00952v1   \n",
       "\n",
       "                                  pdf_link  \n",
       "1363562  http://arxiv.org/pdf/1507.00104v1  \n",
       "1363563  http://arxiv.org/pdf/1507.00254v2  \n",
       "1363564  http://arxiv.org/pdf/1507.00573v1  \n",
       "1363565  http://arxiv.org/pdf/1507.00624v1  \n",
       "1363566  http://arxiv.org/pdf/1507.00952v1  "
      ]
     },
     "execution_count": 3,
     "metadata": {},
     "output_type": "execute_result"
    }
   ],
   "source": [
    "queries = pd.read_csv(path + \"queries.csv\", encoding='cp1251')\n",
    "queries.tail()"
   ]
  },
  {
   "cell_type": "markdown",
   "metadata": {
    "collapsed": true
   },
   "source": [
    "Получился файл, содержащий более миллиона записей. Проверим нет ли повторяющихся записей в данной таблице."
   ]
  },
  {
   "cell_type": "code",
   "execution_count": 4,
   "metadata": {
    "collapsed": false
   },
   "outputs": [
    {
     "name": "stdout",
     "output_type": "stream",
     "text": [
      "Number of all queries: 1363567\n",
      "Number of unique queries: 937577\n",
      "Duplicates: 425990\n"
     ]
    }
   ],
   "source": [
    "n = len(queries)\n",
    "m = len(queries.drop_duplicates())\n",
    "print(\"Number of all queries: %d\" % n)\n",
    "print(\"Number of unique queries: %d\" % m)\n",
    "print(\"Duplicates: %d\" % (n - m))"
   ]
  },
  {
   "cell_type": "markdown",
   "metadata": {},
   "source": [
    "Удаляем дубли из таблицы"
   ]
  },
  {
   "cell_type": "code",
   "execution_count": 5,
   "metadata": {
    "collapsed": true
   },
   "outputs": [],
   "source": [
    "queries.drop_duplicates(inplace=True)\n",
    "queries.set_index(queries['id'], inplace=True)\n",
    "del queries['id']"
   ]
  },
  {
   "cell_type": "markdown",
   "metadata": {},
   "source": [
    "Посмотрим как распределяются категории. Построим гистограмму распределения частот всех категорий. "
   ]
  },
  {
   "cell_type": "code",
   "execution_count": 6,
   "metadata": {
    "collapsed": false
   },
   "outputs": [
    {
     "data": {
      "image/png": "[encoded data removed]",
      "text/plain": [
       "<matplotlib.figure.Figure at 0xcc4e3d1dd8>"
      ]
     },
     "metadata": {},
     "output_type": "display_data"
    }
   ],
   "source": [
    "plt.figure(figsize=(20,10))\n",
    "queries.primary_category.value_counts().plot(kind='bar', alpha=0.7)\n",
    "plt.title(\"Categories distribution\")\n",
    "plt.show()"
   ]
  },
  {
   "cell_type": "markdown",
   "metadata": {},
   "source": [
    "Распределение имеет длинный хвост -- это категории, которые покрывают небольшое количество статей. Выполним отсечение по медиане."
   ]
  },
  {
   "cell_type": "code",
   "execution_count": 7,
   "metadata": {
    "collapsed": false
   },
   "outputs": [],
   "source": [
    "median = np.median(queries.primary_category.value_counts())\n",
    "cat_count = dict(queries.primary_category.value_counts())\n",
    "selected = []\n",
    "\n",
    "for cat in cat_count.keys():\n",
    "    if cat_count[cat] > median:\n",
    "        selected.append(cat)\n",
    "        \n",
    "queries = queries[queries.primary_category.isin(selected)]"
   ]
  },
  {
   "cell_type": "markdown",
   "metadata": {},
   "source": [
    "После того как были выброшены редкие категории, распределение приобрело следующий вид"
   ]
  },
  {
   "cell_type": "code",
   "execution_count": 8,
   "metadata": {
    "collapsed": false
   },
   "outputs": [
    {
     "data": {
      "image/png": "[encoded data removed]",
      "text/plain": [
       "<matplotlib.figure.Figure at 0xcc2a255b00>"
      ]
     },
     "metadata": {},
     "output_type": "display_data"
    }
   ],
   "source": [
    "plt.figure(figsize=(20,10))\n",
    "queries.primary_category.value_counts().plot(kind='bar', alpha=0.7)\n",
    "plt.title(\"Categories distribution\")\n",
    "plt.show()"
   ]
  },
  {
   "cell_type": "markdown",
   "metadata": {},
   "source": [
    "Заменяем \"/\" на \"_\" в поле id"
   ]
  },
  {
   "cell_type": "code",
   "execution_count": 67,
   "metadata": {
    "collapsed": false
   },
   "outputs": [],
   "source": [
    "indexes = list(queries.index)\n",
    "for i, ind in enumerate(queries.index):\n",
    "    new_ind = ind.replace('/','_')\n",
    "    indexes[i] = new_ind"
   ]
  },
  {
   "cell_type": "code",
   "execution_count": 68,
   "metadata": {
    "collapsed": false
   },
   "outputs": [],
   "source": [
    "queries.set_index(np.array(indexes), inplace=True)"
   ]
  },
  {
   "cell_type": "markdown",
   "metadata": {},
   "source": [
    "В списке category встречаются неизвестные названия категорий, которые сложно интерепретировать, например, 'I.2.6; K.3.2'. Удалим эти метки из category."
   ]
  },
  {
   "cell_type": "code",
   "execution_count": 71,
   "metadata": {
    "collapsed": false
   },
   "outputs": [
    {
     "name": "stdout",
     "output_type": "stream",
     "text": [
      "0 iterations\n",
      "100000 iterations\n",
      "200000 iterations\n",
      "300000 iterations\n",
      "400000 iterations\n",
      "500000 iterations\n",
      "600000 iterations\n",
      "700000 iterations\n",
      "800000 iterations\n",
      "Wall time: 11min 11s\n"
     ]
    }
   ],
   "source": [
    "%%time\n",
    "for i in range(len(queries)):\n",
    "    \n",
    "    cat_list = []\n",
    "    c_list = queries.iloc[i].category\n",
    "    \n",
    "    if type(c_list) == str:\n",
    "        cat = eval(c_list)\n",
    "        if len(cat) == 1:\n",
    "            cat_list = cat\n",
    "        else:\n",
    "            for c in cat:\n",
    "                if c in set(selected):\n",
    "                    cat_list.append(c)\n",
    "        queries.iloc[i].category = cat_list\n",
    "        if i%100000 == 0:\n",
    "            print(\"%d iterations\" % i)"
   ]
  },
  {
   "cell_type": "code",
   "execution_count": 72,
   "metadata": {
    "collapsed": false
   },
   "outputs": [
    {
     "data": {
      "text/html": [
       "<div>\n",
       "<table border=\"1\" class=\"dataframe\">\n",
       "  <thead>\n",
       "    <tr style=\"text-align: right;\">\n",
       "      <th></th>\n",
       "      <th>title</th>\n",
       "      <th>primary_category</th>\n",
       "      <th>category</th>\n",
       "      <th>source_link</th>\n",
       "      <th>pdf_link</th>\n",
       "    </tr>\n",
       "  </thead>\n",
       "  <tbody>\n",
       "    <tr>\n",
       "      <th>0710.3447v1</th>\n",
       "      <td>Problems of Testology</td>\n",
       "      <td>stat.AP</td>\n",
       "      <td>[stat.AP]</td>\n",
       "      <td>http://arxiv.org/e-print/0710.3447v1</td>\n",
       "      <td>http://arxiv.org/pdf/0710.3447v1</td>\n",
       "    </tr>\n",
       "    <tr>\n",
       "      <th>0907.2480v1</th>\n",
       "      <td>Thoughts on new statistical procedures for age...</td>\n",
       "      <td>stat.AP</td>\n",
       "      <td>[stat.AP, stat.ME]</td>\n",
       "      <td>http://arxiv.org/e-print/0907.2480v1</td>\n",
       "      <td>http://arxiv.org/pdf/0907.2480v1</td>\n",
       "    </tr>\n",
       "    <tr>\n",
       "      <th>1108.0301v1</th>\n",
       "      <td>On the Concept of Snowball Sampling</td>\n",
       "      <td>stat.AP</td>\n",
       "      <td>[stat.AP]</td>\n",
       "      <td>http://arxiv.org/e-print/1108.0301v1</td>\n",
       "      <td>http://arxiv.org/pdf/1108.0301v1</td>\n",
       "    </tr>\n",
       "    <tr>\n",
       "      <th>1203.1421v1</th>\n",
       "      <td>A note on characterization based on past entropy</td>\n",
       "      <td>stat.AP</td>\n",
       "      <td>[stat.AP]</td>\n",
       "      <td>http://arxiv.org/e-print/1203.1421v1</td>\n",
       "      <td>http://arxiv.org/pdf/1203.1421v1</td>\n",
       "    </tr>\n",
       "    <tr>\n",
       "      <th>1012.4702v1</th>\n",
       "      <td>Experience Rating with Poisson Mixtures</td>\n",
       "      <td>stat.AP</td>\n",
       "      <td>[stat.AP]</td>\n",
       "      <td>http://arxiv.org/e-print/1012.4702v1</td>\n",
       "      <td>http://arxiv.org/pdf/1012.4702v1</td>\n",
       "    </tr>\n",
       "  </tbody>\n",
       "</table>\n",
       "</div>"
      ],
      "text/plain": [
       "                                                         title  \\\n",
       "0710.3447v1                              Problems of Testology   \n",
       "0907.2480v1  Thoughts on new statistical procedures for age...   \n",
       "1108.0301v1                On the Concept of Snowball Sampling   \n",
       "1203.1421v1   A note on characterization based on past entropy   \n",
       "1012.4702v1            Experience Rating with Poisson Mixtures   \n",
       "\n",
       "            primary_category            category  \\\n",
       "0710.3447v1          stat.AP           [stat.AP]   \n",
       "0907.2480v1          stat.AP  [stat.AP, stat.ME]   \n",
       "1108.0301v1          stat.AP           [stat.AP]   \n",
       "1203.1421v1          stat.AP           [stat.AP]   \n",
       "1012.4702v1          stat.AP           [stat.AP]   \n",
       "\n",
       "                                      source_link  \\\n",
       "0710.3447v1  http://arxiv.org/e-print/0710.3447v1   \n",
       "0907.2480v1  http://arxiv.org/e-print/0907.2480v1   \n",
       "1108.0301v1  http://arxiv.org/e-print/1108.0301v1   \n",
       "1203.1421v1  http://arxiv.org/e-print/1203.1421v1   \n",
       "1012.4702v1  http://arxiv.org/e-print/1012.4702v1   \n",
       "\n",
       "                                     pdf_link  \n",
       "0710.3447v1  http://arxiv.org/pdf/0710.3447v1  \n",
       "0907.2480v1  http://arxiv.org/pdf/0907.2480v1  \n",
       "1108.0301v1  http://arxiv.org/pdf/1108.0301v1  \n",
       "1203.1421v1  http://arxiv.org/pdf/1203.1421v1  \n",
       "1012.4702v1  http://arxiv.org/pdf/1012.4702v1  "
      ]
     },
     "execution_count": 72,
     "metadata": {},
     "output_type": "execute_result"
    }
   ],
   "source": [
    "queries.head()"
   ]
  },
  {
   "cell_type": "code",
   "execution_count": null,
   "metadata": {
    "collapsed": true
   },
   "outputs": [],
   "source": []
  },
  {
   "cell_type": "markdown",
   "metadata": {
    "collapsed": true
   },
   "source": [
    "Посмотрим к какому количеству тем относятся документы."
   ]
  },
  {
   "cell_type": "code",
   "execution_count": 73,
   "metadata": {
    "collapsed": false
   },
   "outputs": [
    {
     "data": {
      "image/png": "[encoded data removed]",
      "text/plain": [
       "<matplotlib.figure.Figure at 0xf798776160>"
      ]
     },
     "metadata": {},
     "output_type": "display_data"
    },
    {
     "name": "stdout",
     "output_type": "stream",
     "text": [
      "Максимальное число тем: 11\n",
      "Минимальное число тем: 1\n",
      "Среднее число тем: 1.497\n"
     ]
    }
   ],
   "source": [
    "freq = []\n",
    "for i in list(queries.category):\n",
    "    freq.append(len(i))\n",
    "\n",
    "plt.figure(figsize=(12,3))\n",
    "plt.hist(freq, alpha=0.7, bins=11)\n",
    "plt.show()\n",
    "\n",
    "print(\"Максимальное число тем: %d\" % max(freq))\n",
    "print(\"Минимальное число тем: %d\" % min(freq))\n",
    "print(\"Среднее число тем: %.3f\" % np.mean(freq))"
   ]
  },
  {
   "cell_type": "code",
   "execution_count": 77,
   "metadata": {
    "collapsed": false
   },
   "outputs": [
    {
     "data": {
      "text/plain": [
       "math.SP            2358\n",
       "cs.DB              2213\n",
       "q-bio.NC           2165\n",
       "physics.data-an    2140\n",
       "cs.CY              2106\n",
       "Name: primary_category, dtype: int64"
      ]
     },
     "execution_count": 77,
     "metadata": {},
     "output_type": "execute_result"
    }
   ],
   "source": [
    "queries.primary_category.value_counts().tail()"
   ]
  },
  {
   "cell_type": "code",
   "execution_count": 78,
   "metadata": {
    "collapsed": false
   },
   "outputs": [
    {
     "data": {
      "text/html": [
       "<div>\n",
       "<table border=\"1\" class=\"dataframe\">\n",
       "  <thead>\n",
       "    <tr style=\"text-align: right;\">\n",
       "      <th></th>\n",
       "      <th>title</th>\n",
       "      <th>primary_category</th>\n",
       "      <th>category</th>\n",
       "      <th>source_link</th>\n",
       "      <th>pdf_link</th>\n",
       "    </tr>\n",
       "  </thead>\n",
       "  <tbody>\n",
       "    <tr>\n",
       "      <th>0710.3447v1</th>\n",
       "      <td>Problems of Testology</td>\n",
       "      <td>stat.AP</td>\n",
       "      <td>[stat.AP]</td>\n",
       "      <td>http://arxiv.org/e-print/0710.3447v1</td>\n",
       "      <td>http://arxiv.org/pdf/0710.3447v1</td>\n",
       "    </tr>\n",
       "    <tr>\n",
       "      <th>0907.2480v1</th>\n",
       "      <td>Thoughts on new statistical procedures for age...</td>\n",
       "      <td>stat.AP</td>\n",
       "      <td>[stat.AP, stat.ME]</td>\n",
       "      <td>http://arxiv.org/e-print/0907.2480v1</td>\n",
       "      <td>http://arxiv.org/pdf/0907.2480v1</td>\n",
       "    </tr>\n",
       "    <tr>\n",
       "      <th>1108.0301v1</th>\n",
       "      <td>On the Concept of Snowball Sampling</td>\n",
       "      <td>stat.AP</td>\n",
       "      <td>[stat.AP]</td>\n",
       "      <td>http://arxiv.org/e-print/1108.0301v1</td>\n",
       "      <td>http://arxiv.org/pdf/1108.0301v1</td>\n",
       "    </tr>\n",
       "    <tr>\n",
       "      <th>1203.1421v1</th>\n",
       "      <td>A note on characterization based on past entropy</td>\n",
       "      <td>stat.AP</td>\n",
       "      <td>[stat.AP]</td>\n",
       "      <td>http://arxiv.org/e-print/1203.1421v1</td>\n",
       "      <td>http://arxiv.org/pdf/1203.1421v1</td>\n",
       "    </tr>\n",
       "    <tr>\n",
       "      <th>1012.4702v1</th>\n",
       "      <td>Experience Rating with Poisson Mixtures</td>\n",
       "      <td>stat.AP</td>\n",
       "      <td>[stat.AP]</td>\n",
       "      <td>http://arxiv.org/e-print/1012.4702v1</td>\n",
       "      <td>http://arxiv.org/pdf/1012.4702v1</td>\n",
       "    </tr>\n",
       "  </tbody>\n",
       "</table>\n",
       "</div>"
      ],
      "text/plain": [
       "                                                         title  \\\n",
       "0710.3447v1                              Problems of Testology   \n",
       "0907.2480v1  Thoughts on new statistical procedures for age...   \n",
       "1108.0301v1                On the Concept of Snowball Sampling   \n",
       "1203.1421v1   A note on characterization based on past entropy   \n",
       "1012.4702v1            Experience Rating with Poisson Mixtures   \n",
       "\n",
       "            primary_category            category  \\\n",
       "0710.3447v1          stat.AP           [stat.AP]   \n",
       "0907.2480v1          stat.AP  [stat.AP, stat.ME]   \n",
       "1108.0301v1          stat.AP           [stat.AP]   \n",
       "1203.1421v1          stat.AP           [stat.AP]   \n",
       "1012.4702v1          stat.AP           [stat.AP]   \n",
       "\n",
       "                                      source_link  \\\n",
       "0710.3447v1  http://arxiv.org/e-print/0710.3447v1   \n",
       "0907.2480v1  http://arxiv.org/e-print/0907.2480v1   \n",
       "1108.0301v1  http://arxiv.org/e-print/1108.0301v1   \n",
       "1203.1421v1  http://arxiv.org/e-print/1203.1421v1   \n",
       "1012.4702v1  http://arxiv.org/e-print/1012.4702v1   \n",
       "\n",
       "                                     pdf_link  \n",
       "0710.3447v1  http://arxiv.org/pdf/0710.3447v1  \n",
       "0907.2480v1  http://arxiv.org/pdf/0907.2480v1  \n",
       "1108.0301v1  http://arxiv.org/pdf/1108.0301v1  \n",
       "1203.1421v1  http://arxiv.org/pdf/1203.1421v1  \n",
       "1012.4702v1  http://arxiv.org/pdf/1012.4702v1  "
      ]
     },
     "execution_count": 78,
     "metadata": {},
     "output_type": "execute_result"
    }
   ],
   "source": [
    "queries.head()"
   ]
  },
  {
   "cell_type": "code",
   "execution_count": 79,
   "metadata": {
    "collapsed": true
   },
   "outputs": [],
   "source": [
    "# Записываем результат\n",
    "\n",
    "queries.to_csv(path + 'unique_queries.csv', index_label='id')"
   ]
  },
  {
   "cell_type": "markdown",
   "metadata": {},
   "source": [
    "Файл доступен по [ссылке](https://drive.google.com/open?id=0B_NefGKQ1pCsZjhzUFNTdnJPZlE)"
   ]
  },
  {
   "cell_type": "code",
   "execution_count": null,
   "metadata": {
    "collapsed": true
   },
   "outputs": [],
   "source": []
  },
  {
   "cell_type": "markdown",
   "metadata": {},
   "source": [
    "## Скачивание статей на диск"
   ]
  },
  {
   "cell_type": "markdown",
   "metadata": {},
   "source": [
    "Около 60 тысяч документов может быть получено в результате прямого скачивания архивов [KDD Cap 2003](http://www.cs.cornell.edu/projects/kddcup/datasets.html)"
   ]
  },
  {
   "cell_type": "markdown",
   "metadata": {},
   "source": [
    "Укажем путь, куда будут загружаться статьи"
   ]
  },
  {
   "cell_type": "code",
   "execution_count": 9,
   "metadata": {
    "collapsed": false
   },
   "outputs": [],
   "source": [
    "path_to_sources = 'C:/Users/user/Downloads/arxiv/source/'"
   ]
  },
  {
   "cell_type": "markdown",
   "metadata": {
    "collapsed": true
   },
   "source": [
    "Используем полученный ранее [файл](https://drive.google.com/open?id=0B_NefGKQ1pCsZjhzUFNTdnJPZlE) с метаданными статей для загрузки файлов на диск. Будем загружать только исходники, потому что  их проще обрабатывать (исходники записаны с формате tex, который имеет опреденную структуру и удобен для текстовой обработки)."
   ]
  },
  {
   "cell_type": "markdown",
   "metadata": {
    "collapsed": true
   },
   "source": [
    "Экспорт метаданных"
   ]
  },
  {
   "cell_type": "code",
   "execution_count": 3,
   "metadata": {
    "collapsed": false
   },
   "outputs": [
    {
     "data": {
      "text/html": [
       "<div>\n",
       "<table border=\"1\" class=\"dataframe\">\n",
       "  <thead>\n",
       "    <tr style=\"text-align: right;\">\n",
       "      <th></th>\n",
       "      <th>title</th>\n",
       "      <th>primary_category</th>\n",
       "      <th>category</th>\n",
       "      <th>source_link</th>\n",
       "      <th>pdf_link</th>\n",
       "    </tr>\n",
       "    <tr>\n",
       "      <th>id</th>\n",
       "      <th></th>\n",
       "      <th></th>\n",
       "      <th></th>\n",
       "      <th></th>\n",
       "      <th></th>\n",
       "    </tr>\n",
       "  </thead>\n",
       "  <tbody>\n",
       "    <tr>\n",
       "      <th>0710.3447v1</th>\n",
       "      <td>Problems of Testology</td>\n",
       "      <td>stat.AP</td>\n",
       "      <td>['stat.AP']</td>\n",
       "      <td>http://arxiv.org/e-print/0710.3447v1</td>\n",
       "      <td>http://arxiv.org/pdf/0710.3447v1</td>\n",
       "    </tr>\n",
       "    <tr>\n",
       "      <th>0907.2480v1</th>\n",
       "      <td>Thoughts on new statistical procedures for age...</td>\n",
       "      <td>stat.AP</td>\n",
       "      <td>['stat.AP', 'stat.ME']</td>\n",
       "      <td>http://arxiv.org/e-print/0907.2480v1</td>\n",
       "      <td>http://arxiv.org/pdf/0907.2480v1</td>\n",
       "    </tr>\n",
       "    <tr>\n",
       "      <th>1108.0301v1</th>\n",
       "      <td>On the Concept of Snowball Sampling</td>\n",
       "      <td>stat.AP</td>\n",
       "      <td>['stat.AP']</td>\n",
       "      <td>http://arxiv.org/e-print/1108.0301v1</td>\n",
       "      <td>http://arxiv.org/pdf/1108.0301v1</td>\n",
       "    </tr>\n",
       "    <tr>\n",
       "      <th>1203.1421v1</th>\n",
       "      <td>A note on characterization based on past entropy</td>\n",
       "      <td>stat.AP</td>\n",
       "      <td>['stat.AP']</td>\n",
       "      <td>http://arxiv.org/e-print/1203.1421v1</td>\n",
       "      <td>http://arxiv.org/pdf/1203.1421v1</td>\n",
       "    </tr>\n",
       "    <tr>\n",
       "      <th>1012.4702v1</th>\n",
       "      <td>Experience Rating with Poisson Mixtures</td>\n",
       "      <td>stat.AP</td>\n",
       "      <td>['stat.AP']</td>\n",
       "      <td>http://arxiv.org/e-print/1012.4702v1</td>\n",
       "      <td>http://arxiv.org/pdf/1012.4702v1</td>\n",
       "    </tr>\n",
       "  </tbody>\n",
       "</table>\n",
       "</div>"
      ],
      "text/plain": [
       "                                                         title  \\\n",
       "id                                                               \n",
       "0710.3447v1                              Problems of Testology   \n",
       "0907.2480v1  Thoughts on new statistical procedures for age...   \n",
       "1108.0301v1                On the Concept of Snowball Sampling   \n",
       "1203.1421v1   A note on characterization based on past entropy   \n",
       "1012.4702v1            Experience Rating with Poisson Mixtures   \n",
       "\n",
       "            primary_category                category  \\\n",
       "id                                                     \n",
       "0710.3447v1          stat.AP             ['stat.AP']   \n",
       "0907.2480v1          stat.AP  ['stat.AP', 'stat.ME']   \n",
       "1108.0301v1          stat.AP             ['stat.AP']   \n",
       "1203.1421v1          stat.AP             ['stat.AP']   \n",
       "1012.4702v1          stat.AP             ['stat.AP']   \n",
       "\n",
       "                                      source_link  \\\n",
       "id                                                  \n",
       "0710.3447v1  http://arxiv.org/e-print/0710.3447v1   \n",
       "0907.2480v1  http://arxiv.org/e-print/0907.2480v1   \n",
       "1108.0301v1  http://arxiv.org/e-print/1108.0301v1   \n",
       "1203.1421v1  http://arxiv.org/e-print/1203.1421v1   \n",
       "1012.4702v1  http://arxiv.org/e-print/1012.4702v1   \n",
       "\n",
       "                                     pdf_link  \n",
       "id                                             \n",
       "0710.3447v1  http://arxiv.org/pdf/0710.3447v1  \n",
       "0907.2480v1  http://arxiv.org/pdf/0907.2480v1  \n",
       "1108.0301v1  http://arxiv.org/pdf/1108.0301v1  \n",
       "1203.1421v1  http://arxiv.org/pdf/1203.1421v1  \n",
       "1012.4702v1  http://arxiv.org/pdf/1012.4702v1  "
      ]
     },
     "execution_count": 3,
     "metadata": {},
     "output_type": "execute_result"
    }
   ],
   "source": [
    "queries = pd.read_csv(path + \"unique_queries.csv\", encoding='cp1251', index_col='id')\n",
    "queries.head()"
   ]
  },
  {
   "cell_type": "markdown",
   "metadata": {},
   "source": [
    "Скачивание документов"
   ]
  },
  {
   "cell_type": "code",
   "execution_count": 37,
   "metadata": {
    "collapsed": false
   },
   "outputs": [],
   "source": [
    "def get_articles(queries=queries, category='stat.AP', limit=1000):\n",
    "    '''\n",
    "    Description\n",
    "    '''\n",
    "    metadata = queries[queries.primary_category == category]\n",
    "    n = len(metadata)\n",
    "    arxiv_id = metadata.index\n",
    "    sources = metadata.source_link\n",
    "    categories = metadata.primary_category.unique()\n",
    "    WAIT_TIME = 3\n",
    "    ANTI_BAN_TIME = 3 * 60\n",
    "    k = 0                                                             # count new files\n",
    "    \n",
    "    for i,ind in enumerate(arxiv_id):\n",
    "        filename = path_to_sources + ind  \n",
    "            \n",
    "        if os.path.isfile(filename):                                  # check existing\n",
    "            print(\"File %s already exist\" % ind)\n",
    "        \n",
    "        else:\n",
    "            try:\n",
    "                urlretrieve(sources[i], filename)                     # downloading file\n",
    "                k += 1\n",
    "                \n",
    "                if k % 10 == 1:\n",
    "                    time.sleep(WAIT_TIME) \n",
    "                    print(\"Loaded %d files\" % k)\n",
    "                if k % 1000 == 500:\n",
    "                    time.sleep(ANTI_BAN_TIME) \n",
    "                    print(\"Antiban. 3 min waiting...\" % k)\n",
    "                if k > limit:\n",
    "                    break\n",
    "                \n",
    "            except Exception:\n",
    "                print(\"Error\") "
   ]
  },
  {
   "cell_type": "markdown",
   "metadata": {},
   "source": [
    "Список всех категорий"
   ]
  },
  {
   "cell_type": "code",
   "execution_count": 34,
   "metadata": {
    "collapsed": false
   },
   "outputs": [
    {
     "data": {
      "text/plain": [
       "{'astro-ph': 43003,\n",
       " 'cond-mat.dis-nn': 7868,\n",
       " 'cond-mat.mes-hall': 32910,\n",
       " 'cond-mat.mtrl-sci': 28484,\n",
       " 'cond-mat.other': 5903,\n",
       " 'cond-mat.quant-gas': 2555,\n",
       " 'cond-mat.soft': 15845,\n",
       " 'cond-mat.stat-mech': 25021,\n",
       " 'cond-mat.str-el': 27909,\n",
       " 'cond-mat.supr-con': 20700,\n",
       " 'cs.AI': 6275,\n",
       " 'cs.CC': 2607,\n",
       " 'cs.CL': 3502,\n",
       " 'cs.CR': 4308,\n",
       " 'cs.CV': 8168,\n",
       " 'cs.CY': 2106,\n",
       " 'cs.DB': 2213,\n",
       " 'cs.DC': 3760,\n",
       " 'cs.DM': 2419,\n",
       " 'cs.DS': 5810,\n",
       " 'cs.GT': 2562,\n",
       " 'cs.IT': 16554,\n",
       " 'cs.LG': 5835,\n",
       " 'cs.LO': 4491,\n",
       " 'cs.NI': 6160,\n",
       " 'cs.SE': 2865,\n",
       " 'cs.SI': 2395,\n",
       " 'gr-qc': 34868,\n",
       " 'hep-ex': 14822,\n",
       " 'hep-lat': 13284,\n",
       " 'hep-ph': 54280,\n",
       " 'hep-th': 47397,\n",
       " 'math-ph': 20773,\n",
       " 'math.AC': 4368,\n",
       " 'math.AG': 19545,\n",
       " 'math.AP': 17439,\n",
       " 'math.AT': 4560,\n",
       " 'math.CA': 7461,\n",
       " 'math.CO': 19248,\n",
       " 'math.CV': 5183,\n",
       " 'math.DG': 15215,\n",
       " 'math.DS': 10393,\n",
       " 'math.FA': 8830,\n",
       " 'math.GR': 7294,\n",
       " 'math.GT': 8783,\n",
       " 'math.LO': 4437,\n",
       " 'math.MG': 3106,\n",
       " 'math.NA': 8272,\n",
       " 'math.NT': 14098,\n",
       " 'math.OA': 4968,\n",
       " 'math.OC': 8554,\n",
       " 'math.PR': 18905,\n",
       " 'math.QA': 6107,\n",
       " 'math.RA': 5523,\n",
       " 'math.RT': 7961,\n",
       " 'math.SG': 2821,\n",
       " 'math.SP': 2358,\n",
       " 'math.ST': 6908,\n",
       " 'nlin.CD': 5044,\n",
       " 'nlin.PS': 2537,\n",
       " 'nlin.SI': 3186,\n",
       " 'nucl-ex': 7423,\n",
       " 'nucl-th': 21351,\n",
       " 'physics.acc-ph': 3430,\n",
       " 'physics.atom-ph': 7049,\n",
       " 'physics.bio-ph': 3307,\n",
       " 'physics.chem-ph': 4137,\n",
       " 'physics.class-ph': 2804,\n",
       " 'physics.comp-ph': 2666,\n",
       " 'physics.data-an': 2140,\n",
       " 'physics.flu-dyn': 6489,\n",
       " 'physics.gen-ph': 6451,\n",
       " 'physics.ins-det': 6245,\n",
       " 'physics.optics': 12564,\n",
       " 'physics.plasm-ph': 5050,\n",
       " 'physics.soc-ph': 5806,\n",
       " 'q-bio.NC': 2165,\n",
       " 'q-bio.PE': 3352,\n",
       " 'quant-ph': 48254,\n",
       " 'stat.AP': 2910,\n",
       " 'stat.ME': 5113,\n",
       " 'stat.ML': 3884}"
      ]
     },
     "execution_count": 34,
     "metadata": {},
     "output_type": "execute_result"
    }
   ],
   "source": [
    "cat_count = dict(queries.primary_category.value_counts())\n",
    "cat_count"
   ]
  },
  {
   "cell_type": "markdown",
   "metadata": {},
   "source": [
    "Выбираем категорию, запускаем процесс скачивания"
   ]
  },
  {
   "cell_type": "code",
   "execution_count": 10,
   "metadata": {
    "collapsed": false
   },
   "outputs": [
    {
     "name": "stdout",
     "output_type": "stream",
     "text": [
      "Loading category cs.AI...\n"
     ]
    }
   ],
   "source": [
    "print(\"Loading category %s...\" % 'cs.AI')\n",
    "%time get_articles(category='cs.AI')"
   ]
  },
  {
   "cell_type": "markdown",
   "metadata": {
    "collapsed": true
   },
   "source": [
    ">**Замечание!**  \n",
    "Процесс скачивания занимает много времени. Средняя скорость загрузки составила ~10000 статей в сутки. Всего таким образом было скачано более 160 тысяч статей."
   ]
  },
  {
   "cell_type": "code",
   "execution_count": null,
   "metadata": {
    "collapsed": true
   },
   "outputs": [],
   "source": []
  }
 ],
 "metadata": {
  "anaconda-cloud": {},
  "kernelspec": {
   "display_name": "Python [Root]",
   "language": "python",
   "name": "Python [Root]"
  },
  "language_info": {
   "codemirror_mode": {
    "name": "ipython",
    "version": 3
   },
   "file_extension": ".py",
   "mimetype": "text/x-python",
   "name": "python",
   "nbconvert_exporter": "python",
   "pygments_lexer": "ipython3",
   "version": "3.5.2"
  }
 },
 "nbformat": 4,
 "nbformat_minor": 0
}
